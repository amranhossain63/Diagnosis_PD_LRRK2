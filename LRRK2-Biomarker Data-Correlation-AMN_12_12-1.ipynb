{
 "cells": [
  {
   "cell_type": "code",
   "execution_count": 1,
   "id": "a6b2a72f",
   "metadata": {},
   "outputs": [],
   "source": [
    "import pandas as pd \n",
    "import numpy as np\n",
    "\n",
    "import seaborn as sns\n",
    "import matplotlib.pyplot as plt\n",
    "\n",
    "from sklearn import preprocessing"
   ]
  },
  {
   "cell_type": "code",
   "execution_count": 2,
   "id": "a5a7a4d5",
   "metadata": {},
   "outputs": [],
   "source": [
    "biomarker_data = \"Data/\""
   ]
  },
  {
   "cell_type": "code",
   "execution_count": 3,
   "id": "d80fd609",
   "metadata": {},
   "outputs": [
    {
     "data": {
      "text/html": [
       "<div>\n",
       "<style scoped>\n",
       "    .dataframe tbody tr th:only-of-type {\n",
       "        vertical-align: middle;\n",
       "    }\n",
       "\n",
       "    .dataframe tbody tr th {\n",
       "        vertical-align: top;\n",
       "    }\n",
       "\n",
       "    .dataframe thead th {\n",
       "        text-align: right;\n",
       "    }\n",
       "</style>\n",
       "<table border=\"1\" class=\"dataframe\">\n",
       "  <thead>\n",
       "    <tr style=\"text-align: right;\">\n",
       "      <th></th>\n",
       "      <th>Biomarker_project_type</th>\n",
       "      <th>PR_DATE</th>\n",
       "      <th>Biomarker_PI</th>\n",
       "      <th>Biomarker_institution</th>\n",
       "      <th>Biomarker_projectID</th>\n",
       "      <th>Biomarker_sampletype</th>\n",
       "      <th>TESTNAME</th>\n",
       "      <th>TESTVALUE</th>\n",
       "      <th>UNITS</th>\n",
       "      <th>RUNDATE</th>\n",
       "      <th>...</th>\n",
       "      <th>SCAU26CT</th>\n",
       "      <th>SCAU26DT</th>\n",
       "      <th>LDOPRTYP</th>\n",
       "      <th>LDOPRSPC</th>\n",
       "      <th>DCLPDO5Y</th>\n",
       "      <th>GBA_var</th>\n",
       "      <th>GBA_status</th>\n",
       "      <th>LRRK2_var</th>\n",
       "      <th>LRRK2_status</th>\n",
       "      <th>APOE</th>\n",
       "    </tr>\n",
       "  </thead>\n",
       "  <tbody>\n",
       "    <tr>\n",
       "      <th>0</th>\n",
       "      <td>AJ_longitudinal</td>\n",
       "      <td>09/04/2015</td>\n",
       "      <td>Schwarzschild</td>\n",
       "      <td>Harvard</td>\n",
       "      <td>108</td>\n",
       "      <td>plasma</td>\n",
       "      <td>(4-Hydroxy-3-methoxyphenyl)ethanol</td>\n",
       "      <td>18197.20741</td>\n",
       "      <td>area</td>\n",
       "      <td>11/29/2018</td>\n",
       "      <td>...</td>\n",
       "      <td>Z</td>\n",
       "      <td>NaN</td>\n",
       "      <td>Z</td>\n",
       "      <td>6.0</td>\n",
       "      <td>1.0</td>\n",
       "      <td>NC</td>\n",
       "      <td>0.0</td>\n",
       "      <td>G2019S</td>\n",
       "      <td>1.0</td>\n",
       "      <td>E3/E3</td>\n",
       "    </tr>\n",
       "    <tr>\n",
       "      <th>1</th>\n",
       "      <td>AJ_longitudinal</td>\n",
       "      <td>09/04/2015</td>\n",
       "      <td>Schwarzschild</td>\n",
       "      <td>Harvard</td>\n",
       "      <td>108</td>\n",
       "      <td>plasma</td>\n",
       "      <td>(4-Hydroxy-3-methoxyphenyl)ethanol</td>\n",
       "      <td>0.0008928989999999998</td>\n",
       "      <td>area ratio</td>\n",
       "      <td>11/29/2018</td>\n",
       "      <td>...</td>\n",
       "      <td>Z</td>\n",
       "      <td>NaN</td>\n",
       "      <td>Z</td>\n",
       "      <td>6.0</td>\n",
       "      <td>1.0</td>\n",
       "      <td>NC</td>\n",
       "      <td>0.0</td>\n",
       "      <td>G2019S</td>\n",
       "      <td>1.0</td>\n",
       "      <td>E3/E3</td>\n",
       "    </tr>\n",
       "    <tr>\n",
       "      <th>2</th>\n",
       "      <td>AJ_longitudinal</td>\n",
       "      <td>09/04/2015</td>\n",
       "      <td>Schwarzschild</td>\n",
       "      <td>Harvard</td>\n",
       "      <td>108</td>\n",
       "      <td>plasma</td>\n",
       "      <td>1-Methylhistamine</td>\n",
       "      <td>31317.10022</td>\n",
       "      <td>area</td>\n",
       "      <td>11/29/2018</td>\n",
       "      <td>...</td>\n",
       "      <td>Z</td>\n",
       "      <td>NaN</td>\n",
       "      <td>Z</td>\n",
       "      <td>6.0</td>\n",
       "      <td>1.0</td>\n",
       "      <td>NC</td>\n",
       "      <td>0.0</td>\n",
       "      <td>G2019S</td>\n",
       "      <td>1.0</td>\n",
       "      <td>E3/E3</td>\n",
       "    </tr>\n",
       "    <tr>\n",
       "      <th>3</th>\n",
       "      <td>AJ_longitudinal</td>\n",
       "      <td>09/04/2015</td>\n",
       "      <td>Schwarzschild</td>\n",
       "      <td>Harvard</td>\n",
       "      <td>108</td>\n",
       "      <td>plasma</td>\n",
       "      <td>1-Methylhistamine</td>\n",
       "      <td>0.001670085</td>\n",
       "      <td>area ratio</td>\n",
       "      <td>11/29/2018</td>\n",
       "      <td>...</td>\n",
       "      <td>Z</td>\n",
       "      <td>NaN</td>\n",
       "      <td>Z</td>\n",
       "      <td>6.0</td>\n",
       "      <td>1.0</td>\n",
       "      <td>NC</td>\n",
       "      <td>0.0</td>\n",
       "      <td>G2019S</td>\n",
       "      <td>1.0</td>\n",
       "      <td>E3/E3</td>\n",
       "    </tr>\n",
       "    <tr>\n",
       "      <th>4</th>\n",
       "      <td>AJ_longitudinal</td>\n",
       "      <td>09/04/2015</td>\n",
       "      <td>Schwarzschild</td>\n",
       "      <td>Harvard</td>\n",
       "      <td>108</td>\n",
       "      <td>plasma</td>\n",
       "      <td>1-Methylhistidine</td>\n",
       "      <td>3234660.7810000004</td>\n",
       "      <td>area</td>\n",
       "      <td>11/29/2018</td>\n",
       "      <td>...</td>\n",
       "      <td>Z</td>\n",
       "      <td>NaN</td>\n",
       "      <td>Z</td>\n",
       "      <td>6.0</td>\n",
       "      <td>1.0</td>\n",
       "      <td>NC</td>\n",
       "      <td>0.0</td>\n",
       "      <td>G2019S</td>\n",
       "      <td>1.0</td>\n",
       "      <td>E3/E3</td>\n",
       "    </tr>\n",
       "  </tbody>\n",
       "</table>\n",
       "<p>5 rows × 54 columns</p>\n",
       "</div>"
      ],
      "text/plain": [
       "  Biomarker_project_type     PR_DATE   Biomarker_PI Biomarker_institution  \\\n",
       "0        AJ_longitudinal  09/04/2015  Schwarzschild               Harvard   \n",
       "1        AJ_longitudinal  09/04/2015  Schwarzschild               Harvard   \n",
       "2        AJ_longitudinal  09/04/2015  Schwarzschild               Harvard   \n",
       "3        AJ_longitudinal  09/04/2015  Schwarzschild               Harvard   \n",
       "4        AJ_longitudinal  09/04/2015  Schwarzschild               Harvard   \n",
       "\n",
       "   Biomarker_projectID Biomarker_sampletype  \\\n",
       "0                  108               plasma   \n",
       "1                  108               plasma   \n",
       "2                  108               plasma   \n",
       "3                  108               plasma   \n",
       "4                  108               plasma   \n",
       "\n",
       "                             TESTNAME              TESTVALUE       UNITS  \\\n",
       "0  (4-Hydroxy-3-methoxyphenyl)ethanol            18197.20741        area   \n",
       "1  (4-Hydroxy-3-methoxyphenyl)ethanol  0.0008928989999999998  area ratio   \n",
       "2                   1-Methylhistamine            31317.10022        area   \n",
       "3                   1-Methylhistamine            0.001670085  area ratio   \n",
       "4                   1-Methylhistidine     3234660.7810000004        area   \n",
       "\n",
       "      RUNDATE  ... SCAU26CT SCAU26DT LDOPRTYP  LDOPRSPC  DCLPDO5Y  GBA_var  \\\n",
       "0  11/29/2018  ...        Z      NaN        Z       6.0       1.0       NC   \n",
       "1  11/29/2018  ...        Z      NaN        Z       6.0       1.0       NC   \n",
       "2  11/29/2018  ...        Z      NaN        Z       6.0       1.0       NC   \n",
       "3  11/29/2018  ...        Z      NaN        Z       6.0       1.0       NC   \n",
       "4  11/29/2018  ...        Z      NaN        Z       6.0       1.0       NC   \n",
       "\n",
       "  GBA_status LRRK2_var  LRRK2_status   APOE  \n",
       "0        0.0    G2019S           1.0  E3/E3  \n",
       "1        0.0    G2019S           1.0  E3/E3  \n",
       "2        0.0    G2019S           1.0  E3/E3  \n",
       "3        0.0    G2019S           1.0  E3/E3  \n",
       "4        0.0    G2019S           1.0  E3/E3  \n",
       "\n",
       "[5 rows x 54 columns]"
      ]
     },
     "execution_count": 3,
     "metadata": {},
     "output_type": "execute_result"
    }
   ],
   "source": [
    "PD_DF = pd.read_csv(biomarker_data +\"F_longcross.csv\",low_memory=False)\n",
    "PD_DF.head()"
   ]
  },
  {
   "cell_type": "code",
   "execution_count": 4,
   "id": "35af84de",
   "metadata": {},
   "outputs": [
    {
     "data": {
      "text/plain": [
       "2595172"
      ]
     },
     "execution_count": 4,
     "metadata": {},
     "output_type": "execute_result"
    }
   ],
   "source": [
    "len(PD_DF)"
   ]
  },
  {
   "cell_type": "code",
   "execution_count": 5,
   "id": "c4e89d01",
   "metadata": {
    "scrolled": true
   },
   "outputs": [
    {
     "name": "stdout",
     "output_type": "stream",
     "text": [
      "<class 'pandas.core.frame.DataFrame'>\n",
      "RangeIndex: 2595172 entries, 0 to 2595171\n",
      "Data columns (total 54 columns):\n",
      " #   Column                  Dtype  \n",
      "---  ------                  -----  \n",
      " 0   Biomarker_project_type  object \n",
      " 1   PR_DATE                 object \n",
      " 2   Biomarker_PI            object \n",
      " 3   Biomarker_institution   object \n",
      " 4   Biomarker_projectID     int64  \n",
      " 5   Biomarker_sampletype    object \n",
      " 6   TESTNAME                object \n",
      " 7   TESTVALUE               object \n",
      " 8   UNITS                   object \n",
      " 9   RUNDATE                 object \n",
      " 10  lrrkid                  object \n",
      " 11  EVENT                   object \n",
      " 12  LRRK2_MUTATION          object \n",
      " 13  datasrc                 float64\n",
      " 14  gender                  float64\n",
      " 15  educcat_calc            float64\n",
      " 16  racetxt                 object \n",
      " 17  ethnctxt                object \n",
      " 18  pdenrl                  float64\n",
      " 19  agediag                 object \n",
      " 20  ageonset                object \n",
      " 21  demopd_ageassess        float64\n",
      " 22  pd_duration             float64\n",
      " 23  pdmedyn                 object \n",
      " 24  MCATOT                  float64\n",
      " 25  moca_ageassess          float64\n",
      " 26  updrs1                  object \n",
      " 27  updrs2                  object \n",
      " 28  updrs3                  object \n",
      " 29  nupdrs1p_ageassess      object \n",
      " 30  nupdrs2p_ageassess      object \n",
      " 31  nupdrs3_ageassess       object \n",
      " 32  STROKE                  object \n",
      " 33  HETRA                   object \n",
      " 34  PARKISM                 object \n",
      " 35  RLS                     object \n",
      " 36  NARCLPSY                object \n",
      " 37  DEPRS                   object \n",
      " 38  EPILEPSY                object \n",
      " 39  BRNINFM                 object \n",
      " 40  CNSOTH                  object \n",
      " 41  CNSOTHCM                object \n",
      " 42  SCAU26AT                object \n",
      " 43  SCAU26BT                object \n",
      " 44  SCAU26CT                object \n",
      " 45  SCAU26DT                object \n",
      " 46  LDOPRTYP                object \n",
      " 47  LDOPRSPC                float64\n",
      " 48  DCLPDO5Y                float64\n",
      " 49  GBA_var                 object \n",
      " 50  GBA_status              float64\n",
      " 51  LRRK2_var               object \n",
      " 52  LRRK2_status            float64\n",
      " 53  APOE                    object \n",
      "dtypes: float64(12), int64(1), object(41)\n",
      "memory usage: 1.0+ GB\n"
     ]
    }
   ],
   "source": [
    "PD_DF.info()"
   ]
  },
  {
   "cell_type": "code",
   "execution_count": 6,
   "id": "20666f78",
   "metadata": {},
   "outputs": [
    {
     "data": {
      "text/plain": [
       "Biomarker_project_type          0\n",
       "PR_DATE                         0\n",
       "Biomarker_PI                    0\n",
       "Biomarker_institution           0\n",
       "Biomarker_projectID             0\n",
       "Biomarker_sampletype         2606\n",
       "TESTNAME                      121\n",
       "TESTVALUE                  561012\n",
       "UNITS                         714\n",
       "RUNDATE                   1655646\n",
       "lrrkid                       2000\n",
       "EVENT                        4496\n",
       "LRRK2_MUTATION               4535\n",
       "datasrc                    173171\n",
       "gender                     173171\n",
       "educcat_calc               201397\n",
       "racetxt                    173171\n",
       "ethnctxt                   174921\n",
       "pdenrl                     173171\n",
       "agediag                   1333319\n",
       "ageonset                  1355893\n",
       "demopd_ageassess           179037\n",
       "pd_duration               1363621\n",
       "pdmedyn                    396215\n",
       "MCATOT                     254384\n",
       "moca_ageassess             231497\n",
       "updrs1                     173171\n",
       "updrs2                     173171\n",
       "updrs3                     173171\n",
       "nupdrs1p_ageassess        2210885\n",
       "nupdrs2p_ageassess        2210885\n",
       "nupdrs3_ageassess         2210885\n",
       "STROKE                     256742\n",
       "HETRA                      256742\n",
       "PARKISM                    256789\n",
       "RLS                        256810\n",
       "NARCLPSY                   256742\n",
       "DEPRS                      256742\n",
       "EPILEPSY                   256742\n",
       "BRNINFM                    256742\n",
       "CNSOTH                     261011\n",
       "CNSOTHCM                  2294964\n",
       "SCAU26AT                  2217177\n",
       "SCAU26BT                  2226707\n",
       "SCAU26CT                  2088939\n",
       "SCAU26DT                  2077663\n",
       "LDOPRTYP                   771120\n",
       "LDOPRSPC                  1047279\n",
       "DCLPDO5Y                  2290183\n",
       "GBA_var                   1436414\n",
       "GBA_status                1436414\n",
       "LRRK2_var                 2113718\n",
       "LRRK2_status              2113718\n",
       "APOE                      1436414\n",
       "dtype: int64"
      ]
     },
     "execution_count": 6,
     "metadata": {},
     "output_type": "execute_result"
    }
   ],
   "source": [
    "PD_DF.isnull().sum()"
   ]
  },
  {
   "cell_type": "code",
   "execution_count": 7,
   "id": "f764b65e",
   "metadata": {},
   "outputs": [],
   "source": [
    "PD_DF = PD_DF.dropna(axis=1, how='all')"
   ]
  },
  {
   "cell_type": "code",
   "execution_count": 8,
   "id": "27c32c62",
   "metadata": {},
   "outputs": [],
   "source": [
    "#PD_DF =PD_DF.dropna(subset = [\"lrrkid\",\"pdenrl\",'updrs1','updrs2','updrs3'])\n",
    "PD_DF =PD_DF.dropna(subset = [\"pdenrl\"])"
   ]
  },
  {
   "cell_type": "code",
   "execution_count": 9,
   "id": "68ea8ace",
   "metadata": {},
   "outputs": [
    {
     "data": {
      "text/plain": [
       "Biomarker_project_type          0\n",
       "PR_DATE                         0\n",
       "Biomarker_PI                    0\n",
       "Biomarker_institution           0\n",
       "Biomarker_projectID             0\n",
       "Biomarker_sampletype            0\n",
       "TESTNAME                      121\n",
       "TESTVALUE                  559804\n",
       "UNITS                         358\n",
       "RUNDATE                   1655646\n",
       "lrrkid                          0\n",
       "EVENT                           0\n",
       "LRRK2_MUTATION                  5\n",
       "datasrc                         0\n",
       "gender                          0\n",
       "educcat_calc                28226\n",
       "racetxt                         0\n",
       "ethnctxt                     1750\n",
       "pdenrl                          0\n",
       "agediag                   1160148\n",
       "ageonset                  1182722\n",
       "demopd_ageassess             5866\n",
       "pd_duration               1190450\n",
       "pdmedyn                    223044\n",
       "MCATOT                      81213\n",
       "moca_ageassess              58326\n",
       "updrs1                          0\n",
       "updrs2                          0\n",
       "updrs3                          0\n",
       "nupdrs1p_ageassess        2037714\n",
       "nupdrs2p_ageassess        2037714\n",
       "nupdrs3_ageassess         2037714\n",
       "STROKE                      83571\n",
       "HETRA                       83571\n",
       "PARKISM                     83618\n",
       "RLS                         83639\n",
       "NARCLPSY                    83571\n",
       "DEPRS                       83571\n",
       "EPILEPSY                    83571\n",
       "BRNINFM                     83571\n",
       "CNSOTH                      87840\n",
       "CNSOTHCM                  2121793\n",
       "SCAU26AT                  2044006\n",
       "SCAU26BT                  2053536\n",
       "SCAU26CT                  1915768\n",
       "SCAU26DT                  1904492\n",
       "LDOPRTYP                   597949\n",
       "LDOPRSPC                   874108\n",
       "DCLPDO5Y                  2117012\n",
       "GBA_var                   1328784\n",
       "GBA_status                1328784\n",
       "LRRK2_var                 2006088\n",
       "LRRK2_status              2006088\n",
       "APOE                      1328784\n",
       "dtype: int64"
      ]
     },
     "execution_count": 9,
     "metadata": {},
     "output_type": "execute_result"
    }
   ],
   "source": [
    "PD_DF.isnull().sum()"
   ]
  },
  {
   "cell_type": "code",
   "execution_count": null,
   "id": "0a0b1ac7",
   "metadata": {},
   "outputs": [],
   "source": []
  },
  {
   "cell_type": "code",
   "execution_count": 10,
   "id": "5affbcc5",
   "metadata": {},
   "outputs": [
    {
     "data": {
      "text/plain": [
       "964"
      ]
     },
     "execution_count": 10,
     "metadata": {},
     "output_type": "execute_result"
    }
   ],
   "source": [
    "PD_DF['lrrkid'].nunique()"
   ]
  },
  {
   "cell_type": "code",
   "execution_count": 11,
   "id": "a565a030",
   "metadata": {},
   "outputs": [
    {
     "data": {
      "text/plain": [
       "pdenrl\n",
       "1.0    1284921\n",
       "0.0    1137080\n",
       "Name: count, dtype: int64"
      ]
     },
     "execution_count": 11,
     "metadata": {},
     "output_type": "execute_result"
    }
   ],
   "source": [
    "PD_DF['pdenrl'].value_counts()"
   ]
  },
  {
   "cell_type": "code",
   "execution_count": 12,
   "id": "f13dff50",
   "metadata": {},
   "outputs": [
    {
     "data": {
      "text/html": [
       "<div>\n",
       "<style scoped>\n",
       "    .dataframe tbody tr th:only-of-type {\n",
       "        vertical-align: middle;\n",
       "    }\n",
       "\n",
       "    .dataframe tbody tr th {\n",
       "        vertical-align: top;\n",
       "    }\n",
       "\n",
       "    .dataframe thead th {\n",
       "        text-align: right;\n",
       "    }\n",
       "</style>\n",
       "<table border=\"1\" class=\"dataframe\">\n",
       "  <thead>\n",
       "    <tr style=\"text-align: right;\">\n",
       "      <th></th>\n",
       "      <th></th>\n",
       "      <th>lrrkid</th>\n",
       "    </tr>\n",
       "    <tr>\n",
       "      <th>gender</th>\n",
       "      <th>pdenrl</th>\n",
       "      <th></th>\n",
       "    </tr>\n",
       "  </thead>\n",
       "  <tbody>\n",
       "    <tr>\n",
       "      <th rowspan=\"2\" valign=\"top\">1.0</th>\n",
       "      <th>0.0</th>\n",
       "      <td>314</td>\n",
       "    </tr>\n",
       "    <tr>\n",
       "      <th>1.0</th>\n",
       "      <td>204</td>\n",
       "    </tr>\n",
       "    <tr>\n",
       "      <th rowspan=\"2\" valign=\"top\">2.0</th>\n",
       "      <th>0.0</th>\n",
       "      <td>210</td>\n",
       "    </tr>\n",
       "    <tr>\n",
       "      <th>1.0</th>\n",
       "      <td>237</td>\n",
       "    </tr>\n",
       "  </tbody>\n",
       "</table>\n",
       "</div>"
      ],
      "text/plain": [
       "               lrrkid\n",
       "gender pdenrl        \n",
       "1.0    0.0        314\n",
       "       1.0        204\n",
       "2.0    0.0        210\n",
       "       1.0        237"
      ]
     },
     "execution_count": 12,
     "metadata": {},
     "output_type": "execute_result"
    }
   ],
   "source": [
    "df_gender = PD_DF.groupby(['gender','pdenrl'])\n",
    "\n",
    "df_gender = df_gender.agg({'lrrkid':'nunique'})\n",
    "\n",
    "df_gender.head()"
   ]
  },
  {
   "cell_type": "code",
   "execution_count": 13,
   "id": "339dae11",
   "metadata": {},
   "outputs": [
    {
     "name": "stdout",
     "output_type": "stream",
     "text": [
      "\n",
      "Number of occurrences of 'Z' in each column:\n",
      "Biomarker_project_type          0\n",
      "PR_DATE                         0\n",
      "Biomarker_PI                    0\n",
      "Biomarker_institution           0\n",
      "Biomarker_projectID             0\n",
      "Biomarker_sampletype            0\n",
      "TESTNAME                        0\n",
      "TESTVALUE                       0\n",
      "UNITS                           0\n",
      "RUNDATE                         0\n",
      "lrrkid                          0\n",
      "EVENT                           0\n",
      "LRRK2_MUTATION                  0\n",
      "datasrc                         0\n",
      "gender                          0\n",
      "educcat_calc                    0\n",
      "racetxt                         0\n",
      "ethnctxt                   384287\n",
      "pdenrl                          0\n",
      "agediag                      4568\n",
      "ageonset                     1985\n",
      "demopd_ageassess                0\n",
      "pd_duration                     0\n",
      "pdmedyn                   2198957\n",
      "MCATOT                          0\n",
      "moca_ageassess                  0\n",
      "updrs1                    2330634\n",
      "updrs2                    2330634\n",
      "updrs3                    2330634\n",
      "nupdrs1p_ageassess         292920\n",
      "nupdrs2p_ageassess         292920\n",
      "nupdrs3_ageassess          292920\n",
      "STROKE                     292920\n",
      "HETRA                      292920\n",
      "PARKISM                    292920\n",
      "RLS                        292920\n",
      "NARCLPSY                   292920\n",
      "DEPRS                      292920\n",
      "EPILEPSY                   292920\n",
      "BRNINFM                    292920\n",
      "CNSOTH                     297488\n",
      "CNSOTHCM                   294134\n",
      "SCAU26AT                   292920\n",
      "SCAU26BT                   292920\n",
      "SCAU26CT                   292920\n",
      "SCAU26DT                        0\n",
      "LDOPRTYP                   292920\n",
      "LDOPRSPC                        0\n",
      "DCLPDO5Y                        0\n",
      "GBA_var                         0\n",
      "GBA_status                      0\n",
      "LRRK2_var                       0\n",
      "LRRK2_status                    0\n",
      "APOE                            0\n",
      "dtype: int64\n"
     ]
    }
   ],
   "source": [
    "count_per_column = PD_DF.apply(lambda col: (col == \"Z\").sum())\n",
    "\n",
    "\n",
    "print(\"\\nNumber of occurrences of '{}' in each column:\".format(\"Z\"))\n",
    "print(count_per_column)"
   ]
  },
  {
   "cell_type": "code",
   "execution_count": 14,
   "id": "e34fab56",
   "metadata": {},
   "outputs": [],
   "source": [
    "columns_to_convert = ['demopd_ageassess','pd_duration','MCATOT']\n",
    "\n",
    "PD_DF[columns_to_convert] = PD_DF[columns_to_convert].apply(pd.to_numeric)"
   ]
  },
  {
   "cell_type": "code",
   "execution_count": 15,
   "id": "9734f958",
   "metadata": {},
   "outputs": [],
   "source": [
    "pddfage = PD_DF[['agediag','ageonset']]"
   ]
  },
  {
   "cell_type": "code",
   "execution_count": 16,
   "id": "d56c7ba8",
   "metadata": {},
   "outputs": [],
   "source": [
    "pddfage = pddfage[pddfage['ageonset'] != 'Z']\n",
    "pddfage = pddfage[pddfage['agediag'] != 'Z']"
   ]
  },
  {
   "cell_type": "code",
   "execution_count": 17,
   "id": "fece9ccc",
   "metadata": {},
   "outputs": [],
   "source": [
    "columns_to_convert = ['agediag','ageonset']\n",
    "\n",
    "pddfage[columns_to_convert] = pddfage[columns_to_convert].apply(pd.to_numeric)"
   ]
  },
  {
   "cell_type": "code",
   "execution_count": 18,
   "id": "2c230d2c",
   "metadata": {},
   "outputs": [
    {
     "data": {
      "text/plain": [
       "<Axes: >"
      ]
     },
     "execution_count": 18,
     "metadata": {},
     "output_type": "execute_result"
    },
    {
     "data": {
      "image/png": "[encoded data removed]",
      "text/plain": [
       "<Figure size 640x480 with 1 Axes>"
      ]
     },
     "metadata": {},
     "output_type": "display_data"
    }
   ],
   "source": [
    "pddfage['agediag'].hist()"
   ]
  },
  {
   "cell_type": "code",
   "execution_count": 19,
   "id": "3f744d14",
   "metadata": {},
   "outputs": [
    {
     "data": {
      "text/plain": [
       "count    1.256703e+06\n",
       "mean     5.551298e+01\n",
       "std      1.149104e+01\n",
       "min      2.500000e+01\n",
       "25%      4.700000e+01\n",
       "50%      5.600000e+01\n",
       "75%      6.400000e+01\n",
       "max      8.300000e+01\n",
       "Name: agediag, dtype: float64"
      ]
     },
     "execution_count": 19,
     "metadata": {},
     "output_type": "execute_result"
    }
   ],
   "source": [
    "pddfage['agediag'].describe()"
   ]
  },
  {
   "cell_type": "code",
   "execution_count": 20,
   "id": "6930a526",
   "metadata": {},
   "outputs": [
    {
     "data": {
      "text/plain": [
       "<Axes: ylabel='agediag'>"
      ]
     },
     "execution_count": 20,
     "metadata": {},
     "output_type": "execute_result"
    },
    {
     "data": {
      "image/png": "[encoded data removed]",
      "text/plain": [
       "<Figure size 640x480 with 1 Axes>"
      ]
     },
     "metadata": {},
     "output_type": "display_data"
    }
   ],
   "source": [
    "sns.boxplot(y = pddfage['agediag'])"
   ]
  },
  {
   "cell_type": "code",
   "execution_count": 21,
   "id": "150537cc",
   "metadata": {},
   "outputs": [
    {
     "data": {
      "text/plain": [
       "<Axes: >"
      ]
     },
     "execution_count": 21,
     "metadata": {},
     "output_type": "execute_result"
    },
    {
     "data": {
      "image/png": "[encoded data removed]",
      "text/plain": [
       "<Figure size 640x480 with 1 Axes>"
      ]
     },
     "metadata": {},
     "output_type": "display_data"
    }
   ],
   "source": [
    "pddfage['ageonset'].hist()"
   ]
  },
  {
   "cell_type": "code",
   "execution_count": 22,
   "id": "3a0d1909",
   "metadata": {},
   "outputs": [
    {
     "data": {
      "text/plain": [
       "count    1.235593e+06\n",
       "mean     5.365344e+01\n",
       "std      1.210717e+01\n",
       "min      2.000000e+01\n",
       "25%      4.400000e+01\n",
       "50%      5.500000e+01\n",
       "75%      6.400000e+01\n",
       "max      8.300000e+01\n",
       "Name: ageonset, dtype: float64"
      ]
     },
     "execution_count": 22,
     "metadata": {},
     "output_type": "execute_result"
    }
   ],
   "source": [
    "pddfage['ageonset'].describe()"
   ]
  },
  {
   "cell_type": "code",
   "execution_count": 23,
   "id": "8cf0480a",
   "metadata": {},
   "outputs": [
    {
     "data": {
      "text/plain": [
       "<Axes: ylabel='ageonset'>"
      ]
     },
     "execution_count": 23,
     "metadata": {},
     "output_type": "execute_result"
    },
    {
     "data": {
      "image/png": "[encoded data removed]",
      "text/plain": [
       "<Figure size 640x480 with 1 Axes>"
      ]
     },
     "metadata": {},
     "output_type": "display_data"
    }
   ],
   "source": [
    "sns.boxplot(y = pddfage['ageonset'])"
   ]
  },
  {
   "cell_type": "code",
   "execution_count": 24,
   "id": "a8b3a709",
   "metadata": {},
   "outputs": [
    {
     "data": {
      "text/plain": [
       "<Axes: >"
      ]
     },
     "execution_count": 24,
     "metadata": {},
     "output_type": "execute_result"
    },
    {
     "data": {
      "image/png": "[encoded data removed]",
      "text/plain": [
       "<Figure size 640x480 with 1 Axes>"
      ]
     },
     "metadata": {},
     "output_type": "display_data"
    }
   ],
   "source": [
    "PD_DF['demopd_ageassess'].hist()"
   ]
  },
  {
   "cell_type": "code",
   "execution_count": 25,
   "id": "61f1ec21",
   "metadata": {},
   "outputs": [
    {
     "data": {
      "text/plain": [
       "count    2.416135e+06\n",
       "mean     5.819611e+01\n",
       "std      1.360899e+01\n",
       "min      2.000000e+01\n",
       "25%      4.800000e+01\n",
       "50%      5.900000e+01\n",
       "75%      6.700000e+01\n",
       "max      9.000000e+01\n",
       "Name: demopd_ageassess, dtype: float64"
      ]
     },
     "execution_count": 25,
     "metadata": {},
     "output_type": "execute_result"
    }
   ],
   "source": [
    "PD_DF['demopd_ageassess'].describe()"
   ]
  },
  {
   "cell_type": "code",
   "execution_count": 26,
   "id": "775b235a",
   "metadata": {},
   "outputs": [
    {
     "data": {
      "text/plain": [
       "<Axes: ylabel='demopd_ageassess'>"
      ]
     },
     "execution_count": 26,
     "metadata": {},
     "output_type": "execute_result"
    },
    {
     "data": {
      "image/png": "[encoded data removed]",
      "text/plain": [
       "<Figure size 640x480 with 1 Axes>"
      ]
     },
     "metadata": {},
     "output_type": "display_data"
    }
   ],
   "source": [
    "sns.boxplot(y = PD_DF['demopd_ageassess'])"
   ]
  },
  {
   "cell_type": "markdown",
   "id": "b292dfcc",
   "metadata": {},
   "source": [
    "PD_DF['pd_duration'].hist()"
   ]
  },
  {
   "cell_type": "code",
   "execution_count": 27,
   "id": "d519d946",
   "metadata": {},
   "outputs": [
    {
     "data": {
      "text/plain": [
       "count    1.231551e+06\n",
       "mean     8.024010e+00\n",
       "std      5.155542e+00\n",
       "min     -2.000000e+00\n",
       "25%      4.000000e+00\n",
       "50%      7.000000e+00\n",
       "75%      1.100000e+01\n",
       "max      3.300000e+01\n",
       "Name: pd_duration, dtype: float64"
      ]
     },
     "execution_count": 27,
     "metadata": {},
     "output_type": "execute_result"
    }
   ],
   "source": [
    "PD_DF['pd_duration'].describe()"
   ]
  },
  {
   "cell_type": "markdown",
   "id": "68c5c802",
   "metadata": {},
   "source": [
    "sns.boxplot(y = PD_DF['pd_duration'])"
   ]
  },
  {
   "cell_type": "markdown",
   "id": "f356aceb",
   "metadata": {},
   "source": [
    "PD_DF['MCATOT'].hist()"
   ]
  },
  {
   "cell_type": "code",
   "execution_count": 28,
   "id": "85ff1297",
   "metadata": {},
   "outputs": [
    {
     "data": {
      "text/plain": [
       "count    2.340788e+06\n",
       "mean     2.624418e+01\n",
       "std      3.042796e+00\n",
       "min      3.000000e+00\n",
       "25%      2.500000e+01\n",
       "50%      2.700000e+01\n",
       "75%      2.800000e+01\n",
       "max      3.000000e+01\n",
       "Name: MCATOT, dtype: float64"
      ]
     },
     "execution_count": 28,
     "metadata": {},
     "output_type": "execute_result"
    }
   ],
   "source": [
    "PD_DF['MCATOT'].describe()"
   ]
  },
  {
   "cell_type": "code",
   "execution_count": 29,
   "id": "d456bf69",
   "metadata": {},
   "outputs": [
    {
     "data": {
      "text/plain": [
       "<Axes: ylabel='MCATOT'>"
      ]
     },
     "execution_count": 29,
     "metadata": {},
     "output_type": "execute_result"
    },
    {
     "data": {
      "image/png": "[encoded data removed]",
      "text/plain": [
       "<Figure size 640x480 with 1 Axes>"
      ]
     },
     "metadata": {},
     "output_type": "display_data"
    }
   ],
   "source": [
    "sns.boxplot(y = PD_DF['MCATOT'])"
   ]
  },
  {
   "cell_type": "code",
   "execution_count": null,
   "id": "a9e23ed5",
   "metadata": {},
   "outputs": [],
   "source": []
  },
  {
   "cell_type": "code",
   "execution_count": 30,
   "id": "6b4c9755",
   "metadata": {},
   "outputs": [],
   "source": [
    "columns_to_drop = ['Biomarker_projectID','racetxt','educcat_calc','ageonset','PARKISM','agediag','demopd_ageassess',\n",
    "                   'pd_duration','Biomarker_project_type', 'PR_DATE','Biomarker_PI','Biomarker_institution',\n",
    "                   'EVENT','LRRK2_MUTATION','datasrc','GBA_var','LRRK2_var','updrs1','updrs2','updrs3',\n",
    "                   'nupdrs1p_ageassess','nupdrs2p_ageassess','nupdrs3_ageassess','GBA_status','GBA_status',\"ethnctxt\",\n",
    "                   \"SCAU26DT\",'LRRK2_status','moca_ageassess','pdmedyn',\"UNITS\",\"DCLPDO5Y\"] "
   ]
  },
  {
   "cell_type": "code",
   "execution_count": 31,
   "id": "fc3b9c80",
   "metadata": {},
   "outputs": [],
   "source": [
    "PD_DF = PD_DF.drop(columns=columns_to_drop)"
   ]
  },
  {
   "cell_type": "code",
   "execution_count": 32,
   "id": "aa2e8e18",
   "metadata": {},
   "outputs": [
    {
     "data": {
      "text/html": [
       "<div>\n",
       "<style scoped>\n",
       "    .dataframe tbody tr th:only-of-type {\n",
       "        vertical-align: middle;\n",
       "    }\n",
       "\n",
       "    .dataframe tbody tr th {\n",
       "        vertical-align: top;\n",
       "    }\n",
       "\n",
       "    .dataframe thead th {\n",
       "        text-align: right;\n",
       "    }\n",
       "</style>\n",
       "<table border=\"1\" class=\"dataframe\">\n",
       "  <thead>\n",
       "    <tr style=\"text-align: right;\">\n",
       "      <th></th>\n",
       "      <th>Biomarker_sampletype</th>\n",
       "      <th>TESTNAME</th>\n",
       "      <th>TESTVALUE</th>\n",
       "      <th>RUNDATE</th>\n",
       "      <th>lrrkid</th>\n",
       "      <th>gender</th>\n",
       "      <th>pdenrl</th>\n",
       "      <th>MCATOT</th>\n",
       "      <th>STROKE</th>\n",
       "      <th>HETRA</th>\n",
       "      <th>...</th>\n",
       "      <th>EPILEPSY</th>\n",
       "      <th>BRNINFM</th>\n",
       "      <th>CNSOTH</th>\n",
       "      <th>CNSOTHCM</th>\n",
       "      <th>SCAU26AT</th>\n",
       "      <th>SCAU26BT</th>\n",
       "      <th>SCAU26CT</th>\n",
       "      <th>LDOPRTYP</th>\n",
       "      <th>LDOPRSPC</th>\n",
       "      <th>APOE</th>\n",
       "    </tr>\n",
       "  </thead>\n",
       "  <tbody>\n",
       "    <tr>\n",
       "      <th>0</th>\n",
       "      <td>plasma</td>\n",
       "      <td>(4-Hydroxy-3-methoxyphenyl)ethanol</td>\n",
       "      <td>18197.20741</td>\n",
       "      <td>11/29/2018</td>\n",
       "      <td>1420001</td>\n",
       "      <td>2.0</td>\n",
       "      <td>1.0</td>\n",
       "      <td>25.0</td>\n",
       "      <td>Z</td>\n",
       "      <td>Z</td>\n",
       "      <td>...</td>\n",
       "      <td>Z</td>\n",
       "      <td>Z</td>\n",
       "      <td>Z</td>\n",
       "      <td>Z</td>\n",
       "      <td>Z</td>\n",
       "      <td>Z</td>\n",
       "      <td>Z</td>\n",
       "      <td>Z</td>\n",
       "      <td>6.0</td>\n",
       "      <td>E3/E3</td>\n",
       "    </tr>\n",
       "    <tr>\n",
       "      <th>1</th>\n",
       "      <td>plasma</td>\n",
       "      <td>(4-Hydroxy-3-methoxyphenyl)ethanol</td>\n",
       "      <td>0.0008928989999999998</td>\n",
       "      <td>11/29/2018</td>\n",
       "      <td>1420001</td>\n",
       "      <td>2.0</td>\n",
       "      <td>1.0</td>\n",
       "      <td>25.0</td>\n",
       "      <td>Z</td>\n",
       "      <td>Z</td>\n",
       "      <td>...</td>\n",
       "      <td>Z</td>\n",
       "      <td>Z</td>\n",
       "      <td>Z</td>\n",
       "      <td>Z</td>\n",
       "      <td>Z</td>\n",
       "      <td>Z</td>\n",
       "      <td>Z</td>\n",
       "      <td>Z</td>\n",
       "      <td>6.0</td>\n",
       "      <td>E3/E3</td>\n",
       "    </tr>\n",
       "    <tr>\n",
       "      <th>2</th>\n",
       "      <td>plasma</td>\n",
       "      <td>1-Methylhistamine</td>\n",
       "      <td>31317.10022</td>\n",
       "      <td>11/29/2018</td>\n",
       "      <td>1420001</td>\n",
       "      <td>2.0</td>\n",
       "      <td>1.0</td>\n",
       "      <td>25.0</td>\n",
       "      <td>Z</td>\n",
       "      <td>Z</td>\n",
       "      <td>...</td>\n",
       "      <td>Z</td>\n",
       "      <td>Z</td>\n",
       "      <td>Z</td>\n",
       "      <td>Z</td>\n",
       "      <td>Z</td>\n",
       "      <td>Z</td>\n",
       "      <td>Z</td>\n",
       "      <td>Z</td>\n",
       "      <td>6.0</td>\n",
       "      <td>E3/E3</td>\n",
       "    </tr>\n",
       "    <tr>\n",
       "      <th>3</th>\n",
       "      <td>plasma</td>\n",
       "      <td>1-Methylhistamine</td>\n",
       "      <td>0.001670085</td>\n",
       "      <td>11/29/2018</td>\n",
       "      <td>1420001</td>\n",
       "      <td>2.0</td>\n",
       "      <td>1.0</td>\n",
       "      <td>25.0</td>\n",
       "      <td>Z</td>\n",
       "      <td>Z</td>\n",
       "      <td>...</td>\n",
       "      <td>Z</td>\n",
       "      <td>Z</td>\n",
       "      <td>Z</td>\n",
       "      <td>Z</td>\n",
       "      <td>Z</td>\n",
       "      <td>Z</td>\n",
       "      <td>Z</td>\n",
       "      <td>Z</td>\n",
       "      <td>6.0</td>\n",
       "      <td>E3/E3</td>\n",
       "    </tr>\n",
       "    <tr>\n",
       "      <th>4</th>\n",
       "      <td>plasma</td>\n",
       "      <td>1-Methylhistidine</td>\n",
       "      <td>3234660.7810000004</td>\n",
       "      <td>11/29/2018</td>\n",
       "      <td>1420001</td>\n",
       "      <td>2.0</td>\n",
       "      <td>1.0</td>\n",
       "      <td>25.0</td>\n",
       "      <td>Z</td>\n",
       "      <td>Z</td>\n",
       "      <td>...</td>\n",
       "      <td>Z</td>\n",
       "      <td>Z</td>\n",
       "      <td>Z</td>\n",
       "      <td>Z</td>\n",
       "      <td>Z</td>\n",
       "      <td>Z</td>\n",
       "      <td>Z</td>\n",
       "      <td>Z</td>\n",
       "      <td>6.0</td>\n",
       "      <td>E3/E3</td>\n",
       "    </tr>\n",
       "  </tbody>\n",
       "</table>\n",
       "<p>5 rows × 23 columns</p>\n",
       "</div>"
      ],
      "text/plain": [
       "  Biomarker_sampletype                            TESTNAME  \\\n",
       "0               plasma  (4-Hydroxy-3-methoxyphenyl)ethanol   \n",
       "1               plasma  (4-Hydroxy-3-methoxyphenyl)ethanol   \n",
       "2               plasma                   1-Methylhistamine   \n",
       "3               plasma                   1-Methylhistamine   \n",
       "4               plasma                   1-Methylhistidine   \n",
       "\n",
       "               TESTVALUE     RUNDATE   lrrkid  gender  pdenrl  MCATOT STROKE  \\\n",
       "0            18197.20741  11/29/2018  1420001     2.0     1.0    25.0      Z   \n",
       "1  0.0008928989999999998  11/29/2018  1420001     2.0     1.0    25.0      Z   \n",
       "2            31317.10022  11/29/2018  1420001     2.0     1.0    25.0      Z   \n",
       "3            0.001670085  11/29/2018  1420001     2.0     1.0    25.0      Z   \n",
       "4     3234660.7810000004  11/29/2018  1420001     2.0     1.0    25.0      Z   \n",
       "\n",
       "  HETRA  ... EPILEPSY BRNINFM CNSOTH CNSOTHCM SCAU26AT SCAU26BT SCAU26CT  \\\n",
       "0     Z  ...        Z       Z      Z        Z        Z        Z        Z   \n",
       "1     Z  ...        Z       Z      Z        Z        Z        Z        Z   \n",
       "2     Z  ...        Z       Z      Z        Z        Z        Z        Z   \n",
       "3     Z  ...        Z       Z      Z        Z        Z        Z        Z   \n",
       "4     Z  ...        Z       Z      Z        Z        Z        Z        Z   \n",
       "\n",
       "  LDOPRTYP LDOPRSPC   APOE  \n",
       "0        Z      6.0  E3/E3  \n",
       "1        Z      6.0  E3/E3  \n",
       "2        Z      6.0  E3/E3  \n",
       "3        Z      6.0  E3/E3  \n",
       "4        Z      6.0  E3/E3  \n",
       "\n",
       "[5 rows x 23 columns]"
      ]
     },
     "execution_count": 32,
     "metadata": {},
     "output_type": "execute_result"
    }
   ],
   "source": [
    "PD_DF.head()"
   ]
  },
  {
   "cell_type": "code",
   "execution_count": 33,
   "id": "aa7c245e",
   "metadata": {},
   "outputs": [
    {
     "data": {
      "text/plain": [
       "2422001"
      ]
     },
     "execution_count": 33,
     "metadata": {},
     "output_type": "execute_result"
    }
   ],
   "source": [
    "len(PD_DF)"
   ]
  },
  {
   "cell_type": "raw",
   "id": "1ea07dba",
   "metadata": {},
   "source": [
    "PD_DF = PD_DF[PD_DF['updrs1'] != 'Z']"
   ]
  },
  {
   "cell_type": "code",
   "execution_count": 34,
   "id": "d02b6d94",
   "metadata": {},
   "outputs": [
    {
     "data": {
      "text/plain": [
       "Biomarker_sampletype\n",
       "csf                    2055241\n",
       "serum                   267400\n",
       "plasma                   79505\n",
       "whole blood               6424\n",
       "urine exosome             4992\n",
       "urine                     3080\n",
       "nucleic acids             2769\n",
       "cerebrospinal fluid       1446\n",
       "human urine               1144\n",
       "Name: count, dtype: int64"
      ]
     },
     "execution_count": 34,
     "metadata": {},
     "output_type": "execute_result"
    }
   ],
   "source": [
    "PD_DF['Biomarker_sampletype'].value_counts()"
   ]
  },
  {
   "cell_type": "code",
   "execution_count": 35,
   "id": "af657d66",
   "metadata": {},
   "outputs": [],
   "source": [
    "PD_DF =PD_DF.dropna(subset = [\"TESTNAME\",\"TESTVALUE\"])"
   ]
  },
  {
   "cell_type": "code",
   "execution_count": 36,
   "id": "9bfc6ab8",
   "metadata": {},
   "outputs": [
    {
     "data": {
      "text/plain": [
       "Biomarker_sampletype          0\n",
       "TESTNAME                      0\n",
       "TESTVALUE                     0\n",
       "RUNDATE                 1211631\n",
       "lrrkid                        0\n",
       "gender                        0\n",
       "pdenrl                        0\n",
       "MCATOT                    65738\n",
       "STROKE                    62043\n",
       "HETRA                     62043\n",
       "RLS                       62111\n",
       "NARCLPSY                  62043\n",
       "DEPRS                     62043\n",
       "EPILEPSY                  62043\n",
       "BRNINFM                   62043\n",
       "CNSOTH                    65380\n",
       "CNSOTHCM                1565909\n",
       "SCAU26AT                1509835\n",
       "SCAU26BT                1515807\n",
       "SCAU26CT                1412863\n",
       "LDOPRTYP                 440442\n",
       "LDOPRSPC                 687053\n",
       "APOE                     992479\n",
       "dtype: int64"
      ]
     },
     "execution_count": 36,
     "metadata": {},
     "output_type": "execute_result"
    }
   ],
   "source": [
    "PD_DF.isnull().sum()"
   ]
  },
  {
   "cell_type": "code",
   "execution_count": 37,
   "id": "45ed3b67",
   "metadata": {},
   "outputs": [
    {
     "name": "stdout",
     "output_type": "stream",
     "text": [
      "\n",
      "Number of occurrences of 'Z' in each column:\n",
      "Biomarker_sampletype         0\n",
      "TESTNAME                     0\n",
      "TESTVALUE                    0\n",
      "RUNDATE                      0\n",
      "lrrkid                       0\n",
      "gender                       0\n",
      "pdenrl                       0\n",
      "MCATOT                       0\n",
      "STROKE                  290484\n",
      "HETRA                   290484\n",
      "RLS                     290484\n",
      "NARCLPSY                290484\n",
      "DEPRS                   290484\n",
      "EPILEPSY                290484\n",
      "BRNINFM                 290484\n",
      "CNSOTH                  295052\n",
      "CNSOTHCM                291698\n",
      "SCAU26AT                290484\n",
      "SCAU26BT                290484\n",
      "SCAU26CT                290484\n",
      "LDOPRTYP                290484\n",
      "LDOPRSPC                     0\n",
      "APOE                         0\n",
      "dtype: int64\n"
     ]
    }
   ],
   "source": [
    "count_per_column = PD_DF.apply(lambda col: (col == \"Z\").sum())\n",
    "\n",
    "\n",
    "print(\"\\nNumber of occurrences of '{}' in each column:\".format(\"Z\"))\n",
    "print(count_per_column)"
   ]
  },
  {
   "cell_type": "code",
   "execution_count": 38,
   "id": "482dd9c9",
   "metadata": {},
   "outputs": [],
   "source": [
    "from datetime import datetime\n",
    "\n",
    "def convert_to_desired_format(dt):\n",
    "    try:\n",
    "        parsed_dt = pd.to_datetime(dt)\n",
    "        formatted_dt = parsed_dt.strftime('%Y-%m-%d %H:%M:%S')\n",
    "        return formatted_dt\n",
    "    except:\n",
    "        return None  # Return None for invalid datetime values\n",
    "    \n",
    "\n",
    "    \n",
    "PD_DF['RUNDATE'] = PD_DF['RUNDATE'].apply(convert_to_desired_format)"
   ]
  },
  {
   "cell_type": "code",
   "execution_count": 39,
   "id": "7a1e491b",
   "metadata": {},
   "outputs": [
    {
     "name": "stdout",
     "output_type": "stream",
     "text": [
      "Minimum date: 2014-10-01 00:00:00\n",
      "Maximum date: 2021-11-05 00:00:00\n"
     ]
    }
   ],
   "source": [
    "PD_DF['RUNDATE'] = pd.to_datetime(PD_DF['RUNDATE'])\n",
    "\n",
    "# Find the date range\n",
    "min_date = PD_DF['RUNDATE'].min()\n",
    "max_date = PD_DF['RUNDATE'].max()\n",
    "\n",
    "print(\"Minimum date:\", min_date)\n",
    "print(\"Maximum date:\", max_date)"
   ]
  },
  {
   "cell_type": "code",
   "execution_count": 40,
   "id": "8b38ef68",
   "metadata": {},
   "outputs": [
    {
     "data": {
      "text/html": [
       "<div>\n",
       "<style scoped>\n",
       "    .dataframe tbody tr th:only-of-type {\n",
       "        vertical-align: middle;\n",
       "    }\n",
       "\n",
       "    .dataframe tbody tr th {\n",
       "        vertical-align: top;\n",
       "    }\n",
       "\n",
       "    .dataframe thead th {\n",
       "        text-align: right;\n",
       "    }\n",
       "</style>\n",
       "<table border=\"1\" class=\"dataframe\">\n",
       "  <thead>\n",
       "    <tr style=\"text-align: right;\">\n",
       "      <th></th>\n",
       "      <th>Biomarker_sampletype</th>\n",
       "      <th>TESTNAME</th>\n",
       "      <th>TESTVALUE</th>\n",
       "      <th>RUNDATE</th>\n",
       "      <th>lrrkid</th>\n",
       "      <th>gender</th>\n",
       "      <th>pdenrl</th>\n",
       "      <th>MCATOT</th>\n",
       "      <th>STROKE</th>\n",
       "      <th>HETRA</th>\n",
       "      <th>...</th>\n",
       "      <th>EPILEPSY</th>\n",
       "      <th>BRNINFM</th>\n",
       "      <th>CNSOTH</th>\n",
       "      <th>CNSOTHCM</th>\n",
       "      <th>SCAU26AT</th>\n",
       "      <th>SCAU26BT</th>\n",
       "      <th>SCAU26CT</th>\n",
       "      <th>LDOPRTYP</th>\n",
       "      <th>LDOPRSPC</th>\n",
       "      <th>APOE</th>\n",
       "    </tr>\n",
       "  </thead>\n",
       "  <tbody>\n",
       "    <tr>\n",
       "      <th>0</th>\n",
       "      <td>plasma</td>\n",
       "      <td>(4-Hydroxy-3-methoxyphenyl)ethanol</td>\n",
       "      <td>18197.20741</td>\n",
       "      <td>2018-11-29</td>\n",
       "      <td>1420001</td>\n",
       "      <td>2.0</td>\n",
       "      <td>1.0</td>\n",
       "      <td>25.0</td>\n",
       "      <td>Z</td>\n",
       "      <td>Z</td>\n",
       "      <td>...</td>\n",
       "      <td>Z</td>\n",
       "      <td>Z</td>\n",
       "      <td>Z</td>\n",
       "      <td>Z</td>\n",
       "      <td>Z</td>\n",
       "      <td>Z</td>\n",
       "      <td>Z</td>\n",
       "      <td>Z</td>\n",
       "      <td>6.0</td>\n",
       "      <td>E3/E3</td>\n",
       "    </tr>\n",
       "    <tr>\n",
       "      <th>1</th>\n",
       "      <td>plasma</td>\n",
       "      <td>(4-Hydroxy-3-methoxyphenyl)ethanol</td>\n",
       "      <td>0.0008928989999999998</td>\n",
       "      <td>2018-11-29</td>\n",
       "      <td>1420001</td>\n",
       "      <td>2.0</td>\n",
       "      <td>1.0</td>\n",
       "      <td>25.0</td>\n",
       "      <td>Z</td>\n",
       "      <td>Z</td>\n",
       "      <td>...</td>\n",
       "      <td>Z</td>\n",
       "      <td>Z</td>\n",
       "      <td>Z</td>\n",
       "      <td>Z</td>\n",
       "      <td>Z</td>\n",
       "      <td>Z</td>\n",
       "      <td>Z</td>\n",
       "      <td>Z</td>\n",
       "      <td>6.0</td>\n",
       "      <td>E3/E3</td>\n",
       "    </tr>\n",
       "    <tr>\n",
       "      <th>2</th>\n",
       "      <td>plasma</td>\n",
       "      <td>1-Methylhistamine</td>\n",
       "      <td>31317.10022</td>\n",
       "      <td>2018-11-29</td>\n",
       "      <td>1420001</td>\n",
       "      <td>2.0</td>\n",
       "      <td>1.0</td>\n",
       "      <td>25.0</td>\n",
       "      <td>Z</td>\n",
       "      <td>Z</td>\n",
       "      <td>...</td>\n",
       "      <td>Z</td>\n",
       "      <td>Z</td>\n",
       "      <td>Z</td>\n",
       "      <td>Z</td>\n",
       "      <td>Z</td>\n",
       "      <td>Z</td>\n",
       "      <td>Z</td>\n",
       "      <td>Z</td>\n",
       "      <td>6.0</td>\n",
       "      <td>E3/E3</td>\n",
       "    </tr>\n",
       "    <tr>\n",
       "      <th>3</th>\n",
       "      <td>plasma</td>\n",
       "      <td>1-Methylhistamine</td>\n",
       "      <td>0.001670085</td>\n",
       "      <td>2018-11-29</td>\n",
       "      <td>1420001</td>\n",
       "      <td>2.0</td>\n",
       "      <td>1.0</td>\n",
       "      <td>25.0</td>\n",
       "      <td>Z</td>\n",
       "      <td>Z</td>\n",
       "      <td>...</td>\n",
       "      <td>Z</td>\n",
       "      <td>Z</td>\n",
       "      <td>Z</td>\n",
       "      <td>Z</td>\n",
       "      <td>Z</td>\n",
       "      <td>Z</td>\n",
       "      <td>Z</td>\n",
       "      <td>Z</td>\n",
       "      <td>6.0</td>\n",
       "      <td>E3/E3</td>\n",
       "    </tr>\n",
       "    <tr>\n",
       "      <th>4</th>\n",
       "      <td>plasma</td>\n",
       "      <td>1-Methylhistidine</td>\n",
       "      <td>3234660.7810000004</td>\n",
       "      <td>2018-11-29</td>\n",
       "      <td>1420001</td>\n",
       "      <td>2.0</td>\n",
       "      <td>1.0</td>\n",
       "      <td>25.0</td>\n",
       "      <td>Z</td>\n",
       "      <td>Z</td>\n",
       "      <td>...</td>\n",
       "      <td>Z</td>\n",
       "      <td>Z</td>\n",
       "      <td>Z</td>\n",
       "      <td>Z</td>\n",
       "      <td>Z</td>\n",
       "      <td>Z</td>\n",
       "      <td>Z</td>\n",
       "      <td>Z</td>\n",
       "      <td>6.0</td>\n",
       "      <td>E3/E3</td>\n",
       "    </tr>\n",
       "  </tbody>\n",
       "</table>\n",
       "<p>5 rows × 23 columns</p>\n",
       "</div>"
      ],
      "text/plain": [
       "  Biomarker_sampletype                            TESTNAME  \\\n",
       "0               plasma  (4-Hydroxy-3-methoxyphenyl)ethanol   \n",
       "1               plasma  (4-Hydroxy-3-methoxyphenyl)ethanol   \n",
       "2               plasma                   1-Methylhistamine   \n",
       "3               plasma                   1-Methylhistamine   \n",
       "4               plasma                   1-Methylhistidine   \n",
       "\n",
       "               TESTVALUE    RUNDATE   lrrkid  gender  pdenrl  MCATOT STROKE  \\\n",
       "0            18197.20741 2018-11-29  1420001     2.0     1.0    25.0      Z   \n",
       "1  0.0008928989999999998 2018-11-29  1420001     2.0     1.0    25.0      Z   \n",
       "2            31317.10022 2018-11-29  1420001     2.0     1.0    25.0      Z   \n",
       "3            0.001670085 2018-11-29  1420001     2.0     1.0    25.0      Z   \n",
       "4     3234660.7810000004 2018-11-29  1420001     2.0     1.0    25.0      Z   \n",
       "\n",
       "  HETRA  ... EPILEPSY BRNINFM CNSOTH CNSOTHCM SCAU26AT SCAU26BT SCAU26CT  \\\n",
       "0     Z  ...        Z       Z      Z        Z        Z        Z        Z   \n",
       "1     Z  ...        Z       Z      Z        Z        Z        Z        Z   \n",
       "2     Z  ...        Z       Z      Z        Z        Z        Z        Z   \n",
       "3     Z  ...        Z       Z      Z        Z        Z        Z        Z   \n",
       "4     Z  ...        Z       Z      Z        Z        Z        Z        Z   \n",
       "\n",
       "  LDOPRTYP LDOPRSPC   APOE  \n",
       "0        Z      6.0  E3/E3  \n",
       "1        Z      6.0  E3/E3  \n",
       "2        Z      6.0  E3/E3  \n",
       "3        Z      6.0  E3/E3  \n",
       "4        Z      6.0  E3/E3  \n",
       "\n",
       "[5 rows x 23 columns]"
      ]
     },
     "execution_count": 40,
     "metadata": {},
     "output_type": "execute_result"
    }
   ],
   "source": [
    "PD_DF.head()"
   ]
  },
  {
   "cell_type": "raw",
   "id": "ba66f9d4",
   "metadata": {},
   "source": [
    "# Check if there are any string values in 'TESTVALUE'\n",
    "string_values = PD_DF['TESTVALUE'].apply(lambda x: isinstance(x, str)).any()\n",
    "\n",
    "if string_values:\n",
    "    print(\"TESTVALUE contains string values.\")\n",
    "else:\n",
    "    print(\"TESTVALUE does not contain string values.\")"
   ]
  },
  {
   "cell_type": "raw",
   "id": "55d14292",
   "metadata": {},
   "source": [
    "\n",
    "\n",
    "# Check for string values in 'TESTVALUE' column\n",
    "string_mask = PD_DF['TESTVALUE'].apply(lambda x: isinstance(x, str))\n",
    "\n",
    "# Remove rows containing string values\n",
    "PD_DF = PD_DF[~string_mask]\n",
    "\n",
    "# If you want to remove rows in-place without creating a new DataFrame, you can use the following:\n",
    "#PD_DF.drop(PD_DF[string_mask].index, inplace=True)\n"
   ]
  },
  {
   "cell_type": "raw",
   "id": "33fe2748",
   "metadata": {},
   "source": [
    "def replace_strings(x):\n",
    "    if isinstance(x, str):\n",
    "        return -0.1\n",
    "    else:\n",
    "        return x\n",
    "\n",
    "\n",
    "# Apply the function to the selected columns\n",
    "PD_DF['TESTVALUE'] = PD_DF['TESTVALUE'].apply(replace_strings)"
   ]
  },
  {
   "cell_type": "code",
   "execution_count": 41,
   "id": "85b528d7",
   "metadata": {},
   "outputs": [
    {
     "name": "stdout",
     "output_type": "stream",
     "text": [
      "TESTVALUE contains string values.\n"
     ]
    }
   ],
   "source": [
    "# Check if there are any string values in 'TESTVALUE'\n",
    "string_values = PD_DF['TESTVALUE'].apply(lambda x: isinstance(x, str)).any()\n",
    "\n",
    "if string_values:\n",
    "    print(\"TESTVALUE contains string values.\")\n",
    "else:\n",
    "    print(\"TESTVALUE does not contain string values.\")"
   ]
  },
  {
   "cell_type": "code",
   "execution_count": 42,
   "id": "76fd56c1",
   "metadata": {},
   "outputs": [
    {
     "data": {
      "text/plain": [
       "1862197"
      ]
     },
     "execution_count": 42,
     "metadata": {},
     "output_type": "execute_result"
    }
   ],
   "source": [
    "len(PD_DF)"
   ]
  },
  {
   "cell_type": "code",
   "execution_count": 43,
   "id": "af3247b2",
   "metadata": {},
   "outputs": [],
   "source": [
    "pddf = PD_DF.drop([\"Biomarker_sampletype\",\"TESTNAME\",\"TESTVALUE\",'CNSOTHCM',\"APOE\",\"SCAU26AT\",\"SCAU26BT\",\"SCAU26CT\",\"LDOPRTYP\",\"LDOPRSPC\"],axis=1)"
   ]
  },
  {
   "cell_type": "code",
   "execution_count": 44,
   "id": "7afc3161",
   "metadata": {},
   "outputs": [
    {
     "data": {
      "text/html": [
       "<div>\n",
       "<style scoped>\n",
       "    .dataframe tbody tr th:only-of-type {\n",
       "        vertical-align: middle;\n",
       "    }\n",
       "\n",
       "    .dataframe tbody tr th {\n",
       "        vertical-align: top;\n",
       "    }\n",
       "\n",
       "    .dataframe thead th {\n",
       "        text-align: right;\n",
       "    }\n",
       "</style>\n",
       "<table border=\"1\" class=\"dataframe\">\n",
       "  <thead>\n",
       "    <tr style=\"text-align: right;\">\n",
       "      <th></th>\n",
       "      <th>RUNDATE</th>\n",
       "      <th>lrrkid</th>\n",
       "      <th>gender</th>\n",
       "      <th>pdenrl</th>\n",
       "      <th>MCATOT</th>\n",
       "      <th>STROKE</th>\n",
       "      <th>HETRA</th>\n",
       "      <th>RLS</th>\n",
       "      <th>NARCLPSY</th>\n",
       "      <th>DEPRS</th>\n",
       "      <th>EPILEPSY</th>\n",
       "      <th>BRNINFM</th>\n",
       "      <th>CNSOTH</th>\n",
       "    </tr>\n",
       "  </thead>\n",
       "  <tbody>\n",
       "    <tr>\n",
       "      <th>0</th>\n",
       "      <td>2018-11-29</td>\n",
       "      <td>1420001</td>\n",
       "      <td>2.0</td>\n",
       "      <td>1.0</td>\n",
       "      <td>25.0</td>\n",
       "      <td>Z</td>\n",
       "      <td>Z</td>\n",
       "      <td>Z</td>\n",
       "      <td>Z</td>\n",
       "      <td>Z</td>\n",
       "      <td>Z</td>\n",
       "      <td>Z</td>\n",
       "      <td>Z</td>\n",
       "    </tr>\n",
       "    <tr>\n",
       "      <th>1</th>\n",
       "      <td>2018-11-29</td>\n",
       "      <td>1420001</td>\n",
       "      <td>2.0</td>\n",
       "      <td>1.0</td>\n",
       "      <td>25.0</td>\n",
       "      <td>Z</td>\n",
       "      <td>Z</td>\n",
       "      <td>Z</td>\n",
       "      <td>Z</td>\n",
       "      <td>Z</td>\n",
       "      <td>Z</td>\n",
       "      <td>Z</td>\n",
       "      <td>Z</td>\n",
       "    </tr>\n",
       "    <tr>\n",
       "      <th>2</th>\n",
       "      <td>2018-11-29</td>\n",
       "      <td>1420001</td>\n",
       "      <td>2.0</td>\n",
       "      <td>1.0</td>\n",
       "      <td>25.0</td>\n",
       "      <td>Z</td>\n",
       "      <td>Z</td>\n",
       "      <td>Z</td>\n",
       "      <td>Z</td>\n",
       "      <td>Z</td>\n",
       "      <td>Z</td>\n",
       "      <td>Z</td>\n",
       "      <td>Z</td>\n",
       "    </tr>\n",
       "    <tr>\n",
       "      <th>3</th>\n",
       "      <td>2018-11-29</td>\n",
       "      <td>1420001</td>\n",
       "      <td>2.0</td>\n",
       "      <td>1.0</td>\n",
       "      <td>25.0</td>\n",
       "      <td>Z</td>\n",
       "      <td>Z</td>\n",
       "      <td>Z</td>\n",
       "      <td>Z</td>\n",
       "      <td>Z</td>\n",
       "      <td>Z</td>\n",
       "      <td>Z</td>\n",
       "      <td>Z</td>\n",
       "    </tr>\n",
       "    <tr>\n",
       "      <th>4</th>\n",
       "      <td>2018-11-29</td>\n",
       "      <td>1420001</td>\n",
       "      <td>2.0</td>\n",
       "      <td>1.0</td>\n",
       "      <td>25.0</td>\n",
       "      <td>Z</td>\n",
       "      <td>Z</td>\n",
       "      <td>Z</td>\n",
       "      <td>Z</td>\n",
       "      <td>Z</td>\n",
       "      <td>Z</td>\n",
       "      <td>Z</td>\n",
       "      <td>Z</td>\n",
       "    </tr>\n",
       "  </tbody>\n",
       "</table>\n",
       "</div>"
      ],
      "text/plain": [
       "     RUNDATE   lrrkid  gender  pdenrl  MCATOT STROKE HETRA RLS NARCLPSY DEPRS  \\\n",
       "0 2018-11-29  1420001     2.0     1.0    25.0      Z     Z   Z        Z     Z   \n",
       "1 2018-11-29  1420001     2.0     1.0    25.0      Z     Z   Z        Z     Z   \n",
       "2 2018-11-29  1420001     2.0     1.0    25.0      Z     Z   Z        Z     Z   \n",
       "3 2018-11-29  1420001     2.0     1.0    25.0      Z     Z   Z        Z     Z   \n",
       "4 2018-11-29  1420001     2.0     1.0    25.0      Z     Z   Z        Z     Z   \n",
       "\n",
       "  EPILEPSY BRNINFM CNSOTH  \n",
       "0        Z       Z      Z  \n",
       "1        Z       Z      Z  \n",
       "2        Z       Z      Z  \n",
       "3        Z       Z      Z  \n",
       "4        Z       Z      Z  "
      ]
     },
     "execution_count": 44,
     "metadata": {},
     "output_type": "execute_result"
    }
   ],
   "source": [
    "pddf.head()"
   ]
  },
  {
   "cell_type": "code",
   "execution_count": 45,
   "id": "2851144b",
   "metadata": {},
   "outputs": [],
   "source": [
    "\n",
    "# Check for \"Z\" values in all columns\n",
    "z_mask = pddf.applymap(lambda x: isinstance(x, str) and 'Z' in x)\n",
    "\n",
    "# Create a mask for rows where \"Z\" is found in any column\n",
    "row_mask = z_mask.any(axis=1)\n",
    "\n",
    "pddf.drop(pddf[row_mask].index, inplace=True)"
   ]
  },
  {
   "cell_type": "code",
   "execution_count": 46,
   "id": "71b4a3f1",
   "metadata": {},
   "outputs": [
    {
     "data": {
      "image/png": "[encoded data removed]",
      "text/plain": [
       "<Figure size 3000x1500 with 1 Axes>"
      ]
     },
     "metadata": {},
     "output_type": "display_data"
    }
   ],
   "source": [
    "import matplotlib.pyplot as plt\n",
    "\n",
    "\n",
    "correlation_matrix = pddf.corr()\n",
    "target_correlation = correlation_matrix['pdenrl'].drop('pdenrl')\n",
    "\n",
    "plt.figure(figsize=(30, 15))\n",
    "target_correlation.plot(kind='bar')\n",
    "plt.title('Correlation with pdenrl')\n",
    "plt.xlabel('Feature')\n",
    "plt.ylabel('Correlation')\n",
    "plt.show()"
   ]
  },
  {
   "cell_type": "code",
   "execution_count": 47,
   "id": "0ab1eae2",
   "metadata": {},
   "outputs": [
    {
     "name": "stdout",
     "output_type": "stream",
     "text": [
      "['Not detected' '-' 'BQL' 'below quantitation level' 'OOR' 'OOR ' 'below'\n",
      " 'above' '<LOW>' 'calibration - n/a' 'background too high for detection'\n",
      " 'unknown - sample processing error' '< 8.66' '< 3.66' '< 0.8' '<1' '<1.2'\n",
      " '<3' '<1.5' '<0.8' '<9' '<5' '<0.6' '>12' '<0.2' '<2.8' '<0.5' '<2'\n",
      " '<2.5' '<0.57“' '407,contaminated' '161, contaminated' 'O1' 'H' 'F' 'G'\n",
      " 'E' 'C' 'D' 'A' 'B' 'O2' 'O3' 'n.a.' 'u.d.l.' 'n.v.' 'N.A' 'n.p.' 'MS2'\n",
      " 'outofrange' 'analysis problem' 'BLQ' '∞']\n"
     ]
    }
   ],
   "source": [
    "non_numeric_values = PD_DF[~PD_DF['TESTVALUE'].apply(pd.to_numeric, errors='coerce').notna()]['TESTVALUE'].unique()\n",
    "print(non_numeric_values)"
   ]
  },
  {
   "cell_type": "code",
   "execution_count": 48,
   "id": "63e748e5",
   "metadata": {},
   "outputs": [],
   "source": [
    "PD_DF['TESTVALUE'] = pd.to_numeric(PD_DF['TESTVALUE'], errors='coerce')"
   ]
  },
  {
   "cell_type": "code",
   "execution_count": 49,
   "id": "15eca61f",
   "metadata": {},
   "outputs": [],
   "source": [
    "pivot_df = PD_DF.pivot_table(index=['lrrkid', 'RUNDATE'], columns=['Biomarker_sampletype', 'TESTNAME'], values='TESTVALUE')\n",
    "pivot_df.columns = [f'{col[0]}_{col[1]}' for col in pivot_df.columns]\n",
    "pivot_df.reset_index(inplace=True)\n"
   ]
  },
  {
   "cell_type": "raw",
   "id": "8bc4c8ef",
   "metadata": {},
   "source": [
    "# Pivot the table manually\n",
    "pivot_df = PD_DF.pivot_table(index=['lrrkid', 'RUNDATE'], columns=['Biomarker_sampletype', 'TESTNAME'], values='TESTVALUE', aggfunc='mean')\n",
    "\n",
    "# Flatten the MultiIndex columns into a single-level column index\n",
    "pivot_df.columns = [f'{col[0]}_{col[1]}' for col in pivot_df.columns]\n",
    "\n",
    "# Reset the index\n",
    "pivot_df.reset_index(inplace=True)\n",
    "\n"
   ]
  },
  {
   "cell_type": "code",
   "execution_count": 50,
   "id": "9a9c5d0a",
   "metadata": {},
   "outputs": [],
   "source": [
    "#PD_DF = PD_DF.merge(pivot_df, on=['lrrkid', 'RUNDATE'], how='inner')\n",
    "\n",
    "PD_DF = PD_DF.merge(pivot_df, on=['lrrkid', 'RUNDATE']).drop_duplicates(subset=['lrrkid', 'RUNDATE'])"
   ]
  },
  {
   "cell_type": "code",
   "execution_count": 51,
   "id": "6ff8d007",
   "metadata": {},
   "outputs": [],
   "source": [
    "PD_DF = PD_DF.drop([\"Biomarker_sampletype\",\"TESTNAME\",\"TESTVALUE\",\"RUNDATE\"],axis=1)"
   ]
  },
  {
   "cell_type": "code",
   "execution_count": 52,
   "id": "a8f3e656",
   "metadata": {},
   "outputs": [
    {
     "data": {
      "text/html": [
       "<div>\n",
       "<style scoped>\n",
       "    .dataframe tbody tr th:only-of-type {\n",
       "        vertical-align: middle;\n",
       "    }\n",
       "\n",
       "    .dataframe tbody tr th {\n",
       "        vertical-align: top;\n",
       "    }\n",
       "\n",
       "    .dataframe thead th {\n",
       "        text-align: right;\n",
       "    }\n",
       "</style>\n",
       "<table border=\"1\" class=\"dataframe\">\n",
       "  <thead>\n",
       "    <tr style=\"text-align: right;\">\n",
       "      <th></th>\n",
       "      <th>lrrkid</th>\n",
       "      <th>gender</th>\n",
       "      <th>pdenrl</th>\n",
       "      <th>MCATOT</th>\n",
       "      <th>STROKE</th>\n",
       "      <th>HETRA</th>\n",
       "      <th>RLS</th>\n",
       "      <th>NARCLPSY</th>\n",
       "      <th>DEPRS</th>\n",
       "      <th>EPILEPSY</th>\n",
       "      <th>...</th>\n",
       "      <th>whole blood_GluCer (d18:1/24:0)</th>\n",
       "      <th>whole blood_GluCer (d18:1/24:1)</th>\n",
       "      <th>whole blood_Glucosylcholesterol</th>\n",
       "      <th>whole blood_Glucosylsphingosine</th>\n",
       "      <th>whole blood_pS935_conc</th>\n",
       "      <th>whole blood_pS935_raw</th>\n",
       "      <th>whole blood_tLRRK2_conc</th>\n",
       "      <th>whole blood_tLRRK2_raw</th>\n",
       "      <th>whole blood_total di-18:1-BMP</th>\n",
       "      <th>whole blood_total di-22:6-BMP</th>\n",
       "    </tr>\n",
       "  </thead>\n",
       "  <tbody>\n",
       "    <tr>\n",
       "      <th>0</th>\n",
       "      <td>1420001</td>\n",
       "      <td>2.0</td>\n",
       "      <td>1.0</td>\n",
       "      <td>25.0</td>\n",
       "      <td>Z</td>\n",
       "      <td>Z</td>\n",
       "      <td>Z</td>\n",
       "      <td>Z</td>\n",
       "      <td>Z</td>\n",
       "      <td>Z</td>\n",
       "      <td>...</td>\n",
       "      <td>NaN</td>\n",
       "      <td>NaN</td>\n",
       "      <td>NaN</td>\n",
       "      <td>NaN</td>\n",
       "      <td>NaN</td>\n",
       "      <td>NaN</td>\n",
       "      <td>NaN</td>\n",
       "      <td>NaN</td>\n",
       "      <td>NaN</td>\n",
       "      <td>NaN</td>\n",
       "    </tr>\n",
       "    <tr>\n",
       "      <th>250</th>\n",
       "      <td>1420001</td>\n",
       "      <td>2.0</td>\n",
       "      <td>1.0</td>\n",
       "      <td>25.0</td>\n",
       "      <td>Z</td>\n",
       "      <td>Z</td>\n",
       "      <td>Z</td>\n",
       "      <td>Z</td>\n",
       "      <td>Z</td>\n",
       "      <td>Z</td>\n",
       "      <td>...</td>\n",
       "      <td>NaN</td>\n",
       "      <td>NaN</td>\n",
       "      <td>NaN</td>\n",
       "      <td>NaN</td>\n",
       "      <td>NaN</td>\n",
       "      <td>NaN</td>\n",
       "      <td>NaN</td>\n",
       "      <td>NaN</td>\n",
       "      <td>NaN</td>\n",
       "      <td>NaN</td>\n",
       "    </tr>\n",
       "    <tr>\n",
       "      <th>254</th>\n",
       "      <td>1420001</td>\n",
       "      <td>2.0</td>\n",
       "      <td>1.0</td>\n",
       "      <td>25.0</td>\n",
       "      <td>Z</td>\n",
       "      <td>Z</td>\n",
       "      <td>Z</td>\n",
       "      <td>Z</td>\n",
       "      <td>Z</td>\n",
       "      <td>Z</td>\n",
       "      <td>...</td>\n",
       "      <td>NaN</td>\n",
       "      <td>NaN</td>\n",
       "      <td>NaN</td>\n",
       "      <td>NaN</td>\n",
       "      <td>NaN</td>\n",
       "      <td>NaN</td>\n",
       "      <td>NaN</td>\n",
       "      <td>NaN</td>\n",
       "      <td>NaN</td>\n",
       "      <td>NaN</td>\n",
       "    </tr>\n",
       "    <tr>\n",
       "      <th>420</th>\n",
       "      <td>1420001</td>\n",
       "      <td>2.0</td>\n",
       "      <td>1.0</td>\n",
       "      <td>25.0</td>\n",
       "      <td>Z</td>\n",
       "      <td>Z</td>\n",
       "      <td>Z</td>\n",
       "      <td>Z</td>\n",
       "      <td>Z</td>\n",
       "      <td>Z</td>\n",
       "      <td>...</td>\n",
       "      <td>NaN</td>\n",
       "      <td>NaN</td>\n",
       "      <td>NaN</td>\n",
       "      <td>NaN</td>\n",
       "      <td>NaN</td>\n",
       "      <td>NaN</td>\n",
       "      <td>NaN</td>\n",
       "      <td>NaN</td>\n",
       "      <td>NaN</td>\n",
       "      <td>NaN</td>\n",
       "    </tr>\n",
       "    <tr>\n",
       "      <th>498</th>\n",
       "      <td>1420001</td>\n",
       "      <td>2.0</td>\n",
       "      <td>1.0</td>\n",
       "      <td>25.0</td>\n",
       "      <td>Z</td>\n",
       "      <td>Z</td>\n",
       "      <td>Z</td>\n",
       "      <td>Z</td>\n",
       "      <td>Z</td>\n",
       "      <td>Z</td>\n",
       "      <td>...</td>\n",
       "      <td>NaN</td>\n",
       "      <td>NaN</td>\n",
       "      <td>NaN</td>\n",
       "      <td>NaN</td>\n",
       "      <td>NaN</td>\n",
       "      <td>NaN</td>\n",
       "      <td>NaN</td>\n",
       "      <td>NaN</td>\n",
       "      <td>NaN</td>\n",
       "      <td>NaN</td>\n",
       "    </tr>\n",
       "  </tbody>\n",
       "</table>\n",
       "<p>5 rows × 3992 columns</p>\n",
       "</div>"
      ],
      "text/plain": [
       "      lrrkid  gender  pdenrl  MCATOT STROKE HETRA RLS NARCLPSY DEPRS EPILEPSY  \\\n",
       "0    1420001     2.0     1.0    25.0      Z     Z   Z        Z     Z        Z   \n",
       "250  1420001     2.0     1.0    25.0      Z     Z   Z        Z     Z        Z   \n",
       "254  1420001     2.0     1.0    25.0      Z     Z   Z        Z     Z        Z   \n",
       "420  1420001     2.0     1.0    25.0      Z     Z   Z        Z     Z        Z   \n",
       "498  1420001     2.0     1.0    25.0      Z     Z   Z        Z     Z        Z   \n",
       "\n",
       "     ... whole blood_GluCer (d18:1/24:0) whole blood_GluCer (d18:1/24:1)  \\\n",
       "0    ...                             NaN                             NaN   \n",
       "250  ...                             NaN                             NaN   \n",
       "254  ...                             NaN                             NaN   \n",
       "420  ...                             NaN                             NaN   \n",
       "498  ...                             NaN                             NaN   \n",
       "\n",
       "    whole blood_Glucosylcholesterol whole blood_Glucosylsphingosine  \\\n",
       "0                               NaN                             NaN   \n",
       "250                             NaN                             NaN   \n",
       "254                             NaN                             NaN   \n",
       "420                             NaN                             NaN   \n",
       "498                             NaN                             NaN   \n",
       "\n",
       "    whole blood_pS935_conc whole blood_pS935_raw whole blood_tLRRK2_conc  \\\n",
       "0                      NaN                   NaN                     NaN   \n",
       "250                    NaN                   NaN                     NaN   \n",
       "254                    NaN                   NaN                     NaN   \n",
       "420                    NaN                   NaN                     NaN   \n",
       "498                    NaN                   NaN                     NaN   \n",
       "\n",
       "     whole blood_tLRRK2_raw whole blood_total di-18:1-BMP  \\\n",
       "0                       NaN                           NaN   \n",
       "250                     NaN                           NaN   \n",
       "254                     NaN                           NaN   \n",
       "420                     NaN                           NaN   \n",
       "498                     NaN                           NaN   \n",
       "\n",
       "     whole blood_total di-22:6-BMP  \n",
       "0                              NaN  \n",
       "250                            NaN  \n",
       "254                            NaN  \n",
       "420                            NaN  \n",
       "498                            NaN  \n",
       "\n",
       "[5 rows x 3992 columns]"
      ]
     },
     "execution_count": 52,
     "metadata": {},
     "output_type": "execute_result"
    }
   ],
   "source": [
    "PD_DF.head()"
   ]
  },
  {
   "cell_type": "code",
   "execution_count": 53,
   "id": "4f98aaa1",
   "metadata": {},
   "outputs": [],
   "source": [
    "PD_DF = PD_DF.dropna(axis=1, how='all')"
   ]
  },
  {
   "cell_type": "code",
   "execution_count": 54,
   "id": "1065d493",
   "metadata": {},
   "outputs": [
    {
     "data": {
      "text/plain": [
       "9729"
      ]
     },
     "execution_count": 54,
     "metadata": {},
     "output_type": "execute_result"
    }
   ],
   "source": [
    "len(PD_DF)"
   ]
  },
  {
   "cell_type": "code",
   "execution_count": 55,
   "id": "fecfdf0a",
   "metadata": {},
   "outputs": [
    {
     "data": {
      "text/html": [
       "<div>\n",
       "<style scoped>\n",
       "    .dataframe tbody tr th:only-of-type {\n",
       "        vertical-align: middle;\n",
       "    }\n",
       "\n",
       "    .dataframe tbody tr th {\n",
       "        vertical-align: top;\n",
       "    }\n",
       "\n",
       "    .dataframe thead th {\n",
       "        text-align: right;\n",
       "    }\n",
       "</style>\n",
       "<table border=\"1\" class=\"dataframe\">\n",
       "  <thead>\n",
       "    <tr style=\"text-align: right;\">\n",
       "      <th></th>\n",
       "      <th>lrrkid</th>\n",
       "      <th>gender</th>\n",
       "      <th>pdenrl</th>\n",
       "      <th>MCATOT</th>\n",
       "      <th>STROKE</th>\n",
       "      <th>HETRA</th>\n",
       "      <th>RLS</th>\n",
       "      <th>NARCLPSY</th>\n",
       "      <th>DEPRS</th>\n",
       "      <th>EPILEPSY</th>\n",
       "      <th>...</th>\n",
       "      <th>whole blood_GluCer (d18:1/24:0)</th>\n",
       "      <th>whole blood_GluCer (d18:1/24:1)</th>\n",
       "      <th>whole blood_Glucosylcholesterol</th>\n",
       "      <th>whole blood_Glucosylsphingosine</th>\n",
       "      <th>whole blood_pS935_conc</th>\n",
       "      <th>whole blood_pS935_raw</th>\n",
       "      <th>whole blood_tLRRK2_conc</th>\n",
       "      <th>whole blood_tLRRK2_raw</th>\n",
       "      <th>whole blood_total di-18:1-BMP</th>\n",
       "      <th>whole blood_total di-22:6-BMP</th>\n",
       "    </tr>\n",
       "  </thead>\n",
       "  <tbody>\n",
       "    <tr>\n",
       "      <th>0</th>\n",
       "      <td>1420001</td>\n",
       "      <td>2.0</td>\n",
       "      <td>1.0</td>\n",
       "      <td>25.0</td>\n",
       "      <td>Z</td>\n",
       "      <td>Z</td>\n",
       "      <td>Z</td>\n",
       "      <td>Z</td>\n",
       "      <td>Z</td>\n",
       "      <td>Z</td>\n",
       "      <td>...</td>\n",
       "      <td>NaN</td>\n",
       "      <td>NaN</td>\n",
       "      <td>NaN</td>\n",
       "      <td>NaN</td>\n",
       "      <td>NaN</td>\n",
       "      <td>NaN</td>\n",
       "      <td>NaN</td>\n",
       "      <td>NaN</td>\n",
       "      <td>NaN</td>\n",
       "      <td>NaN</td>\n",
       "    </tr>\n",
       "    <tr>\n",
       "      <th>250</th>\n",
       "      <td>1420001</td>\n",
       "      <td>2.0</td>\n",
       "      <td>1.0</td>\n",
       "      <td>25.0</td>\n",
       "      <td>Z</td>\n",
       "      <td>Z</td>\n",
       "      <td>Z</td>\n",
       "      <td>Z</td>\n",
       "      <td>Z</td>\n",
       "      <td>Z</td>\n",
       "      <td>...</td>\n",
       "      <td>NaN</td>\n",
       "      <td>NaN</td>\n",
       "      <td>NaN</td>\n",
       "      <td>NaN</td>\n",
       "      <td>NaN</td>\n",
       "      <td>NaN</td>\n",
       "      <td>NaN</td>\n",
       "      <td>NaN</td>\n",
       "      <td>NaN</td>\n",
       "      <td>NaN</td>\n",
       "    </tr>\n",
       "    <tr>\n",
       "      <th>254</th>\n",
       "      <td>1420001</td>\n",
       "      <td>2.0</td>\n",
       "      <td>1.0</td>\n",
       "      <td>25.0</td>\n",
       "      <td>Z</td>\n",
       "      <td>Z</td>\n",
       "      <td>Z</td>\n",
       "      <td>Z</td>\n",
       "      <td>Z</td>\n",
       "      <td>Z</td>\n",
       "      <td>...</td>\n",
       "      <td>NaN</td>\n",
       "      <td>NaN</td>\n",
       "      <td>NaN</td>\n",
       "      <td>NaN</td>\n",
       "      <td>NaN</td>\n",
       "      <td>NaN</td>\n",
       "      <td>NaN</td>\n",
       "      <td>NaN</td>\n",
       "      <td>NaN</td>\n",
       "      <td>NaN</td>\n",
       "    </tr>\n",
       "    <tr>\n",
       "      <th>420</th>\n",
       "      <td>1420001</td>\n",
       "      <td>2.0</td>\n",
       "      <td>1.0</td>\n",
       "      <td>25.0</td>\n",
       "      <td>Z</td>\n",
       "      <td>Z</td>\n",
       "      <td>Z</td>\n",
       "      <td>Z</td>\n",
       "      <td>Z</td>\n",
       "      <td>Z</td>\n",
       "      <td>...</td>\n",
       "      <td>NaN</td>\n",
       "      <td>NaN</td>\n",
       "      <td>NaN</td>\n",
       "      <td>NaN</td>\n",
       "      <td>NaN</td>\n",
       "      <td>NaN</td>\n",
       "      <td>NaN</td>\n",
       "      <td>NaN</td>\n",
       "      <td>NaN</td>\n",
       "      <td>NaN</td>\n",
       "    </tr>\n",
       "    <tr>\n",
       "      <th>498</th>\n",
       "      <td>1420001</td>\n",
       "      <td>2.0</td>\n",
       "      <td>1.0</td>\n",
       "      <td>25.0</td>\n",
       "      <td>Z</td>\n",
       "      <td>Z</td>\n",
       "      <td>Z</td>\n",
       "      <td>Z</td>\n",
       "      <td>Z</td>\n",
       "      <td>Z</td>\n",
       "      <td>...</td>\n",
       "      <td>NaN</td>\n",
       "      <td>NaN</td>\n",
       "      <td>NaN</td>\n",
       "      <td>NaN</td>\n",
       "      <td>NaN</td>\n",
       "      <td>NaN</td>\n",
       "      <td>NaN</td>\n",
       "      <td>NaN</td>\n",
       "      <td>NaN</td>\n",
       "      <td>NaN</td>\n",
       "    </tr>\n",
       "  </tbody>\n",
       "</table>\n",
       "<p>5 rows × 3992 columns</p>\n",
       "</div>"
      ],
      "text/plain": [
       "      lrrkid  gender  pdenrl  MCATOT STROKE HETRA RLS NARCLPSY DEPRS EPILEPSY  \\\n",
       "0    1420001     2.0     1.0    25.0      Z     Z   Z        Z     Z        Z   \n",
       "250  1420001     2.0     1.0    25.0      Z     Z   Z        Z     Z        Z   \n",
       "254  1420001     2.0     1.0    25.0      Z     Z   Z        Z     Z        Z   \n",
       "420  1420001     2.0     1.0    25.0      Z     Z   Z        Z     Z        Z   \n",
       "498  1420001     2.0     1.0    25.0      Z     Z   Z        Z     Z        Z   \n",
       "\n",
       "     ... whole blood_GluCer (d18:1/24:0) whole blood_GluCer (d18:1/24:1)  \\\n",
       "0    ...                             NaN                             NaN   \n",
       "250  ...                             NaN                             NaN   \n",
       "254  ...                             NaN                             NaN   \n",
       "420  ...                             NaN                             NaN   \n",
       "498  ...                             NaN                             NaN   \n",
       "\n",
       "    whole blood_Glucosylcholesterol whole blood_Glucosylsphingosine  \\\n",
       "0                               NaN                             NaN   \n",
       "250                             NaN                             NaN   \n",
       "254                             NaN                             NaN   \n",
       "420                             NaN                             NaN   \n",
       "498                             NaN                             NaN   \n",
       "\n",
       "    whole blood_pS935_conc whole blood_pS935_raw whole blood_tLRRK2_conc  \\\n",
       "0                      NaN                   NaN                     NaN   \n",
       "250                    NaN                   NaN                     NaN   \n",
       "254                    NaN                   NaN                     NaN   \n",
       "420                    NaN                   NaN                     NaN   \n",
       "498                    NaN                   NaN                     NaN   \n",
       "\n",
       "     whole blood_tLRRK2_raw whole blood_total di-18:1-BMP  \\\n",
       "0                       NaN                           NaN   \n",
       "250                     NaN                           NaN   \n",
       "254                     NaN                           NaN   \n",
       "420                     NaN                           NaN   \n",
       "498                     NaN                           NaN   \n",
       "\n",
       "     whole blood_total di-22:6-BMP  \n",
       "0                              NaN  \n",
       "250                            NaN  \n",
       "254                            NaN  \n",
       "420                            NaN  \n",
       "498                            NaN  \n",
       "\n",
       "[5 rows x 3992 columns]"
      ]
     },
     "execution_count": 55,
     "metadata": {},
     "output_type": "execute_result"
    }
   ],
   "source": [
    "PD_DF.head()"
   ]
  },
  {
   "cell_type": "code",
   "execution_count": 56,
   "id": "47077ef3",
   "metadata": {},
   "outputs": [
    {
     "data": {
      "text/plain": [
       "lrrkid                              0\n",
       "gender                              0\n",
       "pdenrl                              0\n",
       "MCATOT                            312\n",
       "STROKE                            163\n",
       "                                 ... \n",
       "whole blood_pS935_raw            8909\n",
       "whole blood_tLRRK2_conc          8909\n",
       "whole blood_tLRRK2_raw           8909\n",
       "whole blood_total di-18:1-BMP    9621\n",
       "whole blood_total di-22:6-BMP    9621\n",
       "Length: 3992, dtype: int64"
      ]
     },
     "execution_count": 56,
     "metadata": {},
     "output_type": "execute_result"
    }
   ],
   "source": [
    "PD_DF.isnull().sum()"
   ]
  },
  {
   "cell_type": "code",
   "execution_count": 57,
   "id": "2129056f",
   "metadata": {},
   "outputs": [
    {
     "data": {
      "text/plain": [
       "CNSOTHCM\n",
       "Z                                                                                                             2647\n",
       "Hypertension                                                                                                    19\n",
       "anxiety                                                                                                         17\n",
       "migraine                                                                                                        12\n",
       "BRAIN TUMOR                                                                                                     10\n",
       "cerebral tumour (glioblastoma grade IV), secondary focal epilepsy                                                9\n",
       "Peripheral neuropathy                                                                                            9\n",
       "MIGRAINE                                                                                                         9\n",
       "ANXIETY ATTACKS                                                                                                  8\n",
       "lyme disease                                                                                                     8\n",
       "Multiple sclerosis                                                                                               8\n",
       "Apnea syndrome treated with CPAP                                                                                 7\n",
       "multiple sclerosis                                                                                               7\n",
       "RLS secondary to renal failure, reactive depression when undergoing dyalisis                                     6\n",
       "meningitis in childhood                                                                                          6\n",
       "carpal tunnel syndrome                                                                                           5\n",
       "meningitis                                                                                                       5\n",
       "common migraine                                                                                                  5\n",
       "Acoustic Neuroma                                                                                                 5\n",
       "Polyneuropathy, trigeminus neuralgia left, cerebral microangiopathy                                              4\n",
       "PD                                                                                                               3\n",
       "meningioma                                                                                                       3\n",
       "optic neuritis                                                                                                   3\n",
       "nonREM parasonmnia (sleep walking)                                                                               2\n",
       "Parkinson disease                                                                                                2\n",
       "they deny having RLS but suitable symptoms, not diagnosed of depression but scales suggest he is depressed       2\n",
       "MIGRAINE WITHOUT AURA                                                                                            2\n",
       "possible Sleep apnea-hypopnea?                                                                                   2\n",
       "Name: count, dtype: int64"
      ]
     },
     "execution_count": 57,
     "metadata": {},
     "output_type": "execute_result"
    }
   ],
   "source": [
    "PD_DF['CNSOTHCM'].value_counts()"
   ]
  },
  {
   "cell_type": "code",
   "execution_count": 58,
   "id": "c22a6bee",
   "metadata": {},
   "outputs": [],
   "source": [
    "# generate binary values using get_dummies\n",
    "dumc_df = pd.get_dummies(PD_DF, columns=[\"CNSOTHCM\"],prefix = \"\" )\n",
    "\n",
    "# merge with main df bridge_df on key values\n",
    "PD_DF = PD_DF.merge(dumc_df, how='left')"
   ]
  },
  {
   "cell_type": "code",
   "execution_count": 59,
   "id": "b805dc18",
   "metadata": {},
   "outputs": [],
   "source": [
    "PD_DF = PD_DF.drop([\"CNSOTHCM\"], axis=1)"
   ]
  },
  {
   "cell_type": "code",
   "execution_count": 60,
   "id": "57b07835",
   "metadata": {},
   "outputs": [],
   "source": [
    "PD_DF = PD_DF.drop([\"_Z\"], axis=1)"
   ]
  },
  {
   "cell_type": "code",
   "execution_count": 61,
   "id": "8890a35d",
   "metadata": {},
   "outputs": [
    {
     "data": {
      "text/html": [
       "<div>\n",
       "<style scoped>\n",
       "    .dataframe tbody tr th:only-of-type {\n",
       "        vertical-align: middle;\n",
       "    }\n",
       "\n",
       "    .dataframe tbody tr th {\n",
       "        vertical-align: top;\n",
       "    }\n",
       "\n",
       "    .dataframe thead th {\n",
       "        text-align: right;\n",
       "    }\n",
       "</style>\n",
       "<table border=\"1\" class=\"dataframe\">\n",
       "  <thead>\n",
       "    <tr style=\"text-align: right;\">\n",
       "      <th></th>\n",
       "      <th>lrrkid</th>\n",
       "      <th>gender</th>\n",
       "      <th>pdenrl</th>\n",
       "      <th>MCATOT</th>\n",
       "      <th>STROKE</th>\n",
       "      <th>HETRA</th>\n",
       "      <th>RLS</th>\n",
       "      <th>NARCLPSY</th>\n",
       "      <th>DEPRS</th>\n",
       "      <th>EPILEPSY</th>\n",
       "      <th>...</th>\n",
       "      <th>_lyme disease</th>\n",
       "      <th>_meningioma</th>\n",
       "      <th>_meningitis</th>\n",
       "      <th>_meningitis in childhood</th>\n",
       "      <th>_migraine</th>\n",
       "      <th>_multiple sclerosis</th>\n",
       "      <th>_nonREM parasonmnia (sleep walking)</th>\n",
       "      <th>_optic neuritis</th>\n",
       "      <th>_possible Sleep apnea-hypopnea?</th>\n",
       "      <th>_they deny having RLS but suitable symptoms, not diagnosed of depression but scales suggest he is depressed</th>\n",
       "    </tr>\n",
       "  </thead>\n",
       "  <tbody>\n",
       "    <tr>\n",
       "      <th>0</th>\n",
       "      <td>1420001</td>\n",
       "      <td>2.0</td>\n",
       "      <td>1.0</td>\n",
       "      <td>25.0</td>\n",
       "      <td>Z</td>\n",
       "      <td>Z</td>\n",
       "      <td>Z</td>\n",
       "      <td>Z</td>\n",
       "      <td>Z</td>\n",
       "      <td>Z</td>\n",
       "      <td>...</td>\n",
       "      <td>False</td>\n",
       "      <td>False</td>\n",
       "      <td>False</td>\n",
       "      <td>False</td>\n",
       "      <td>False</td>\n",
       "      <td>False</td>\n",
       "      <td>False</td>\n",
       "      <td>False</td>\n",
       "      <td>False</td>\n",
       "      <td>False</td>\n",
       "    </tr>\n",
       "    <tr>\n",
       "      <th>1</th>\n",
       "      <td>1420001</td>\n",
       "      <td>2.0</td>\n",
       "      <td>1.0</td>\n",
       "      <td>25.0</td>\n",
       "      <td>Z</td>\n",
       "      <td>Z</td>\n",
       "      <td>Z</td>\n",
       "      <td>Z</td>\n",
       "      <td>Z</td>\n",
       "      <td>Z</td>\n",
       "      <td>...</td>\n",
       "      <td>False</td>\n",
       "      <td>False</td>\n",
       "      <td>False</td>\n",
       "      <td>False</td>\n",
       "      <td>False</td>\n",
       "      <td>False</td>\n",
       "      <td>False</td>\n",
       "      <td>False</td>\n",
       "      <td>False</td>\n",
       "      <td>False</td>\n",
       "    </tr>\n",
       "    <tr>\n",
       "      <th>2</th>\n",
       "      <td>1420001</td>\n",
       "      <td>2.0</td>\n",
       "      <td>1.0</td>\n",
       "      <td>25.0</td>\n",
       "      <td>Z</td>\n",
       "      <td>Z</td>\n",
       "      <td>Z</td>\n",
       "      <td>Z</td>\n",
       "      <td>Z</td>\n",
       "      <td>Z</td>\n",
       "      <td>...</td>\n",
       "      <td>False</td>\n",
       "      <td>False</td>\n",
       "      <td>False</td>\n",
       "      <td>False</td>\n",
       "      <td>False</td>\n",
       "      <td>False</td>\n",
       "      <td>False</td>\n",
       "      <td>False</td>\n",
       "      <td>False</td>\n",
       "      <td>False</td>\n",
       "    </tr>\n",
       "    <tr>\n",
       "      <th>3</th>\n",
       "      <td>1420001</td>\n",
       "      <td>2.0</td>\n",
       "      <td>1.0</td>\n",
       "      <td>25.0</td>\n",
       "      <td>Z</td>\n",
       "      <td>Z</td>\n",
       "      <td>Z</td>\n",
       "      <td>Z</td>\n",
       "      <td>Z</td>\n",
       "      <td>Z</td>\n",
       "      <td>...</td>\n",
       "      <td>False</td>\n",
       "      <td>False</td>\n",
       "      <td>False</td>\n",
       "      <td>False</td>\n",
       "      <td>False</td>\n",
       "      <td>False</td>\n",
       "      <td>False</td>\n",
       "      <td>False</td>\n",
       "      <td>False</td>\n",
       "      <td>False</td>\n",
       "    </tr>\n",
       "    <tr>\n",
       "      <th>4</th>\n",
       "      <td>1420001</td>\n",
       "      <td>2.0</td>\n",
       "      <td>1.0</td>\n",
       "      <td>25.0</td>\n",
       "      <td>Z</td>\n",
       "      <td>Z</td>\n",
       "      <td>Z</td>\n",
       "      <td>Z</td>\n",
       "      <td>Z</td>\n",
       "      <td>Z</td>\n",
       "      <td>...</td>\n",
       "      <td>False</td>\n",
       "      <td>False</td>\n",
       "      <td>False</td>\n",
       "      <td>False</td>\n",
       "      <td>False</td>\n",
       "      <td>False</td>\n",
       "      <td>False</td>\n",
       "      <td>False</td>\n",
       "      <td>False</td>\n",
       "      <td>False</td>\n",
       "    </tr>\n",
       "  </tbody>\n",
       "</table>\n",
       "<p>5 rows × 4018 columns</p>\n",
       "</div>"
      ],
      "text/plain": [
       "    lrrkid  gender  pdenrl  MCATOT STROKE HETRA RLS NARCLPSY DEPRS EPILEPSY  \\\n",
       "0  1420001     2.0     1.0    25.0      Z     Z   Z        Z     Z        Z   \n",
       "1  1420001     2.0     1.0    25.0      Z     Z   Z        Z     Z        Z   \n",
       "2  1420001     2.0     1.0    25.0      Z     Z   Z        Z     Z        Z   \n",
       "3  1420001     2.0     1.0    25.0      Z     Z   Z        Z     Z        Z   \n",
       "4  1420001     2.0     1.0    25.0      Z     Z   Z        Z     Z        Z   \n",
       "\n",
       "   ... _lyme disease _meningioma _meningitis _meningitis in childhood  \\\n",
       "0  ...         False       False       False                    False   \n",
       "1  ...         False       False       False                    False   \n",
       "2  ...         False       False       False                    False   \n",
       "3  ...         False       False       False                    False   \n",
       "4  ...         False       False       False                    False   \n",
       "\n",
       "  _migraine _multiple sclerosis  _nonREM parasonmnia (sleep walking)  \\\n",
       "0     False               False                                False   \n",
       "1     False               False                                False   \n",
       "2     False               False                                False   \n",
       "3     False               False                                False   \n",
       "4     False               False                                False   \n",
       "\n",
       "  _optic neuritis  _possible Sleep apnea-hypopnea?  \\\n",
       "0           False                            False   \n",
       "1           False                            False   \n",
       "2           False                            False   \n",
       "3           False                            False   \n",
       "4           False                            False   \n",
       "\n",
       "   _they deny having RLS but suitable symptoms, not diagnosed of depression but scales suggest he is depressed  \n",
       "0                                              False                                                            \n",
       "1                                              False                                                            \n",
       "2                                              False                                                            \n",
       "3                                              False                                                            \n",
       "4                                              False                                                            \n",
       "\n",
       "[5 rows x 4018 columns]"
      ]
     },
     "execution_count": 61,
     "metadata": {},
     "output_type": "execute_result"
    }
   ],
   "source": [
    "PD_DF.head()"
   ]
  },
  {
   "cell_type": "code",
   "execution_count": 62,
   "id": "af2eca39",
   "metadata": {},
   "outputs": [
    {
     "data": {
      "text/plain": [
       "APOE\n",
       "E3/E3    3349\n",
       "E3/E4    1154\n",
       "E2/E3     750\n",
       "E4/E4      42\n",
       "E2/E4      35\n",
       "E2/E2      27\n",
       "Name: count, dtype: int64"
      ]
     },
     "execution_count": 62,
     "metadata": {},
     "output_type": "execute_result"
    }
   ],
   "source": [
    "PD_DF['APOE'].value_counts()"
   ]
  },
  {
   "cell_type": "code",
   "execution_count": 63,
   "id": "f4199cd9",
   "metadata": {},
   "outputs": [],
   "source": [
    "# generate binary values using get_dummies\n",
    "duma_df = pd.get_dummies(PD_DF, columns=[\"APOE\"] )\n",
    "\n",
    "# merge with main df bridge_df on key values\n",
    "PD_DF = PD_DF.merge(duma_df, how='left')"
   ]
  },
  {
   "cell_type": "code",
   "execution_count": 64,
   "id": "fea0cdd2",
   "metadata": {},
   "outputs": [],
   "source": [
    "PD_DF = PD_DF.drop([\"APOE\"], axis=1)"
   ]
  },
  {
   "cell_type": "code",
   "execution_count": 65,
   "id": "f6b47143",
   "metadata": {},
   "outputs": [
    {
     "data": {
      "text/html": [
       "<div>\n",
       "<style scoped>\n",
       "    .dataframe tbody tr th:only-of-type {\n",
       "        vertical-align: middle;\n",
       "    }\n",
       "\n",
       "    .dataframe tbody tr th {\n",
       "        vertical-align: top;\n",
       "    }\n",
       "\n",
       "    .dataframe thead th {\n",
       "        text-align: right;\n",
       "    }\n",
       "</style>\n",
       "<table border=\"1\" class=\"dataframe\">\n",
       "  <thead>\n",
       "    <tr style=\"text-align: right;\">\n",
       "      <th></th>\n",
       "      <th>lrrkid</th>\n",
       "      <th>gender</th>\n",
       "      <th>pdenrl</th>\n",
       "      <th>MCATOT</th>\n",
       "      <th>STROKE</th>\n",
       "      <th>HETRA</th>\n",
       "      <th>RLS</th>\n",
       "      <th>NARCLPSY</th>\n",
       "      <th>DEPRS</th>\n",
       "      <th>EPILEPSY</th>\n",
       "      <th>...</th>\n",
       "      <th>_nonREM parasonmnia (sleep walking)</th>\n",
       "      <th>_optic neuritis</th>\n",
       "      <th>_possible Sleep apnea-hypopnea?</th>\n",
       "      <th>_they deny having RLS but suitable symptoms, not diagnosed of depression but scales suggest he is depressed</th>\n",
       "      <th>APOE_E2/E2</th>\n",
       "      <th>APOE_E2/E3</th>\n",
       "      <th>APOE_E2/E4</th>\n",
       "      <th>APOE_E3/E3</th>\n",
       "      <th>APOE_E3/E4</th>\n",
       "      <th>APOE_E4/E4</th>\n",
       "    </tr>\n",
       "  </thead>\n",
       "  <tbody>\n",
       "    <tr>\n",
       "      <th>0</th>\n",
       "      <td>1420001</td>\n",
       "      <td>2.0</td>\n",
       "      <td>1.0</td>\n",
       "      <td>25.0</td>\n",
       "      <td>Z</td>\n",
       "      <td>Z</td>\n",
       "      <td>Z</td>\n",
       "      <td>Z</td>\n",
       "      <td>Z</td>\n",
       "      <td>Z</td>\n",
       "      <td>...</td>\n",
       "      <td>False</td>\n",
       "      <td>False</td>\n",
       "      <td>False</td>\n",
       "      <td>False</td>\n",
       "      <td>False</td>\n",
       "      <td>False</td>\n",
       "      <td>False</td>\n",
       "      <td>True</td>\n",
       "      <td>False</td>\n",
       "      <td>False</td>\n",
       "    </tr>\n",
       "    <tr>\n",
       "      <th>1</th>\n",
       "      <td>1420001</td>\n",
       "      <td>2.0</td>\n",
       "      <td>1.0</td>\n",
       "      <td>25.0</td>\n",
       "      <td>Z</td>\n",
       "      <td>Z</td>\n",
       "      <td>Z</td>\n",
       "      <td>Z</td>\n",
       "      <td>Z</td>\n",
       "      <td>Z</td>\n",
       "      <td>...</td>\n",
       "      <td>False</td>\n",
       "      <td>False</td>\n",
       "      <td>False</td>\n",
       "      <td>False</td>\n",
       "      <td>False</td>\n",
       "      <td>False</td>\n",
       "      <td>False</td>\n",
       "      <td>True</td>\n",
       "      <td>False</td>\n",
       "      <td>False</td>\n",
       "    </tr>\n",
       "    <tr>\n",
       "      <th>2</th>\n",
       "      <td>1420001</td>\n",
       "      <td>2.0</td>\n",
       "      <td>1.0</td>\n",
       "      <td>25.0</td>\n",
       "      <td>Z</td>\n",
       "      <td>Z</td>\n",
       "      <td>Z</td>\n",
       "      <td>Z</td>\n",
       "      <td>Z</td>\n",
       "      <td>Z</td>\n",
       "      <td>...</td>\n",
       "      <td>False</td>\n",
       "      <td>False</td>\n",
       "      <td>False</td>\n",
       "      <td>False</td>\n",
       "      <td>False</td>\n",
       "      <td>False</td>\n",
       "      <td>False</td>\n",
       "      <td>True</td>\n",
       "      <td>False</td>\n",
       "      <td>False</td>\n",
       "    </tr>\n",
       "    <tr>\n",
       "      <th>3</th>\n",
       "      <td>1420001</td>\n",
       "      <td>2.0</td>\n",
       "      <td>1.0</td>\n",
       "      <td>25.0</td>\n",
       "      <td>Z</td>\n",
       "      <td>Z</td>\n",
       "      <td>Z</td>\n",
       "      <td>Z</td>\n",
       "      <td>Z</td>\n",
       "      <td>Z</td>\n",
       "      <td>...</td>\n",
       "      <td>False</td>\n",
       "      <td>False</td>\n",
       "      <td>False</td>\n",
       "      <td>False</td>\n",
       "      <td>False</td>\n",
       "      <td>False</td>\n",
       "      <td>False</td>\n",
       "      <td>True</td>\n",
       "      <td>False</td>\n",
       "      <td>False</td>\n",
       "    </tr>\n",
       "    <tr>\n",
       "      <th>4</th>\n",
       "      <td>1420001</td>\n",
       "      <td>2.0</td>\n",
       "      <td>1.0</td>\n",
       "      <td>25.0</td>\n",
       "      <td>Z</td>\n",
       "      <td>Z</td>\n",
       "      <td>Z</td>\n",
       "      <td>Z</td>\n",
       "      <td>Z</td>\n",
       "      <td>Z</td>\n",
       "      <td>...</td>\n",
       "      <td>False</td>\n",
       "      <td>False</td>\n",
       "      <td>False</td>\n",
       "      <td>False</td>\n",
       "      <td>False</td>\n",
       "      <td>False</td>\n",
       "      <td>False</td>\n",
       "      <td>True</td>\n",
       "      <td>False</td>\n",
       "      <td>False</td>\n",
       "    </tr>\n",
       "  </tbody>\n",
       "</table>\n",
       "<p>5 rows × 4023 columns</p>\n",
       "</div>"
      ],
      "text/plain": [
       "    lrrkid  gender  pdenrl  MCATOT STROKE HETRA RLS NARCLPSY DEPRS EPILEPSY  \\\n",
       "0  1420001     2.0     1.0    25.0      Z     Z   Z        Z     Z        Z   \n",
       "1  1420001     2.0     1.0    25.0      Z     Z   Z        Z     Z        Z   \n",
       "2  1420001     2.0     1.0    25.0      Z     Z   Z        Z     Z        Z   \n",
       "3  1420001     2.0     1.0    25.0      Z     Z   Z        Z     Z        Z   \n",
       "4  1420001     2.0     1.0    25.0      Z     Z   Z        Z     Z        Z   \n",
       "\n",
       "   ... _nonREM parasonmnia (sleep walking) _optic neuritis  \\\n",
       "0  ...                               False           False   \n",
       "1  ...                               False           False   \n",
       "2  ...                               False           False   \n",
       "3  ...                               False           False   \n",
       "4  ...                               False           False   \n",
       "\n",
       "  _possible Sleep apnea-hypopnea?  \\\n",
       "0                           False   \n",
       "1                           False   \n",
       "2                           False   \n",
       "3                           False   \n",
       "4                           False   \n",
       "\n",
       "  _they deny having RLS but suitable symptoms, not diagnosed of depression but scales suggest he is depressed  \\\n",
       "0                                              False                                                            \n",
       "1                                              False                                                            \n",
       "2                                              False                                                            \n",
       "3                                              False                                                            \n",
       "4                                              False                                                            \n",
       "\n",
       "  APOE_E2/E2 APOE_E2/E3  APOE_E2/E4  APOE_E3/E3  APOE_E3/E4  APOE_E4/E4  \n",
       "0      False      False       False        True       False       False  \n",
       "1      False      False       False        True       False       False  \n",
       "2      False      False       False        True       False       False  \n",
       "3      False      False       False        True       False       False  \n",
       "4      False      False       False        True       False       False  \n",
       "\n",
       "[5 rows x 4023 columns]"
      ]
     },
     "execution_count": 65,
     "metadata": {},
     "output_type": "execute_result"
    }
   ],
   "source": [
    "PD_DF.head()"
   ]
  },
  {
   "cell_type": "code",
   "execution_count": 66,
   "id": "0f906ae1",
   "metadata": {},
   "outputs": [
    {
     "data": {
      "text/plain": [
       "9729"
      ]
     },
     "execution_count": 66,
     "metadata": {},
     "output_type": "execute_result"
    }
   ],
   "source": [
    "len(PD_DF)"
   ]
  },
  {
   "cell_type": "code",
   "execution_count": 67,
   "id": "5ca5353e",
   "metadata": {},
   "outputs": [
    {
     "data": {
      "text/plain": [
       "SCAU26AT\n",
       "Z                                  2523\n",
       "Movicol                              87\n",
       "Domperidone                          40\n",
       "miralax                              19\n",
       "metamucil                            15\n",
       "NONE                                 10\n",
       "SMOOTH MOVE TEA                      10\n",
       "0                                    10\n",
       "supps                                 8\n",
       "fiber supplement tablet               8\n",
       "suppository                           7\n",
       "STOOL SOFTENER                        6\n",
       "DOMPERIDONE                           6\n",
       "ESTROGEN ACNE MED                     6\n",
       "colace, miralax                       5\n",
       "ducolax, senecot                      5\n",
       "phyllips tablets                      5\n",
       "lactulose                             5\n",
       "linum seeds                           5\n",
       "COLACE                                5\n",
       "Movicol, if necessary                 5\n",
       "Duspatal                              4\n",
       "laxative daily                        3\n",
       "DUCALAX                               3\n",
       "laxaday                               3\n",
       "bicarbonate de sodium (movicol)       2\n",
       "midol                                 2\n",
       "ciruelax, dulcolax                    2\n",
       "seno kot, siruelax                    2\n",
       "1                                     2\n",
       "LACTITOL                              2\n",
       "ciruelax                              1\n",
       "antihistamine for wasp sting          1\n",
       "Name: count, dtype: int64"
      ]
     },
     "execution_count": 67,
     "metadata": {},
     "output_type": "execute_result"
    }
   ],
   "source": [
    "PD_DF['SCAU26AT'].value_counts()"
   ]
  },
  {
   "cell_type": "code",
   "execution_count": 68,
   "id": "c92282cc",
   "metadata": {},
   "outputs": [
    {
     "data": {
      "text/plain": [
       "SCAU26BT\n",
       "Z                                                      2523\n",
       "fesoterodine                                             39\n",
       "duodart (5-alphareductase inhibitor & alpha inhib.)      38\n",
       "antibiotics: urinary tract infection                     36\n",
       "furosemide                                               32\n",
       "FINASTERIDE                                              29\n",
       "flomax                                                   25\n",
       "Tamsulosin                                               18\n",
       "tamsulosine                                              15\n",
       "0                                                        13\n",
       "TOVIAZ                                                   10\n",
       "flomax, avadart                                           9\n",
       "SOLIFENACINE, SERENOA                                     9\n",
       "tamsulosin                                                8\n",
       "detrol                                                    8\n",
       "stress incon                                              8\n",
       "tolterodine tartrate                                      8\n",
       "amoxicillin noroxin                                       8\n",
       "terazosin                                                 7\n",
       "DOXAZOSINE                                                6\n",
       "tamulosin                                                 6\n",
       "Hemmung Prostatawachstum                                  6\n",
       "solifenacine                                              5\n",
       "catheter, vesicare, hiprex                                5\n",
       "Detrusitol                                                5\n",
       "silodosine                                                5\n",
       "Spasmex                                                   4\n",
       "oxibutinine                                               3\n",
       "keflex                                                    3\n",
       "antibiotics                                               3\n",
       "tamsulosine, dutasteride                                  2\n",
       "Name: count, dtype: int64"
      ]
     },
     "execution_count": 68,
     "metadata": {},
     "output_type": "execute_result"
    }
   ],
   "source": [
    "PD_DF['SCAU26BT'].value_counts()"
   ]
  },
  {
   "cell_type": "code",
   "execution_count": 69,
   "id": "d839886f",
   "metadata": {},
   "outputs": [
    {
     "data": {
      "text/plain": [
       "SCAU26CT\n",
       "Z                            2523\n",
       "Selo-Zok                       62\n",
       "enalapril                      47\n",
       "atenolol                       47\n",
       "Hydrochlorthiazid              47\n",
       "                             ... \n",
       "metoprolol & \"can't read\"       2\n",
       "amloipine                       2\n",
       "atcaolol                        2\n",
       "Hidrosauretil                   2\n",
       "Captocomp                       2\n",
       "Name: count, Length: 74, dtype: int64"
      ]
     },
     "execution_count": 69,
     "metadata": {},
     "output_type": "execute_result"
    }
   ],
   "source": [
    "PD_DF['SCAU26CT'].value_counts()"
   ]
  },
  {
   "cell_type": "raw",
   "id": "bd4b778f",
   "metadata": {},
   "source": [
    "PD_DF = PD_DF.drop([\"SCAU26AT\",\"SCAU26BT\",\"SCAU26CT\",\"LDOPRTYP\",\"LDOPRSPC\"],axis=1)"
   ]
  },
  {
   "cell_type": "code",
   "execution_count": null,
   "id": "c1b22146",
   "metadata": {},
   "outputs": [],
   "source": []
  },
  {
   "cell_type": "code",
   "execution_count": 70,
   "id": "dfc4918a",
   "metadata": {},
   "outputs": [
    {
     "name": "stdout",
     "output_type": "stream",
     "text": [
      "\n",
      "Number of occurrences of 'Z' in each column:\n",
      "lrrkid           0\n",
      "gender           0\n",
      "pdenrl           0\n",
      "MCATOT           0\n",
      "STROKE        2523\n",
      "              ... \n",
      "APOE_E2/E3       0\n",
      "APOE_E2/E4       0\n",
      "APOE_E3/E3       0\n",
      "APOE_E3/E4       0\n",
      "APOE_E4/E4       0\n",
      "Length: 4023, dtype: int64\n"
     ]
    }
   ],
   "source": [
    "count_per_column = PD_DF.apply(lambda col: (col == \"Z\").sum())\n",
    "\n",
    "#print(\"Column Names:\")\n",
    "#print(PD_DF.columns)\n",
    "print(\"\\nNumber of occurrences of '{}' in each column:\".format(\"Z\"))\n",
    "print(count_per_column)"
   ]
  },
  {
   "cell_type": "code",
   "execution_count": 71,
   "id": "dbc5c5c1",
   "metadata": {},
   "outputs": [],
   "source": [
    "\n",
    "# Check for \"Z\" values in all columns\n",
    "z_mask = PD_DF.applymap(lambda x: isinstance(x, str) and 'Z' in x)\n",
    "\n",
    "# Create a mask for rows where \"Z\" is found in any column\n",
    "row_mask = z_mask.any(axis=1)\n",
    "\n",
    "# Remove rows containing \"Z\" values in any column\n",
    "PD_DF = PD_DF[~row_mask]\n",
    "\n",
    "# If you want to remove rows in-place without creating a new DataFrame, you can use the following:\n",
    "# PD_DF.drop(PD_DF[row_mask].index, inplace=True)\n"
   ]
  },
  {
   "cell_type": "code",
   "execution_count": 72,
   "id": "e0012b09",
   "metadata": {},
   "outputs": [
    {
     "data": {
      "text/plain": [
       "6620"
      ]
     },
     "execution_count": 72,
     "metadata": {},
     "output_type": "execute_result"
    }
   ],
   "source": [
    "len(PD_DF)"
   ]
  },
  {
   "cell_type": "code",
   "execution_count": 73,
   "id": "8295d2af",
   "metadata": {},
   "outputs": [
    {
     "name": "stdout",
     "output_type": "stream",
     "text": [
      "\n",
      "Number of occurrences of 'Z' in each column:\n",
      "lrrkid        0\n",
      "gender        0\n",
      "pdenrl        0\n",
      "MCATOT        0\n",
      "STROKE        0\n",
      "             ..\n",
      "APOE_E2/E3    0\n",
      "APOE_E2/E4    0\n",
      "APOE_E3/E3    0\n",
      "APOE_E3/E4    0\n",
      "APOE_E4/E4    0\n",
      "Length: 4023, dtype: int64\n"
     ]
    }
   ],
   "source": [
    "count_per_column = PD_DF.apply(lambda col: (col == \"Z\").sum())\n",
    "\n",
    "#print(\"Column Names:\")\n",
    "#print(PD_DF.columns)\n",
    "print(\"\\nNumber of occurrences of '{}' in each column:\".format(\"Z\"))\n",
    "print(count_per_column)"
   ]
  },
  {
   "cell_type": "code",
   "execution_count": 74,
   "id": "dfba0245",
   "metadata": {},
   "outputs": [
    {
     "data": {
      "text/plain": [
       "6620"
      ]
     },
     "execution_count": 74,
     "metadata": {},
     "output_type": "execute_result"
    }
   ],
   "source": [
    "len(PD_DF)"
   ]
  },
  {
   "cell_type": "code",
   "execution_count": 75,
   "id": "bc185880",
   "metadata": {},
   "outputs": [],
   "source": [
    "\n",
    "columns_to_convert = [\"SCAU26AT\", \"SCAU26BT\", \"SCAU26CT\", \"LDOPRTYP\", \"LDOPRSPC\"]\n",
    "\n",
    "PD_DF[columns_to_convert] = PD_DF[columns_to_convert].applymap(lambda x: 1 if isinstance(x, str) else None)"
   ]
  },
  {
   "cell_type": "code",
   "execution_count": null,
   "id": "451afdfe",
   "metadata": {},
   "outputs": [],
   "source": []
  },
  {
   "cell_type": "code",
   "execution_count": 76,
   "id": "f9e2eb05",
   "metadata": {},
   "outputs": [],
   "source": [
    "# the columns to convert to numeric\n",
    "\n",
    "columns_to_convert = ['STROKE','HETRA','RLS','NARCLPSY','DEPRS','EPILEPSY',\"CNSOTH\",\"BRNINFM\",\"SCAU26AT\", \"SCAU26BT\", \"SCAU26CT\", \"LDOPRTYP\", \"LDOPRSPC\"]\n",
    "\n",
    "PD_DF[columns_to_convert] = PD_DF[columns_to_convert].apply(pd.to_numeric)"
   ]
  },
  {
   "cell_type": "code",
   "execution_count": 77,
   "id": "9d9c791c",
   "metadata": {},
   "outputs": [
    {
     "name": "stdout",
     "output_type": "stream",
     "text": [
      "<class 'pandas.core.frame.DataFrame'>\n",
      "Index: 6620 entries, 1774 to 9728\n",
      "Columns: 4023 entries, lrrkid to APOE_E4/E4\n",
      "dtypes: bool(33), float64(3989), object(1)\n",
      "memory usage: 201.8+ MB\n"
     ]
    }
   ],
   "source": [
    "PD_DF.info()"
   ]
  },
  {
   "cell_type": "code",
   "execution_count": 78,
   "id": "7f3bbb0e",
   "metadata": {},
   "outputs": [
    {
     "data": {
      "text/plain": [
       "6620"
      ]
     },
     "execution_count": 78,
     "metadata": {},
     "output_type": "execute_result"
    }
   ],
   "source": [
    "len(PD_DF)"
   ]
  },
  {
   "cell_type": "code",
   "execution_count": 79,
   "id": "bc019b5a",
   "metadata": {},
   "outputs": [
    {
     "data": {
      "text/html": [
       "<div>\n",
       "<style scoped>\n",
       "    .dataframe tbody tr th:only-of-type {\n",
       "        vertical-align: middle;\n",
       "    }\n",
       "\n",
       "    .dataframe tbody tr th {\n",
       "        vertical-align: top;\n",
       "    }\n",
       "\n",
       "    .dataframe thead th {\n",
       "        text-align: right;\n",
       "    }\n",
       "</style>\n",
       "<table border=\"1\" class=\"dataframe\">\n",
       "  <thead>\n",
       "    <tr style=\"text-align: right;\">\n",
       "      <th></th>\n",
       "      <th></th>\n",
       "      <th>lrrkid</th>\n",
       "    </tr>\n",
       "    <tr>\n",
       "      <th>gender</th>\n",
       "      <th>pdenrl</th>\n",
       "      <th></th>\n",
       "    </tr>\n",
       "  </thead>\n",
       "  <tbody>\n",
       "    <tr>\n",
       "      <th rowspan=\"2\" valign=\"top\">1.0</th>\n",
       "      <th>0.0</th>\n",
       "      <td>194</td>\n",
       "    </tr>\n",
       "    <tr>\n",
       "      <th>1.0</th>\n",
       "      <td>95</td>\n",
       "    </tr>\n",
       "    <tr>\n",
       "      <th rowspan=\"2\" valign=\"top\">2.0</th>\n",
       "      <th>0.0</th>\n",
       "      <td>120</td>\n",
       "    </tr>\n",
       "    <tr>\n",
       "      <th>1.0</th>\n",
       "      <td>102</td>\n",
       "    </tr>\n",
       "  </tbody>\n",
       "</table>\n",
       "</div>"
      ],
      "text/plain": [
       "               lrrkid\n",
       "gender pdenrl        \n",
       "1.0    0.0        194\n",
       "       1.0         95\n",
       "2.0    0.0        120\n",
       "       1.0        102"
      ]
     },
     "execution_count": 79,
     "metadata": {},
     "output_type": "execute_result"
    }
   ],
   "source": [
    "df_gender = PD_DF.groupby(['gender','pdenrl'])\n",
    "\n",
    "df_gender = df_gender.agg({'lrrkid':'nunique'})\n",
    "\n",
    "df_gender.head()"
   ]
  },
  {
   "cell_type": "code",
   "execution_count": 80,
   "id": "dd5dcb7c",
   "metadata": {},
   "outputs": [
    {
     "data": {
      "text/plain": [
       "511"
      ]
     },
     "execution_count": 80,
     "metadata": {},
     "output_type": "execute_result"
    }
   ],
   "source": [
    "PD_DF['lrrkid'].nunique()"
   ]
  },
  {
   "cell_type": "code",
   "execution_count": 81,
   "id": "4eed2b23",
   "metadata": {},
   "outputs": [
    {
     "data": {
      "text/plain": [
       "pdenrl\n",
       "0.0    3697\n",
       "1.0    2923\n",
       "Name: count, dtype: int64"
      ]
     },
     "execution_count": 81,
     "metadata": {},
     "output_type": "execute_result"
    }
   ],
   "source": [
    "PD_DF['pdenrl'].value_counts()"
   ]
  },
  {
   "cell_type": "code",
   "execution_count": 82,
   "id": "c02aa736",
   "metadata": {},
   "outputs": [
    {
     "data": {
      "text/plain": [
       "count    6442.000000\n",
       "mean       25.971282\n",
       "std         3.506015\n",
       "min         5.000000\n",
       "25%        24.000000\n",
       "50%        27.000000\n",
       "75%        28.000000\n",
       "max        30.000000\n",
       "Name: MCATOT, dtype: float64"
      ]
     },
     "execution_count": 82,
     "metadata": {},
     "output_type": "execute_result"
    }
   ],
   "source": [
    "PD_DF['MCATOT'].describe()"
   ]
  },
  {
   "cell_type": "code",
   "execution_count": 83,
   "id": "ab06de6c",
   "metadata": {},
   "outputs": [
    {
     "data": {
      "text/plain": [
       "178"
      ]
     },
     "execution_count": 83,
     "metadata": {},
     "output_type": "execute_result"
    }
   ],
   "source": [
    "PD_DF['MCATOT'].isnull().sum()"
   ]
  },
  {
   "cell_type": "code",
   "execution_count": 84,
   "id": "267352e9",
   "metadata": {},
   "outputs": [
    {
     "data": {
      "text/plain": [
       "MCATOT\n",
       "28.0    1144\n",
       "27.0     847\n",
       "30.0     813\n",
       "26.0     755\n",
       "29.0     653\n",
       "24.0     540\n",
       "25.0     450\n",
       "22.0     320\n",
       "23.0     307\n",
       "21.0     216\n",
       "18.0      86\n",
       "19.0      83\n",
       "20.0      61\n",
       "12.0      47\n",
       "17.0      38\n",
       "14.0      32\n",
       "13.0      20\n",
       "15.0      15\n",
       "9.0        6\n",
       "8.0        5\n",
       "5.0        4\n",
       "Name: count, dtype: int64"
      ]
     },
     "execution_count": 84,
     "metadata": {},
     "output_type": "execute_result"
    }
   ],
   "source": [
    "PD_DF['MCATOT'].value_counts()"
   ]
  },
  {
   "cell_type": "raw",
   "id": "187d1fcd",
   "metadata": {},
   "source": [
    "PD_DF = PD_DF.drop(['MCATOT'], axis=1)"
   ]
  },
  {
   "cell_type": "code",
   "execution_count": 85,
   "id": "f3a47c49",
   "metadata": {},
   "outputs": [
    {
     "data": {
      "text/plain": [
       "6620"
      ]
     },
     "execution_count": 85,
     "metadata": {},
     "output_type": "execute_result"
    }
   ],
   "source": [
    "len(PD_DF)"
   ]
  },
  {
   "cell_type": "code",
   "execution_count": 86,
   "id": "f7c02e91",
   "metadata": {},
   "outputs": [],
   "source": [
    "PD_DF.to_csv(\"Data/LRRK2_1212_.csv\",index=False)"
   ]
  },
  {
   "cell_type": "code",
   "execution_count": 87,
   "id": "2bc09f0b",
   "metadata": {},
   "outputs": [],
   "source": [
    "Final_df = PD_DF.dropna(axis=1, how='all')"
   ]
  },
  {
   "cell_type": "code",
   "execution_count": null,
   "id": "958bceec",
   "metadata": {},
   "outputs": [],
   "source": []
  },
  {
   "cell_type": "code",
   "execution_count": 88,
   "id": "32dcc658",
   "metadata": {},
   "outputs": [],
   "source": [
    "Final_df = Final_df.drop(['gender'], axis=1)"
   ]
  },
  {
   "cell_type": "code",
   "execution_count": 89,
   "id": "7ecafb18",
   "metadata": {},
   "outputs": [
    {
     "data": {
      "text/html": [
       "<div>\n",
       "<style scoped>\n",
       "    .dataframe tbody tr th:only-of-type {\n",
       "        vertical-align: middle;\n",
       "    }\n",
       "\n",
       "    .dataframe tbody tr th {\n",
       "        vertical-align: top;\n",
       "    }\n",
       "\n",
       "    .dataframe thead th {\n",
       "        text-align: right;\n",
       "    }\n",
       "</style>\n",
       "<table border=\"1\" class=\"dataframe\">\n",
       "  <thead>\n",
       "    <tr style=\"text-align: right;\">\n",
       "      <th></th>\n",
       "      <th>lrrkid</th>\n",
       "      <th>pdenrl</th>\n",
       "      <th>MCATOT</th>\n",
       "      <th>STROKE</th>\n",
       "      <th>HETRA</th>\n",
       "      <th>RLS</th>\n",
       "      <th>NARCLPSY</th>\n",
       "      <th>DEPRS</th>\n",
       "      <th>EPILEPSY</th>\n",
       "      <th>BRNINFM</th>\n",
       "      <th>...</th>\n",
       "      <th>_nonREM parasonmnia (sleep walking)</th>\n",
       "      <th>_optic neuritis</th>\n",
       "      <th>_possible Sleep apnea-hypopnea?</th>\n",
       "      <th>_they deny having RLS but suitable symptoms, not diagnosed of depression but scales suggest he is depressed</th>\n",
       "      <th>APOE_E2/E2</th>\n",
       "      <th>APOE_E2/E3</th>\n",
       "      <th>APOE_E2/E4</th>\n",
       "      <th>APOE_E3/E3</th>\n",
       "      <th>APOE_E3/E4</th>\n",
       "      <th>APOE_E4/E4</th>\n",
       "    </tr>\n",
       "  </thead>\n",
       "  <tbody>\n",
       "    <tr>\n",
       "      <th>1774</th>\n",
       "      <td>30010</td>\n",
       "      <td>0.0</td>\n",
       "      <td>30.0</td>\n",
       "      <td>0.0</td>\n",
       "      <td>0.0</td>\n",
       "      <td>1.0</td>\n",
       "      <td>0.0</td>\n",
       "      <td>0.0</td>\n",
       "      <td>0.0</td>\n",
       "      <td>0.0</td>\n",
       "      <td>...</td>\n",
       "      <td>False</td>\n",
       "      <td>False</td>\n",
       "      <td>False</td>\n",
       "      <td>False</td>\n",
       "      <td>False</td>\n",
       "      <td>False</td>\n",
       "      <td>False</td>\n",
       "      <td>True</td>\n",
       "      <td>False</td>\n",
       "      <td>False</td>\n",
       "    </tr>\n",
       "    <tr>\n",
       "      <th>1775</th>\n",
       "      <td>70010</td>\n",
       "      <td>0.0</td>\n",
       "      <td>27.0</td>\n",
       "      <td>0.0</td>\n",
       "      <td>0.0</td>\n",
       "      <td>0.0</td>\n",
       "      <td>0.0</td>\n",
       "      <td>1.0</td>\n",
       "      <td>0.0</td>\n",
       "      <td>0.0</td>\n",
       "      <td>...</td>\n",
       "      <td>False</td>\n",
       "      <td>False</td>\n",
       "      <td>False</td>\n",
       "      <td>False</td>\n",
       "      <td>False</td>\n",
       "      <td>False</td>\n",
       "      <td>False</td>\n",
       "      <td>False</td>\n",
       "      <td>False</td>\n",
       "      <td>False</td>\n",
       "    </tr>\n",
       "    <tr>\n",
       "      <th>1776</th>\n",
       "      <td>100010</td>\n",
       "      <td>0.0</td>\n",
       "      <td>30.0</td>\n",
       "      <td>0.0</td>\n",
       "      <td>0.0</td>\n",
       "      <td>0.0</td>\n",
       "      <td>0.0</td>\n",
       "      <td>0.0</td>\n",
       "      <td>0.0</td>\n",
       "      <td>0.0</td>\n",
       "      <td>...</td>\n",
       "      <td>False</td>\n",
       "      <td>False</td>\n",
       "      <td>False</td>\n",
       "      <td>False</td>\n",
       "      <td>False</td>\n",
       "      <td>False</td>\n",
       "      <td>False</td>\n",
       "      <td>True</td>\n",
       "      <td>False</td>\n",
       "      <td>False</td>\n",
       "    </tr>\n",
       "    <tr>\n",
       "      <th>1777</th>\n",
       "      <td>440010</td>\n",
       "      <td>0.0</td>\n",
       "      <td>27.0</td>\n",
       "      <td>0.0</td>\n",
       "      <td>0.0</td>\n",
       "      <td>0.0</td>\n",
       "      <td>0.0</td>\n",
       "      <td>0.0</td>\n",
       "      <td>0.0</td>\n",
       "      <td>0.0</td>\n",
       "      <td>...</td>\n",
       "      <td>False</td>\n",
       "      <td>False</td>\n",
       "      <td>False</td>\n",
       "      <td>False</td>\n",
       "      <td>False</td>\n",
       "      <td>False</td>\n",
       "      <td>False</td>\n",
       "      <td>False</td>\n",
       "      <td>True</td>\n",
       "      <td>False</td>\n",
       "    </tr>\n",
       "    <tr>\n",
       "      <th>1778</th>\n",
       "      <td>490010</td>\n",
       "      <td>0.0</td>\n",
       "      <td>26.0</td>\n",
       "      <td>0.0</td>\n",
       "      <td>0.0</td>\n",
       "      <td>0.0</td>\n",
       "      <td>0.0</td>\n",
       "      <td>1.0</td>\n",
       "      <td>0.0</td>\n",
       "      <td>0.0</td>\n",
       "      <td>...</td>\n",
       "      <td>False</td>\n",
       "      <td>False</td>\n",
       "      <td>False</td>\n",
       "      <td>False</td>\n",
       "      <td>False</td>\n",
       "      <td>False</td>\n",
       "      <td>False</td>\n",
       "      <td>False</td>\n",
       "      <td>False</td>\n",
       "      <td>False</td>\n",
       "    </tr>\n",
       "  </tbody>\n",
       "</table>\n",
       "<p>5 rows × 2955 columns</p>\n",
       "</div>"
      ],
      "text/plain": [
       "      lrrkid  pdenrl  MCATOT  STROKE  HETRA  RLS  NARCLPSY  DEPRS  EPILEPSY  \\\n",
       "1774   30010     0.0    30.0     0.0    0.0  1.0       0.0    0.0       0.0   \n",
       "1775   70010     0.0    27.0     0.0    0.0  0.0       0.0    1.0       0.0   \n",
       "1776  100010     0.0    30.0     0.0    0.0  0.0       0.0    0.0       0.0   \n",
       "1777  440010     0.0    27.0     0.0    0.0  0.0       0.0    0.0       0.0   \n",
       "1778  490010     0.0    26.0     0.0    0.0  0.0       0.0    1.0       0.0   \n",
       "\n",
       "      BRNINFM  ...  _nonREM parasonmnia (sleep walking)  _optic neuritis  \\\n",
       "1774      0.0  ...                                False            False   \n",
       "1775      0.0  ...                                False            False   \n",
       "1776      0.0  ...                                False            False   \n",
       "1777      0.0  ...                                False            False   \n",
       "1778      0.0  ...                                False            False   \n",
       "\n",
       "      _possible Sleep apnea-hypopnea?  \\\n",
       "1774                            False   \n",
       "1775                            False   \n",
       "1776                            False   \n",
       "1777                            False   \n",
       "1778                            False   \n",
       "\n",
       "      _they deny having RLS but suitable symptoms, not diagnosed of depression but scales suggest he is depressed  \\\n",
       "1774                                              False                                                             \n",
       "1775                                              False                                                             \n",
       "1776                                              False                                                             \n",
       "1777                                              False                                                             \n",
       "1778                                              False                                                             \n",
       "\n",
       "      APOE_E2/E2  APOE_E2/E3  APOE_E2/E4  APOE_E3/E3  APOE_E3/E4  APOE_E4/E4  \n",
       "1774       False       False       False        True       False       False  \n",
       "1775       False       False       False       False       False       False  \n",
       "1776       False       False       False        True       False       False  \n",
       "1777       False       False       False       False        True       False  \n",
       "1778       False       False       False       False       False       False  \n",
       "\n",
       "[5 rows x 2955 columns]"
      ]
     },
     "execution_count": 89,
     "metadata": {},
     "output_type": "execute_result"
    }
   ],
   "source": [
    "Final_df.head()"
   ]
  },
  {
   "cell_type": "code",
   "execution_count": 90,
   "id": "edbfb22a",
   "metadata": {},
   "outputs": [
    {
     "name": "stdout",
     "output_type": "stream",
     "text": [
      "<class 'pandas.core.frame.DataFrame'>\n",
      "Index: 6620 entries, 1774 to 9728\n",
      "Columns: 2955 entries, lrrkid to APOE_E4/E4\n",
      "dtypes: bool(33), float64(2921), object(1)\n",
      "memory usage: 147.8+ MB\n"
     ]
    }
   ],
   "source": [
    "Final_df.info()"
   ]
  },
  {
   "cell_type": "code",
   "execution_count": 91,
   "id": "275e0ac8",
   "metadata": {},
   "outputs": [
    {
     "data": {
      "text/plain": [
       "6620"
      ]
     },
     "execution_count": 91,
     "metadata": {},
     "output_type": "execute_result"
    }
   ],
   "source": [
    "len(Final_df)"
   ]
  },
  {
   "cell_type": "raw",
   "id": "2fe9e3df",
   "metadata": {},
   "source": [
    "import matplotlib.pyplot as plt\n",
    "\n",
    "\n",
    "correlation_matrix = Final_df.corr()\n",
    "target_correlation = correlation_matrix['pdenrl'].drop('pdenrl')\n",
    "\n",
    "plt.figure(figsize=(30, 15))\n",
    "target_correlation.plot(kind='bar')\n",
    "plt.title('Correlation with pdenrl')\n",
    "plt.xlabel('Feature')\n",
    "plt.ylabel('Correlation')\n",
    "plt.show()"
   ]
  },
  {
   "cell_type": "code",
   "execution_count": 92,
   "id": "985100dc",
   "metadata": {},
   "outputs": [
    {
     "data": {
      "text/plain": [
       "178"
      ]
     },
     "execution_count": 92,
     "metadata": {},
     "output_type": "execute_result"
    }
   ],
   "source": [
    "Final_df['MCATOT'].isnull().sum()"
   ]
  },
  {
   "cell_type": "code",
   "execution_count": 93,
   "id": "15eb079a",
   "metadata": {},
   "outputs": [
    {
     "data": {
      "text/plain": [
       "count    6442.000000\n",
       "mean       25.971282\n",
       "std         3.506015\n",
       "min         5.000000\n",
       "25%        24.000000\n",
       "50%        27.000000\n",
       "75%        28.000000\n",
       "max        30.000000\n",
       "Name: MCATOT, dtype: float64"
      ]
     },
     "execution_count": 93,
     "metadata": {},
     "output_type": "execute_result"
    }
   ],
   "source": [
    "Final_df['MCATOT'].describe()"
   ]
  },
  {
   "cell_type": "raw",
   "id": "d1421eb6",
   "metadata": {},
   "source": [
    "# mean_value = Final_df['MCATOT'].mean()\n",
    "\n",
    "rounded_mean = round(mean_value)\n",
    "\n",
    "Final_df['MCATOT'].fillna(rounded_mean, inplace=True)"
   ]
  },
  {
   "cell_type": "raw",
   "id": "d232f28c",
   "metadata": {},
   "source": [
    "Final_df['MCATOT'].isnull().sum()"
   ]
  },
  {
   "cell_type": "raw",
   "id": "e79f82ca",
   "metadata": {},
   "source": [
    "Final_df['MCATOT'].describe()"
   ]
  },
  {
   "cell_type": "code",
   "execution_count": 94,
   "id": "0a627045",
   "metadata": {},
   "outputs": [
    {
     "data": {
      "text/plain": [
       "163"
      ]
     },
     "execution_count": 94,
     "metadata": {},
     "output_type": "execute_result"
    }
   ],
   "source": [
    "Final_df['STROKE'].isnull().sum()"
   ]
  },
  {
   "cell_type": "raw",
   "id": "3b254fb5",
   "metadata": {},
   "source": [
    "PD_DF.to_csv(\"Data/LRRK2_test_df.csv\",index=False)"
   ]
  },
  {
   "cell_type": "raw",
   "id": "de58e7a1",
   "metadata": {},
   "source": [
    "Final_df = Final_df.fillna(-1)"
   ]
  },
  {
   "cell_type": "code",
   "execution_count": 95,
   "id": "3035bc7b",
   "metadata": {},
   "outputs": [
    {
     "data": {
      "text/html": [
       "<div>\n",
       "<style scoped>\n",
       "    .dataframe tbody tr th:only-of-type {\n",
       "        vertical-align: middle;\n",
       "    }\n",
       "\n",
       "    .dataframe tbody tr th {\n",
       "        vertical-align: top;\n",
       "    }\n",
       "\n",
       "    .dataframe thead th {\n",
       "        text-align: right;\n",
       "    }\n",
       "</style>\n",
       "<table border=\"1\" class=\"dataframe\">\n",
       "  <thead>\n",
       "    <tr style=\"text-align: right;\">\n",
       "      <th></th>\n",
       "      <th>lrrkid</th>\n",
       "      <th>pdenrl</th>\n",
       "      <th>MCATOT</th>\n",
       "      <th>STROKE</th>\n",
       "      <th>HETRA</th>\n",
       "      <th>RLS</th>\n",
       "      <th>NARCLPSY</th>\n",
       "      <th>DEPRS</th>\n",
       "      <th>EPILEPSY</th>\n",
       "      <th>BRNINFM</th>\n",
       "      <th>...</th>\n",
       "      <th>_nonREM parasonmnia (sleep walking)</th>\n",
       "      <th>_optic neuritis</th>\n",
       "      <th>_possible Sleep apnea-hypopnea?</th>\n",
       "      <th>_they deny having RLS but suitable symptoms, not diagnosed of depression but scales suggest he is depressed</th>\n",
       "      <th>APOE_E2/E2</th>\n",
       "      <th>APOE_E2/E3</th>\n",
       "      <th>APOE_E2/E4</th>\n",
       "      <th>APOE_E3/E3</th>\n",
       "      <th>APOE_E3/E4</th>\n",
       "      <th>APOE_E4/E4</th>\n",
       "    </tr>\n",
       "  </thead>\n",
       "  <tbody>\n",
       "    <tr>\n",
       "      <th>1774</th>\n",
       "      <td>30010</td>\n",
       "      <td>0.0</td>\n",
       "      <td>30.0</td>\n",
       "      <td>0.0</td>\n",
       "      <td>0.0</td>\n",
       "      <td>1.0</td>\n",
       "      <td>0.0</td>\n",
       "      <td>0.0</td>\n",
       "      <td>0.0</td>\n",
       "      <td>0.0</td>\n",
       "      <td>...</td>\n",
       "      <td>False</td>\n",
       "      <td>False</td>\n",
       "      <td>False</td>\n",
       "      <td>False</td>\n",
       "      <td>False</td>\n",
       "      <td>False</td>\n",
       "      <td>False</td>\n",
       "      <td>True</td>\n",
       "      <td>False</td>\n",
       "      <td>False</td>\n",
       "    </tr>\n",
       "    <tr>\n",
       "      <th>1775</th>\n",
       "      <td>70010</td>\n",
       "      <td>0.0</td>\n",
       "      <td>27.0</td>\n",
       "      <td>0.0</td>\n",
       "      <td>0.0</td>\n",
       "      <td>0.0</td>\n",
       "      <td>0.0</td>\n",
       "      <td>1.0</td>\n",
       "      <td>0.0</td>\n",
       "      <td>0.0</td>\n",
       "      <td>...</td>\n",
       "      <td>False</td>\n",
       "      <td>False</td>\n",
       "      <td>False</td>\n",
       "      <td>False</td>\n",
       "      <td>False</td>\n",
       "      <td>False</td>\n",
       "      <td>False</td>\n",
       "      <td>False</td>\n",
       "      <td>False</td>\n",
       "      <td>False</td>\n",
       "    </tr>\n",
       "    <tr>\n",
       "      <th>1776</th>\n",
       "      <td>100010</td>\n",
       "      <td>0.0</td>\n",
       "      <td>30.0</td>\n",
       "      <td>0.0</td>\n",
       "      <td>0.0</td>\n",
       "      <td>0.0</td>\n",
       "      <td>0.0</td>\n",
       "      <td>0.0</td>\n",
       "      <td>0.0</td>\n",
       "      <td>0.0</td>\n",
       "      <td>...</td>\n",
       "      <td>False</td>\n",
       "      <td>False</td>\n",
       "      <td>False</td>\n",
       "      <td>False</td>\n",
       "      <td>False</td>\n",
       "      <td>False</td>\n",
       "      <td>False</td>\n",
       "      <td>True</td>\n",
       "      <td>False</td>\n",
       "      <td>False</td>\n",
       "    </tr>\n",
       "    <tr>\n",
       "      <th>1777</th>\n",
       "      <td>440010</td>\n",
       "      <td>0.0</td>\n",
       "      <td>27.0</td>\n",
       "      <td>0.0</td>\n",
       "      <td>0.0</td>\n",
       "      <td>0.0</td>\n",
       "      <td>0.0</td>\n",
       "      <td>0.0</td>\n",
       "      <td>0.0</td>\n",
       "      <td>0.0</td>\n",
       "      <td>...</td>\n",
       "      <td>False</td>\n",
       "      <td>False</td>\n",
       "      <td>False</td>\n",
       "      <td>False</td>\n",
       "      <td>False</td>\n",
       "      <td>False</td>\n",
       "      <td>False</td>\n",
       "      <td>False</td>\n",
       "      <td>True</td>\n",
       "      <td>False</td>\n",
       "    </tr>\n",
       "    <tr>\n",
       "      <th>1778</th>\n",
       "      <td>490010</td>\n",
       "      <td>0.0</td>\n",
       "      <td>26.0</td>\n",
       "      <td>0.0</td>\n",
       "      <td>0.0</td>\n",
       "      <td>0.0</td>\n",
       "      <td>0.0</td>\n",
       "      <td>1.0</td>\n",
       "      <td>0.0</td>\n",
       "      <td>0.0</td>\n",
       "      <td>...</td>\n",
       "      <td>False</td>\n",
       "      <td>False</td>\n",
       "      <td>False</td>\n",
       "      <td>False</td>\n",
       "      <td>False</td>\n",
       "      <td>False</td>\n",
       "      <td>False</td>\n",
       "      <td>False</td>\n",
       "      <td>False</td>\n",
       "      <td>False</td>\n",
       "    </tr>\n",
       "  </tbody>\n",
       "</table>\n",
       "<p>5 rows × 2955 columns</p>\n",
       "</div>"
      ],
      "text/plain": [
       "      lrrkid  pdenrl  MCATOT  STROKE  HETRA  RLS  NARCLPSY  DEPRS  EPILEPSY  \\\n",
       "1774   30010     0.0    30.0     0.0    0.0  1.0       0.0    0.0       0.0   \n",
       "1775   70010     0.0    27.0     0.0    0.0  0.0       0.0    1.0       0.0   \n",
       "1776  100010     0.0    30.0     0.0    0.0  0.0       0.0    0.0       0.0   \n",
       "1777  440010     0.0    27.0     0.0    0.0  0.0       0.0    0.0       0.0   \n",
       "1778  490010     0.0    26.0     0.0    0.0  0.0       0.0    1.0       0.0   \n",
       "\n",
       "      BRNINFM  ...  _nonREM parasonmnia (sleep walking)  _optic neuritis  \\\n",
       "1774      0.0  ...                                False            False   \n",
       "1775      0.0  ...                                False            False   \n",
       "1776      0.0  ...                                False            False   \n",
       "1777      0.0  ...                                False            False   \n",
       "1778      0.0  ...                                False            False   \n",
       "\n",
       "      _possible Sleep apnea-hypopnea?  \\\n",
       "1774                            False   \n",
       "1775                            False   \n",
       "1776                            False   \n",
       "1777                            False   \n",
       "1778                            False   \n",
       "\n",
       "      _they deny having RLS but suitable symptoms, not diagnosed of depression but scales suggest he is depressed  \\\n",
       "1774                                              False                                                             \n",
       "1775                                              False                                                             \n",
       "1776                                              False                                                             \n",
       "1777                                              False                                                             \n",
       "1778                                              False                                                             \n",
       "\n",
       "      APOE_E2/E2  APOE_E2/E3  APOE_E2/E4  APOE_E3/E3  APOE_E3/E4  APOE_E4/E4  \n",
       "1774       False       False       False        True       False       False  \n",
       "1775       False       False       False       False       False       False  \n",
       "1776       False       False       False        True       False       False  \n",
       "1777       False       False       False       False        True       False  \n",
       "1778       False       False       False       False       False       False  \n",
       "\n",
       "[5 rows x 2955 columns]"
      ]
     },
     "execution_count": 95,
     "metadata": {},
     "output_type": "execute_result"
    }
   ],
   "source": [
    "Final_df.head()"
   ]
  },
  {
   "cell_type": "raw",
   "id": "f699096b",
   "metadata": {},
   "source": [
    "import matplotlib.pyplot as plt\n",
    "\n",
    "\n",
    "correlation_matrix = Final_df.corr()\n",
    "target_correlation = correlation_matrix['pdenrl'].drop('pdenrl')\n",
    "\n",
    "plt.figure(figsize=(30, 15))\n",
    "target_correlation.plot(kind='bar')\n",
    "plt.title('Correlation with pdenrl')\n",
    "plt.xlabel('Feature')\n",
    "plt.ylabel('Correlation')\n",
    "plt.show()"
   ]
  },
  {
   "cell_type": "code",
   "execution_count": 96,
   "id": "3cc5b0a9",
   "metadata": {},
   "outputs": [],
   "source": [
    "Final_df.columns = Final_df.columns.astype(str)"
   ]
  },
  {
   "cell_type": "code",
   "execution_count": 97,
   "id": "5b010c1d",
   "metadata": {},
   "outputs": [
    {
     "data": {
      "text/plain": [
       "511"
      ]
     },
     "execution_count": 97,
     "metadata": {},
     "output_type": "execute_result"
    }
   ],
   "source": [
    "Final_df['lrrkid'].nunique()"
   ]
  },
  {
   "cell_type": "code",
   "execution_count": 98,
   "id": "6deda5bc",
   "metadata": {},
   "outputs": [
    {
     "data": {
      "text/plain": [
       "lrrkid\n",
       "40007     47\n",
       "440007    45\n",
       "550007    45\n",
       "420007    45\n",
       "210007    44\n",
       "          ..\n",
       "260008     1\n",
       "450008     1\n",
       "410008     1\n",
       "200008     1\n",
       "320008     1\n",
       "Name: count, Length: 511, dtype: int64"
      ]
     },
     "execution_count": 98,
     "metadata": {},
     "output_type": "execute_result"
    }
   ],
   "source": [
    "Final_df['lrrkid'].value_counts()"
   ]
  },
  {
   "cell_type": "code",
   "execution_count": 99,
   "id": "acb1dda8",
   "metadata": {},
   "outputs": [
    {
     "data": {
      "text/plain": [
       "pdenrl\n",
       "0.0    3697\n",
       "1.0    2923\n",
       "Name: count, dtype: int64"
      ]
     },
     "execution_count": 99,
     "metadata": {},
     "output_type": "execute_result"
    }
   ],
   "source": [
    "Final_df['pdenrl'].value_counts()"
   ]
  },
  {
   "cell_type": "code",
   "execution_count": 100,
   "id": "98a0690d",
   "metadata": {},
   "outputs": [
    {
     "data": {
      "text/plain": [
       "6620"
      ]
     },
     "execution_count": 100,
     "metadata": {},
     "output_type": "execute_result"
    }
   ],
   "source": [
    "len(Final_df)"
   ]
  },
  {
   "cell_type": "code",
   "execution_count": 159,
   "id": "49915ed3",
   "metadata": {},
   "outputs": [
    {
     "data": {
      "text/plain": [
       "array(['90004', '1300006', '820005', '20010', '300004'], dtype=object)"
      ]
     },
     "execution_count": 159,
     "metadata": {},
     "output_type": "execute_result"
    }
   ],
   "source": [
    "# Unique patients id\n",
    "\n",
    "patient_id = Final_df[\"lrrkid\"].unique()\n",
    "\n",
    "#randomly shuffle patient. \n",
    "\n",
    "np.random.shuffle(patient_id)\n",
    "\n",
    "patient_id[:5]"
   ]
  },
  {
   "cell_type": "code",
   "execution_count": 160,
   "id": "0e23b729",
   "metadata": {},
   "outputs": [],
   "source": [
    "total_data = Final_df[\"lrrkid\"].isin(patient_id[:round(0.75 * len(patient_id))])\n",
    "\n",
    "train_data = Final_df.loc[total_data, :]\n",
    "test_data = Final_df.loc[~total_data, :]"
   ]
  },
  {
   "cell_type": "code",
   "execution_count": 161,
   "id": "311db371",
   "metadata": {},
   "outputs": [
    {
     "data": {
      "text/plain": [
       "lrrkid\n",
       "False    4760\n",
       "Name: count, dtype: int64"
      ]
     },
     "execution_count": 161,
     "metadata": {},
     "output_type": "execute_result"
    }
   ],
   "source": [
    "train_data['lrrkid'].isin(test_data['lrrkid']).value_counts()"
   ]
  },
  {
   "cell_type": "code",
   "execution_count": 162,
   "id": "62fd5fb8",
   "metadata": {},
   "outputs": [
    {
     "name": "stdout",
     "output_type": "stream",
     "text": [
      "<class 'pandas.core.frame.DataFrame'>\n",
      "Index: 1860 entries, 1778 to 9728\n",
      "Columns: 2955 entries, lrrkid to APOE_E4/E4\n",
      "dtypes: bool(33), float64(2921), object(1)\n",
      "memory usage: 41.5+ MB\n"
     ]
    }
   ],
   "source": [
    "test_data.info()"
   ]
  },
  {
   "cell_type": "code",
   "execution_count": 163,
   "id": "62f49d35",
   "metadata": {},
   "outputs": [
    {
     "name": "stdout",
     "output_type": "stream",
     "text": [
      "<class 'pandas.core.frame.DataFrame'>\n",
      "Index: 4760 entries, 1774 to 9719\n",
      "Columns: 2955 entries, lrrkid to APOE_E4/E4\n",
      "dtypes: bool(33), float64(2921), object(1)\n",
      "memory usage: 106.3+ MB\n"
     ]
    }
   ],
   "source": [
    "train_data.info()"
   ]
  },
  {
   "cell_type": "code",
   "execution_count": 164,
   "id": "15932538",
   "metadata": {},
   "outputs": [
    {
     "data": {
      "text/plain": [
       "128"
      ]
     },
     "execution_count": 164,
     "metadata": {},
     "output_type": "execute_result"
    }
   ],
   "source": [
    "test_data['lrrkid'].nunique()"
   ]
  },
  {
   "cell_type": "code",
   "execution_count": 165,
   "id": "efc9a9a9",
   "metadata": {},
   "outputs": [
    {
     "data": {
      "text/plain": [
       "383"
      ]
     },
     "execution_count": 165,
     "metadata": {},
     "output_type": "execute_result"
    }
   ],
   "source": [
    "train_data['lrrkid'].nunique()"
   ]
  },
  {
   "cell_type": "code",
   "execution_count": 166,
   "id": "43d8dee5",
   "metadata": {},
   "outputs": [
    {
     "data": {
      "text/plain": [
       "pdenrl\n",
       "0.0    2683\n",
       "1.0    2077\n",
       "Name: count, dtype: int64"
      ]
     },
     "execution_count": 166,
     "metadata": {},
     "output_type": "execute_result"
    }
   ],
   "source": [
    "train_data[\"pdenrl\"].value_counts()"
   ]
  },
  {
   "cell_type": "code",
   "execution_count": 167,
   "id": "91b41268",
   "metadata": {},
   "outputs": [
    {
     "data": {
      "text/plain": [
       "pdenrl\n",
       "0.0    1014\n",
       "1.0     846\n",
       "Name: count, dtype: int64"
      ]
     },
     "execution_count": 167,
     "metadata": {},
     "output_type": "execute_result"
    }
   ],
   "source": [
    "test_data[\"pdenrl\"].value_counts()"
   ]
  },
  {
   "cell_type": "code",
   "execution_count": 168,
   "id": "16f6bd1d",
   "metadata": {},
   "outputs": [
    {
     "data": {
      "text/plain": [
       "1774    0.0\n",
       "1775    0.0\n",
       "1776    0.0\n",
       "1777    0.0\n",
       "1781    0.0\n",
       "Name: pdenrl, dtype: float64"
      ]
     },
     "execution_count": 168,
     "metadata": {},
     "output_type": "execute_result"
    }
   ],
   "source": [
    "train_X = train_data.drop(['lrrkid','pdenrl'], axis=1)\n",
    "\n",
    "trainy = train_data['pdenrl']\n",
    "\n",
    "trainy[0:5]"
   ]
  },
  {
   "cell_type": "code",
   "execution_count": 169,
   "id": "bbdd7266",
   "metadata": {},
   "outputs": [
    {
     "data": {
      "text/html": [
       "<div>\n",
       "<style scoped>\n",
       "    .dataframe tbody tr th:only-of-type {\n",
       "        vertical-align: middle;\n",
       "    }\n",
       "\n",
       "    .dataframe tbody tr th {\n",
       "        vertical-align: top;\n",
       "    }\n",
       "\n",
       "    .dataframe thead th {\n",
       "        text-align: right;\n",
       "    }\n",
       "</style>\n",
       "<table border=\"1\" class=\"dataframe\">\n",
       "  <thead>\n",
       "    <tr style=\"text-align: right;\">\n",
       "      <th></th>\n",
       "      <th>MCATOT</th>\n",
       "      <th>STROKE</th>\n",
       "      <th>HETRA</th>\n",
       "      <th>RLS</th>\n",
       "      <th>NARCLPSY</th>\n",
       "      <th>DEPRS</th>\n",
       "      <th>EPILEPSY</th>\n",
       "      <th>BRNINFM</th>\n",
       "      <th>CNSOTH</th>\n",
       "      <th>SCAU26AT</th>\n",
       "      <th>...</th>\n",
       "      <th>_nonREM parasonmnia (sleep walking)</th>\n",
       "      <th>_optic neuritis</th>\n",
       "      <th>_possible Sleep apnea-hypopnea?</th>\n",
       "      <th>_they deny having RLS but suitable symptoms, not diagnosed of depression but scales suggest he is depressed</th>\n",
       "      <th>APOE_E2/E2</th>\n",
       "      <th>APOE_E2/E3</th>\n",
       "      <th>APOE_E2/E4</th>\n",
       "      <th>APOE_E3/E3</th>\n",
       "      <th>APOE_E3/E4</th>\n",
       "      <th>APOE_E4/E4</th>\n",
       "    </tr>\n",
       "  </thead>\n",
       "  <tbody>\n",
       "    <tr>\n",
       "      <th>1774</th>\n",
       "      <td>30.0</td>\n",
       "      <td>0.0</td>\n",
       "      <td>0.0</td>\n",
       "      <td>1.0</td>\n",
       "      <td>0.0</td>\n",
       "      <td>0.0</td>\n",
       "      <td>0.0</td>\n",
       "      <td>0.0</td>\n",
       "      <td>0.0</td>\n",
       "      <td>NaN</td>\n",
       "      <td>...</td>\n",
       "      <td>False</td>\n",
       "      <td>False</td>\n",
       "      <td>False</td>\n",
       "      <td>False</td>\n",
       "      <td>False</td>\n",
       "      <td>False</td>\n",
       "      <td>False</td>\n",
       "      <td>True</td>\n",
       "      <td>False</td>\n",
       "      <td>False</td>\n",
       "    </tr>\n",
       "    <tr>\n",
       "      <th>1775</th>\n",
       "      <td>27.0</td>\n",
       "      <td>0.0</td>\n",
       "      <td>0.0</td>\n",
       "      <td>0.0</td>\n",
       "      <td>0.0</td>\n",
       "      <td>1.0</td>\n",
       "      <td>0.0</td>\n",
       "      <td>0.0</td>\n",
       "      <td>0.0</td>\n",
       "      <td>NaN</td>\n",
       "      <td>...</td>\n",
       "      <td>False</td>\n",
       "      <td>False</td>\n",
       "      <td>False</td>\n",
       "      <td>False</td>\n",
       "      <td>False</td>\n",
       "      <td>False</td>\n",
       "      <td>False</td>\n",
       "      <td>False</td>\n",
       "      <td>False</td>\n",
       "      <td>False</td>\n",
       "    </tr>\n",
       "    <tr>\n",
       "      <th>1776</th>\n",
       "      <td>30.0</td>\n",
       "      <td>0.0</td>\n",
       "      <td>0.0</td>\n",
       "      <td>0.0</td>\n",
       "      <td>0.0</td>\n",
       "      <td>0.0</td>\n",
       "      <td>0.0</td>\n",
       "      <td>0.0</td>\n",
       "      <td>0.0</td>\n",
       "      <td>NaN</td>\n",
       "      <td>...</td>\n",
       "      <td>False</td>\n",
       "      <td>False</td>\n",
       "      <td>False</td>\n",
       "      <td>False</td>\n",
       "      <td>False</td>\n",
       "      <td>False</td>\n",
       "      <td>False</td>\n",
       "      <td>True</td>\n",
       "      <td>False</td>\n",
       "      <td>False</td>\n",
       "    </tr>\n",
       "    <tr>\n",
       "      <th>1777</th>\n",
       "      <td>27.0</td>\n",
       "      <td>0.0</td>\n",
       "      <td>0.0</td>\n",
       "      <td>0.0</td>\n",
       "      <td>0.0</td>\n",
       "      <td>0.0</td>\n",
       "      <td>0.0</td>\n",
       "      <td>0.0</td>\n",
       "      <td>0.0</td>\n",
       "      <td>NaN</td>\n",
       "      <td>...</td>\n",
       "      <td>False</td>\n",
       "      <td>False</td>\n",
       "      <td>False</td>\n",
       "      <td>False</td>\n",
       "      <td>False</td>\n",
       "      <td>False</td>\n",
       "      <td>False</td>\n",
       "      <td>False</td>\n",
       "      <td>True</td>\n",
       "      <td>False</td>\n",
       "    </tr>\n",
       "    <tr>\n",
       "      <th>1781</th>\n",
       "      <td>29.0</td>\n",
       "      <td>0.0</td>\n",
       "      <td>0.0</td>\n",
       "      <td>0.0</td>\n",
       "      <td>0.0</td>\n",
       "      <td>1.0</td>\n",
       "      <td>0.0</td>\n",
       "      <td>0.0</td>\n",
       "      <td>0.0</td>\n",
       "      <td>NaN</td>\n",
       "      <td>...</td>\n",
       "      <td>False</td>\n",
       "      <td>False</td>\n",
       "      <td>False</td>\n",
       "      <td>False</td>\n",
       "      <td>False</td>\n",
       "      <td>False</td>\n",
       "      <td>False</td>\n",
       "      <td>True</td>\n",
       "      <td>False</td>\n",
       "      <td>False</td>\n",
       "    </tr>\n",
       "  </tbody>\n",
       "</table>\n",
       "<p>5 rows × 2953 columns</p>\n",
       "</div>"
      ],
      "text/plain": [
       "      MCATOT  STROKE  HETRA  RLS  NARCLPSY  DEPRS  EPILEPSY  BRNINFM  CNSOTH  \\\n",
       "1774    30.0     0.0    0.0  1.0       0.0    0.0       0.0      0.0     0.0   \n",
       "1775    27.0     0.0    0.0  0.0       0.0    1.0       0.0      0.0     0.0   \n",
       "1776    30.0     0.0    0.0  0.0       0.0    0.0       0.0      0.0     0.0   \n",
       "1777    27.0     0.0    0.0  0.0       0.0    0.0       0.0      0.0     0.0   \n",
       "1781    29.0     0.0    0.0  0.0       0.0    1.0       0.0      0.0     0.0   \n",
       "\n",
       "      SCAU26AT  ...  _nonREM parasonmnia (sleep walking)  _optic neuritis  \\\n",
       "1774       NaN  ...                                False            False   \n",
       "1775       NaN  ...                                False            False   \n",
       "1776       NaN  ...                                False            False   \n",
       "1777       NaN  ...                                False            False   \n",
       "1781       NaN  ...                                False            False   \n",
       "\n",
       "      _possible Sleep apnea-hypopnea?  \\\n",
       "1774                            False   \n",
       "1775                            False   \n",
       "1776                            False   \n",
       "1777                            False   \n",
       "1781                            False   \n",
       "\n",
       "      _they deny having RLS but suitable symptoms, not diagnosed of depression but scales suggest he is depressed  \\\n",
       "1774                                              False                                                             \n",
       "1775                                              False                                                             \n",
       "1776                                              False                                                             \n",
       "1777                                              False                                                             \n",
       "1781                                              False                                                             \n",
       "\n",
       "      APOE_E2/E2  APOE_E2/E3  APOE_E2/E4  APOE_E3/E3  APOE_E3/E4  APOE_E4/E4  \n",
       "1774       False       False       False        True       False       False  \n",
       "1775       False       False       False       False       False       False  \n",
       "1776       False       False       False        True       False       False  \n",
       "1777       False       False       False       False        True       False  \n",
       "1781       False       False       False        True       False       False  \n",
       "\n",
       "[5 rows x 2953 columns]"
      ]
     },
     "execution_count": 169,
     "metadata": {},
     "output_type": "execute_result"
    }
   ],
   "source": [
    "train_X.head()"
   ]
  },
  {
   "cell_type": "code",
   "execution_count": 170,
   "id": "ae4c1df7",
   "metadata": {},
   "outputs": [
    {
     "data": {
      "text/plain": [
       "1778    0.0\n",
       "1779    0.0\n",
       "1780    0.0\n",
       "1782    0.0\n",
       "1788    0.0\n",
       "Name: pdenrl, dtype: float64"
      ]
     },
     "execution_count": 170,
     "metadata": {},
     "output_type": "execute_result"
    }
   ],
   "source": [
    "test_X = test_data.drop(['lrrkid','pdenrl'], axis=1)\n",
    "\n",
    "testY = test_data['pdenrl']\n",
    "\n",
    "testY[0:5]"
   ]
  },
  {
   "cell_type": "code",
   "execution_count": 171,
   "id": "52e50085",
   "metadata": {},
   "outputs": [
    {
     "data": {
      "text/html": [
       "<div>\n",
       "<style scoped>\n",
       "    .dataframe tbody tr th:only-of-type {\n",
       "        vertical-align: middle;\n",
       "    }\n",
       "\n",
       "    .dataframe tbody tr th {\n",
       "        vertical-align: top;\n",
       "    }\n",
       "\n",
       "    .dataframe thead th {\n",
       "        text-align: right;\n",
       "    }\n",
       "</style>\n",
       "<table border=\"1\" class=\"dataframe\">\n",
       "  <thead>\n",
       "    <tr style=\"text-align: right;\">\n",
       "      <th></th>\n",
       "      <th>MCATOT</th>\n",
       "      <th>STROKE</th>\n",
       "      <th>HETRA</th>\n",
       "      <th>RLS</th>\n",
       "      <th>NARCLPSY</th>\n",
       "      <th>DEPRS</th>\n",
       "      <th>EPILEPSY</th>\n",
       "      <th>BRNINFM</th>\n",
       "      <th>CNSOTH</th>\n",
       "      <th>SCAU26AT</th>\n",
       "      <th>...</th>\n",
       "      <th>_nonREM parasonmnia (sleep walking)</th>\n",
       "      <th>_optic neuritis</th>\n",
       "      <th>_possible Sleep apnea-hypopnea?</th>\n",
       "      <th>_they deny having RLS but suitable symptoms, not diagnosed of depression but scales suggest he is depressed</th>\n",
       "      <th>APOE_E2/E2</th>\n",
       "      <th>APOE_E2/E3</th>\n",
       "      <th>APOE_E2/E4</th>\n",
       "      <th>APOE_E3/E3</th>\n",
       "      <th>APOE_E3/E4</th>\n",
       "      <th>APOE_E4/E4</th>\n",
       "    </tr>\n",
       "  </thead>\n",
       "  <tbody>\n",
       "    <tr>\n",
       "      <th>1778</th>\n",
       "      <td>26.0</td>\n",
       "      <td>0.0</td>\n",
       "      <td>0.0</td>\n",
       "      <td>0.0</td>\n",
       "      <td>0.0</td>\n",
       "      <td>1.0</td>\n",
       "      <td>0.0</td>\n",
       "      <td>0.0</td>\n",
       "      <td>NaN</td>\n",
       "      <td>NaN</td>\n",
       "      <td>...</td>\n",
       "      <td>False</td>\n",
       "      <td>False</td>\n",
       "      <td>False</td>\n",
       "      <td>False</td>\n",
       "      <td>False</td>\n",
       "      <td>False</td>\n",
       "      <td>False</td>\n",
       "      <td>False</td>\n",
       "      <td>False</td>\n",
       "      <td>False</td>\n",
       "    </tr>\n",
       "    <tr>\n",
       "      <th>1779</th>\n",
       "      <td>28.0</td>\n",
       "      <td>0.0</td>\n",
       "      <td>0.0</td>\n",
       "      <td>0.0</td>\n",
       "      <td>0.0</td>\n",
       "      <td>1.0</td>\n",
       "      <td>0.0</td>\n",
       "      <td>0.0</td>\n",
       "      <td>0.0</td>\n",
       "      <td>NaN</td>\n",
       "      <td>...</td>\n",
       "      <td>False</td>\n",
       "      <td>False</td>\n",
       "      <td>False</td>\n",
       "      <td>False</td>\n",
       "      <td>False</td>\n",
       "      <td>False</td>\n",
       "      <td>False</td>\n",
       "      <td>True</td>\n",
       "      <td>False</td>\n",
       "      <td>False</td>\n",
       "    </tr>\n",
       "    <tr>\n",
       "      <th>1780</th>\n",
       "      <td>24.0</td>\n",
       "      <td>0.0</td>\n",
       "      <td>0.0</td>\n",
       "      <td>0.0</td>\n",
       "      <td>0.0</td>\n",
       "      <td>0.0</td>\n",
       "      <td>0.0</td>\n",
       "      <td>0.0</td>\n",
       "      <td>0.0</td>\n",
       "      <td>NaN</td>\n",
       "      <td>...</td>\n",
       "      <td>False</td>\n",
       "      <td>False</td>\n",
       "      <td>False</td>\n",
       "      <td>False</td>\n",
       "      <td>False</td>\n",
       "      <td>False</td>\n",
       "      <td>False</td>\n",
       "      <td>False</td>\n",
       "      <td>True</td>\n",
       "      <td>False</td>\n",
       "    </tr>\n",
       "    <tr>\n",
       "      <th>1782</th>\n",
       "      <td>28.0</td>\n",
       "      <td>0.0</td>\n",
       "      <td>0.0</td>\n",
       "      <td>0.0</td>\n",
       "      <td>0.0</td>\n",
       "      <td>1.0</td>\n",
       "      <td>0.0</td>\n",
       "      <td>0.0</td>\n",
       "      <td>0.0</td>\n",
       "      <td>NaN</td>\n",
       "      <td>...</td>\n",
       "      <td>False</td>\n",
       "      <td>False</td>\n",
       "      <td>False</td>\n",
       "      <td>False</td>\n",
       "      <td>False</td>\n",
       "      <td>False</td>\n",
       "      <td>False</td>\n",
       "      <td>False</td>\n",
       "      <td>False</td>\n",
       "      <td>False</td>\n",
       "    </tr>\n",
       "    <tr>\n",
       "      <th>1788</th>\n",
       "      <td>26.0</td>\n",
       "      <td>0.0</td>\n",
       "      <td>0.0</td>\n",
       "      <td>0.0</td>\n",
       "      <td>0.0</td>\n",
       "      <td>0.0</td>\n",
       "      <td>0.0</td>\n",
       "      <td>0.0</td>\n",
       "      <td>0.0</td>\n",
       "      <td>NaN</td>\n",
       "      <td>...</td>\n",
       "      <td>False</td>\n",
       "      <td>False</td>\n",
       "      <td>False</td>\n",
       "      <td>False</td>\n",
       "      <td>False</td>\n",
       "      <td>False</td>\n",
       "      <td>False</td>\n",
       "      <td>False</td>\n",
       "      <td>False</td>\n",
       "      <td>False</td>\n",
       "    </tr>\n",
       "  </tbody>\n",
       "</table>\n",
       "<p>5 rows × 2953 columns</p>\n",
       "</div>"
      ],
      "text/plain": [
       "      MCATOT  STROKE  HETRA  RLS  NARCLPSY  DEPRS  EPILEPSY  BRNINFM  CNSOTH  \\\n",
       "1778    26.0     0.0    0.0  0.0       0.0    1.0       0.0      0.0     NaN   \n",
       "1779    28.0     0.0    0.0  0.0       0.0    1.0       0.0      0.0     0.0   \n",
       "1780    24.0     0.0    0.0  0.0       0.0    0.0       0.0      0.0     0.0   \n",
       "1782    28.0     0.0    0.0  0.0       0.0    1.0       0.0      0.0     0.0   \n",
       "1788    26.0     0.0    0.0  0.0       0.0    0.0       0.0      0.0     0.0   \n",
       "\n",
       "      SCAU26AT  ...  _nonREM parasonmnia (sleep walking)  _optic neuritis  \\\n",
       "1778       NaN  ...                                False            False   \n",
       "1779       NaN  ...                                False            False   \n",
       "1780       NaN  ...                                False            False   \n",
       "1782       NaN  ...                                False            False   \n",
       "1788       NaN  ...                                False            False   \n",
       "\n",
       "      _possible Sleep apnea-hypopnea?  \\\n",
       "1778                            False   \n",
       "1779                            False   \n",
       "1780                            False   \n",
       "1782                            False   \n",
       "1788                            False   \n",
       "\n",
       "      _they deny having RLS but suitable symptoms, not diagnosed of depression but scales suggest he is depressed  \\\n",
       "1778                                              False                                                             \n",
       "1779                                              False                                                             \n",
       "1780                                              False                                                             \n",
       "1782                                              False                                                             \n",
       "1788                                              False                                                             \n",
       "\n",
       "      APOE_E2/E2  APOE_E2/E3  APOE_E2/E4  APOE_E3/E3  APOE_E3/E4  APOE_E4/E4  \n",
       "1778       False       False       False       False       False       False  \n",
       "1779       False       False       False        True       False       False  \n",
       "1780       False       False       False       False        True       False  \n",
       "1782       False       False       False       False       False       False  \n",
       "1788       False       False       False       False       False       False  \n",
       "\n",
       "[5 rows x 2953 columns]"
      ]
     },
     "execution_count": 171,
     "metadata": {},
     "output_type": "execute_result"
    }
   ],
   "source": [
    "test_X.head()"
   ]
  },
  {
   "cell_type": "code",
   "execution_count": 172,
   "id": "c53a8c57",
   "metadata": {},
   "outputs": [
    {
     "name": "stdout",
     "output_type": "stream",
     "text": [
      "Shape of Xtest: 1860   2953\n",
      "Shape of yest:  1860\n",
      "Shape of trainx: 4760   2953\n",
      "Shape of trainY:  4760\n"
     ]
    }
   ],
   "source": [
    "print(\"Shape of Xtest: %d   %d\" % (test_X.shape))\n",
    "print(\"Shape of yest:  %d\" % (testY.shape))\n",
    "\n",
    "print(\"Shape of trainx: %d   %d\" % (train_X.shape))\n",
    "print(\"Shape of trainY:  %d\" % (trainy.shape))"
   ]
  },
  {
   "cell_type": "code",
   "execution_count": 173,
   "id": "fac35153",
   "metadata": {},
   "outputs": [],
   "source": [
    "from sklearn import preprocessing\n",
    "from sklearn import metrics\n",
    "\n",
    "from sklearn.metrics import log_loss\n",
    "from sklearn.metrics import confusion_matrix\n",
    "import sklearn.metrics as metrics\n",
    "from sklearn.metrics import ConfusionMatrixDisplay\n",
    "from sklearn.metrics import classification_report\n",
    "from sklearn.metrics import accuracy_score\n",
    "\n",
    "from sklearn.metrics import roc_curve, auc,roc_auc_score\n",
    "from sklearn.metrics import RocCurveDisplay\n",
    "from sklearn.model_selection import GridSearchCV, cross_val_score, KFold\n",
    "from sklearn.metrics import mean_squared_error\n",
    "\n",
    "\n",
    "from sklearn.neural_network import MLPClassifier\n",
    "\n",
    "from sklearn.metrics import mean_absolute_error\n",
    "\n",
    "%matplotlib inline"
   ]
  },
  {
   "cell_type": "raw",
   "id": "9584cef2",
   "metadata": {},
   "source": [
    "from sklearn.preprocessing import StandardScaler\n",
    "import time\n",
    "\n",
    "sc = StandardScaler()\n",
    "trainX = sc.fit_transform(train_X)\n",
    "testX = sc.transform(test_X)"
   ]
  },
  {
   "cell_type": "code",
   "execution_count": 174,
   "id": "ab10ee79",
   "metadata": {},
   "outputs": [],
   "source": [
    "from sklearn import tree\n",
    "\n",
    "dt_clf = tree.DecisionTreeClassifier( )\n",
    "\n",
    "#dt_clf = dt_clf.fit(trainX,trainy)"
   ]
  },
  {
   "cell_type": "code",
   "execution_count": 175,
   "id": "3babaab8",
   "metadata": {},
   "outputs": [
    {
     "name": "stdout",
     "output_type": "stream",
     "text": [
      "Optimal ccp_alpha value: 0.02\n"
     ]
    }
   ],
   "source": [
    "\n",
    "ccp_alphas = [0.0, 0.01, 0.02, 0.03, 0.04, 0.05, 0.06, 0.07, 0.08, 0.09, 0.1,0.2]\n",
    "cv_scores = []\n",
    "\n",
    "for alpha in ccp_alphas:\n",
    "    dt_clf.set_params(ccp_alpha=alpha)\n",
    "    scores = cross_val_score(dt_clf, train_X, trainy, cv=10)  \n",
    "    cv_scores.append(scores.mean())\n",
    "\n",
    "# Find the optimal ccp_alpha value\n",
    "optimal_alpha = ccp_alphas[cv_scores.index(max(cv_scores))]\n",
    "print(\"Optimal ccp_alpha value:\", optimal_alpha)"
   ]
  },
  {
   "cell_type": "code",
   "execution_count": null,
   "id": "8069ee4a",
   "metadata": {},
   "outputs": [],
   "source": []
  },
  {
   "cell_type": "code",
   "execution_count": 176,
   "id": "d0c5e7c8",
   "metadata": {},
   "outputs": [
    {
     "name": "stdout",
     "output_type": "stream",
     "text": [
      "Training time: 5.08521294593811s\n"
     ]
    }
   ],
   "source": [
    "import time\n",
    "start = time.time() \n",
    "\n",
    "\n",
    "dt_clf.set_params(ccp_alpha=optimal_alpha)\n",
    "\n",
    "dt_clf = dt_clf.fit(train_X,trainy)\n",
    "\n",
    "stop = time.time()\n",
    "print(f\"Training time: {stop - start}s\") "
   ]
  },
  {
   "cell_type": "code",
   "execution_count": null,
   "id": "d5f0faf7",
   "metadata": {},
   "outputs": [],
   "source": []
  },
  {
   "cell_type": "code",
   "execution_count": 177,
   "id": "5eec145b",
   "metadata": {},
   "outputs": [
    {
     "name": "stdout",
     "output_type": "stream",
     "text": [
      "Root Node Details:\n",
      "Number of nodes: 1297\n",
      "Threshold: [24.5 16.  -2.  ... -2.  -2.  -2. ]\n",
      "Feature: [ 0  0 -2 ... -2 -2 -2]\n"
     ]
    }
   ],
   "source": [
    "root_node = dt_clf.tree_\n",
    "\n",
    "# Access details of the root node\n",
    "n_nodes = root_node.node_count\n",
    "threshold = root_node.threshold\n",
    "feature = root_node.feature\n",
    "\n",
    "print(\"Root Node Details:\")\n",
    "print(\"Number of nodes:\", n_nodes)\n",
    "print(\"Threshold:\", threshold)\n",
    "print(\"Feature:\", feature)"
   ]
  },
  {
   "cell_type": "code",
   "execution_count": 178,
   "id": "b66bb3ad",
   "metadata": {},
   "outputs": [
    {
     "data": {
      "text/plain": [
       "'Tes12_12_decision_tree-2.pdf'"
      ]
     },
     "execution_count": 178,
     "metadata": {},
     "output_type": "execute_result"
    }
   ],
   "source": [
    "import graphviz\n",
    "from sklearn.tree import export_graphviz\n",
    "\n",
    "# Visualize the entire decision tree\n",
    "dot_data = export_graphviz(dt_clf, out_file=None, \n",
    "                           feature_names=train_X.columns, \n",
    "                           class_names=['0', '1'],\n",
    "                           filled=True, rounded=True, special_characters=True)\n",
    "\n",
    "graph = graphviz.Source(dot_data)\n",
    "graph.render(\"Tes12_12_decision_tree-2\")  "
   ]
  },
  {
   "cell_type": "code",
   "execution_count": 179,
   "id": "a2426d9d",
   "metadata": {},
   "outputs": [
    {
     "data": {
      "text/plain": [
       "[Text(0.5435824884068223, 0.9976415094339622, 'x[0] <= 24.5\\ngini = 0.492\\nsamples = 4760\\nvalue = [2683, 2077]'),\n",
       " Text(0.37538316434803115, 0.9929245283018868, 'x[0] <= 16.0\\ngini = 0.478\\nsamples = 1371\\nvalue = [543, 828]'),\n",
       " Text(0.36532264403049597, 0.9882075471698113, 'gini = 0.0\\nsamples = 72\\nvalue = [0, 72]'),\n",
       " Text(0.3854436846655663, 0.9882075471698113, 'x[0] <= 23.5\\ngini = 0.487\\nsamples = 1299\\nvalue = [543, 756]'),\n",
       " Text(0.3439440383557337, 0.9834905660377359, 'x[2] <= 0.5\\ngini = 0.497\\nsamples = 805\\nvalue = [374, 431]'),\n",
       " Text(0.33388351803819855, 0.9787735849056604, 'x[2915] <= 1633.0\\ngini = 0.499\\nsamples = 777\\nvalue = [374, 403]'),\n",
       " Text(0.2810657863711389, 0.9740566037735849, 'x[2801] <= 29.815\\ngini = 0.498\\nsamples = 756\\nvalue = [357, 399]'),\n",
       " Text(0.2710052660536037, 0.9693396226415094, 'x[2169] <= 2.46\\ngini = 0.498\\nsamples = 748\\nvalue = [349, 399]'),\n",
       " Text(0.2609447457360685, 0.964622641509434, 'gini = 0.0\\nsamples = 8\\nvalue = [8, 0]'),\n",
       " Text(0.2810657863711389, 0.964622641509434, 'x[2950] <= 0.5\\ngini = 0.497\\nsamples = 740\\nvalue = [341, 399]'),\n",
       " Text(0.25591448557730095, 0.9599056603773585, 'x[8] <= 0.5\\ngini = 0.497\\nsamples = 534\\nvalue = [233, 301]'),\n",
       " Text(0.24585396525976577, 0.9551886792452831, 'x[2248] <= 1.12\\ngini = 0.487\\nsamples = 518\\nvalue = [217, 301]'),\n",
       " Text(0.23579344494223062, 0.9504716981132075, 'gini = 0.32\\nsamples = 5\\nvalue = [4, 1]'),\n",
       " Text(0.25591448557730095, 0.9504716981132075, 'x[454] <= 199842.547\\ngini = 0.486\\nsamples = 513\\nvalue = [213, 300]'),\n",
       " Text(0.24585396525976577, 0.9457547169811321, 'gini = 0.0\\nsamples = 5\\nvalue = [5, 0]'),\n",
       " Text(0.26597500589483614, 0.9457547169811321, 'x[688] <= 25104.672\\ngini = 0.484\\nsamples = 508\\nvalue = [208, 300]'),\n",
       " Text(0.25591448557730095, 0.9410377358490566, 'x[2380] <= 0.699\\ngini = 0.481\\nsamples = 503\\nvalue = [203, 300]'),\n",
       " Text(0.24585396525976577, 0.9363207547169812, 'x[1486] <= 11711.077\\ngini = 0.479\\nsamples = 498\\nvalue = [198, 300]'),\n",
       " Text(0.23579344494223062, 0.9316037735849056, 'x[56] <= 31872.3\\ngini = 0.478\\nsamples = 494\\nvalue = [195, 299]'),\n",
       " Text(0.22573292462469544, 0.9268867924528302, 'gini = 0.375\\nsamples = 4\\nvalue = [3, 1]'),\n",
       " Text(0.24585396525976577, 0.9268867924528302, 'x[2111] <= 3.75\\ngini = 0.477\\nsamples = 490\\nvalue = [192, 298]'),\n",
       " Text(0.23579344494223062, 0.9221698113207547, 'x[658] <= 0.005\\ngini = 0.475\\nsamples = 486\\nvalue = [189, 297]'),\n",
       " Text(0.22573292462469544, 0.9174528301886793, 'x[380] <= 51556.234\\ngini = 0.473\\nsamples = 482\\nvalue = [185, 297]'),\n",
       " Text(0.21567240430716025, 0.9127358490566038, 'x[2179] <= 14.2\\ngini = 0.471\\nsamples = 478\\nvalue = [181, 297]'),\n",
       " Text(0.2056118839896251, 0.9080188679245284, 'gini = 0.346\\nsamples = 9\\nvalue = [7, 2]'),\n",
       " Text(0.22573292462469544, 0.9080188679245284, 'x[2234] <= 1.056\\ngini = 0.467\\nsamples = 469\\nvalue = [174, 295]'),\n",
       " Text(0.21567240430716025, 0.9033018867924528, 'x[2906] <= 20.068\\ngini = 0.464\\nsamples = 463\\nvalue = [169, 294]'),\n",
       " Text(0.2056118839896251, 0.8985849056603774, 'gini = 0.0\\nsamples = 3\\nvalue = [3, 0]'),\n",
       " Text(0.22573292462469544, 0.8985849056603774, 'x[24] <= 415.0\\ngini = 0.461\\nsamples = 460\\nvalue = [166, 294]'),\n",
       " Text(0.21567240430716025, 0.8938679245283019, 'x[2802] <= 1.245\\ngini = 0.459\\nsamples = 457\\nvalue = [163, 294]'),\n",
       " Text(0.2056118839896251, 0.8891509433962265, 'x[2099] <= 11.259\\ngini = 0.456\\nsamples = 454\\nvalue = [160, 294]'),\n",
       " Text(0.19555136367208992, 0.8844339622641509, 'gini = 0.0\\nsamples = 3\\nvalue = [3, 0]'),\n",
       " Text(0.21567240430716025, 0.8844339622641509, 'x[2144] <= 11.467\\ngini = 0.454\\nsamples = 451\\nvalue = [157, 294]'),\n",
       " Text(0.2056118839896251, 0.8797169811320755, 'x[839] <= 14468.566\\ngini = 0.451\\nsamples = 448\\nvalue = [154, 294]'),\n",
       " Text(0.19555136367208992, 0.875, 'x[389] <= 228.021\\ngini = 0.448\\nsamples = 445\\nvalue = [151, 294]'),\n",
       " Text(0.18549084335455474, 0.8702830188679245, 'x[343] <= 872.838\\ngini = 0.445\\nsamples = 442\\nvalue = [148, 294]'),\n",
       " Text(0.17543032303701958, 0.8655660377358491, 'x[2094] <= 6.71\\ngini = 0.442\\nsamples = 437\\nvalue = [144, 293]'),\n",
       " Text(0.1653698027194844, 0.8608490566037735, 'gini = 0.32\\nsamples = 5\\nvalue = [4, 1]'),\n",
       " Text(0.18549084335455474, 0.8608490566037735, 'x[0] <= 17.5\\ngini = 0.438\\nsamples = 432\\nvalue = [140, 292]'),\n",
       " Text(0.17543032303701958, 0.8561320754716981, 'gini = 0.444\\nsamples = 3\\nvalue = [3, 0]'),\n",
       " Text(0.19555136367208992, 0.8561320754716981, 'x[2101] <= 25.825\\ngini = 0.438\\nsamples = 429\\nvalue = [137, 292]'),\n",
       " Text(0.18549084335455474, 0.8514150943396226, 'x[578] <= 2571.731\\ngini = 0.43\\nsamples = 422\\nvalue = [132, 290]'),\n",
       " Text(0.17543032303701958, 0.8466981132075472, 'gini = 0.408\\nsamples = 7\\nvalue = [5, 2]'),\n",
       " Text(0.19555136367208992, 0.8466981132075472, 'x[2097] <= 30.16\\ngini = 0.425\\nsamples = 415\\nvalue = [127, 288]'),\n",
       " Text(0.18549084335455474, 0.8419811320754716, 'x[744] <= 0.075\\ngini = 0.422\\nsamples = 413\\nvalue = [125, 288]'),\n",
       " Text(0.17543032303701958, 0.8372641509433962, 'gini = 0.0\\nsamples = 2\\nvalue = [2, 0]'),\n",
       " Text(0.19555136367208992, 0.8372641509433962, 'x[2325] <= 0.465\\ngini = 0.419\\nsamples = 411\\nvalue = [123, 288]'),\n",
       " Text(0.18549084335455474, 0.8325471698113207, 'x[2827] <= 0.555\\ngini = 0.419\\nsamples = 409\\nvalue = [122, 287]'),\n",
       " Text(0.17543032303701958, 0.8278301886792453, 'gini = 0.0\\nsamples = 2\\nvalue = [2, 0]'),\n",
       " Text(0.19555136367208992, 0.8278301886792453, 'x[641] <= 5251.212\\ngini = 0.416\\nsamples = 407\\nvalue = [120, 287]'),\n",
       " Text(0.18549084335455474, 0.8231132075471698, 'gini = 0.0\\nsamples = 2\\nvalue = [2, 0]'),\n",
       " Text(0.2056118839896251, 0.8231132075471698, 'x[2378] <= 0.244\\ngini = 0.413\\nsamples = 405\\nvalue = [118, 287]'),\n",
       " Text(0.19555136367208992, 0.8183962264150944, 'gini = 0.0\\nsamples = 2\\nvalue = [2, 0]'),\n",
       " Text(0.21567240430716025, 0.8183962264150944, 'x[2147] <= 2.508\\ngini = 0.41\\nsamples = 403\\nvalue = [116, 287]'),\n",
       " Text(0.2056118839896251, 0.8136792452830188, 'x[2209] <= 0.011\\ngini = 0.407\\nsamples = 401\\nvalue = [114, 287]'),\n",
       " Text(0.19555136367208992, 0.8089622641509434, 'x[18] <= 0.019\\ngini = 0.404\\nsamples = 399\\nvalue = [112, 287]'),\n",
       " Text(0.18549084335455474, 0.8042452830188679, 'x[2800] <= 6.925\\ngini = 0.401\\nsamples = 397\\nvalue = [110, 287]'),\n",
       " Text(0.17543032303701958, 0.7995283018867925, 'gini = 0.5\\nsamples = 2\\nvalue = [1, 1]'),\n",
       " Text(0.19555136367208992, 0.7995283018867925, 'x[14] <= 5.55\\ngini = 0.4\\nsamples = 395\\nvalue = [109, 286]'),\n",
       " Text(0.18549084335455474, 0.7948113207547169, 'x[2070] <= 45.8\\ngini = 0.396\\nsamples = 393\\nvalue = [107, 286]'),\n",
       " Text(0.17543032303701958, 0.7900943396226415, 'gini = 0.469\\nsamples = 8\\nvalue = [5, 3]'),\n",
       " Text(0.19555136367208992, 0.7900943396226415, 'x[21] <= 1.359\\ngini = 0.389\\nsamples = 385\\nvalue = [102, 283]'),\n",
       " Text(0.18549084335455474, 0.785377358490566, 'gini = 0.444\\nsamples = 6\\nvalue = [4, 2]'),\n",
       " Text(0.2056118839896251, 0.785377358490566, 'x[2840] <= 1.564\\ngini = 0.383\\nsamples = 379\\nvalue = [98, 281]'),\n",
       " Text(0.19555136367208992, 0.7806603773584906, 'gini = 0.5\\nsamples = 4\\nvalue = [2, 2]'),\n",
       " Text(0.21567240430716025, 0.7806603773584906, 'x[2378] <= 0.81\\ngini = 0.381\\nsamples = 375\\nvalue = [96, 279]'),\n",
       " Text(0.2056118839896251, 0.7759433962264151, 'x[2134] <= 469.499\\ngini = 0.376\\nsamples = 371\\nvalue = [93, 278]'),\n",
       " Text(0.19555136367208992, 0.7712264150943396, 'gini = 0.494\\nsamples = 9\\nvalue = [5, 4]'),\n",
       " Text(0.21567240430716025, 0.7712264150943396, 'x[332] <= 1.455\\ngini = 0.368\\nsamples = 362\\nvalue = [88, 274]'),\n",
       " Text(0.16977128035840602, 0.7665094339622641, 'x[2057] <= 168817.633\\ngini = 0.361\\nsamples = 355\\nvalue = [84, 271]'),\n",
       " Text(0.10815059341350311, 0.7617924528301887, 'x[2074] <= 1091.002\\ngini = 0.354\\nsamples = 348\\nvalue = [80, 268]'),\n",
       " Text(0.0754539023815138, 0.7570754716981132, 'x[2815] <= inf\\ngini = 0.346\\nsamples = 341\\nvalue = [76, 265]'),\n",
       " Text(0.06539338206397863, 0.7523584905660378, 'gini = 0.32\\nsamples = 5\\nvalue = [4, 1]'),\n",
       " Text(0.08551442269904896, 0.7523584905660378, 'x[14] <= 4.005\\ngini = 0.337\\nsamples = 336\\nvalue = [72, 264]'),\n",
       " Text(0.05030260158767586, 0.7476415094339622, 'x[2882] <= 1.549\\ngini = 0.33\\nsamples = 331\\nvalue = [69, 262]'),\n",
       " Text(0.03018156095260552, 0.7429245283018868, 'x[2153] <= 43.166\\ngini = 0.325\\nsamples = 328\\nvalue = [67, 261]'),\n",
       " Text(0.020121040635070347, 0.7382075471698113, 'gini = 0.444\\nsamples = 3\\nvalue = [2, 1]'),\n",
       " Text(0.040242081270140694, 0.7382075471698113, 'x[2887] <= 0.658\\ngini = 0.32\\nsamples = 325\\nvalue = [65, 260]'),\n",
       " Text(0.03018156095260552, 0.7334905660377359, 'gini = 0.444\\nsamples = 3\\nvalue = [2, 1]'),\n",
       " Text(0.05030260158767586, 0.7334905660377359, 'x[2248] <= 1.192\\ngini = 0.315\\nsamples = 322\\nvalue = [63, 259]'),\n",
       " Text(0.040242081270140694, 0.7287735849056604, 'gini = 0.444\\nsamples = 3\\nvalue = [2, 1]'),\n",
       " Text(0.06036312190521104, 0.7287735849056604, 'x[2099] <= 21.333\\ngini = 0.309\\nsamples = 319\\nvalue = [61, 258]'),\n",
       " Text(0.05030260158767586, 0.7240566037735849, 'x[16] <= 0.183\\ngini = 0.304\\nsamples = 316\\nvalue = [59, 257]'),\n",
       " Text(0.03018156095260552, 0.7193396226415094, 'x[2094] <= 5.055\\ngini = 0.298\\nsamples = 313\\nvalue = [57, 256]'),\n",
       " Text(0.020121040635070347, 0.714622641509434, 'gini = 0.0\\nsamples = 1\\nvalue = [1, 0]'),\n",
       " Text(0.040242081270140694, 0.714622641509434, 'x[2134] <= 369.455\\ngini = 0.295\\nsamples = 312\\nvalue = [56, 256]'),\n",
       " Text(0.03018156095260552, 0.7099056603773585, 'gini = 0.0\\nsamples = 1\\nvalue = [0, 1]'),\n",
       " Text(0.05030260158767586, 0.7099056603773585, 'x[2422] <= 1.71\\ngini = 0.295\\nsamples = 311\\nvalue = [56, 255]'),\n",
       " Text(0.040242081270140694, 0.7051886792452831, 'x[2159] <= 404.43\\ngini = 0.292\\nsamples = 310\\nvalue = [55, 255]'),\n",
       " Text(0.03018156095260552, 0.7004716981132075, 'gini = 0.0\\nsamples = 1\\nvalue = [1, 0]'),\n",
       " Text(0.05030260158767586, 0.7004716981132075, 'x[2384] <= 187.305\\ngini = 0.288\\nsamples = 309\\nvalue = [54, 255]'),\n",
       " Text(0.040242081270140694, 0.6957547169811321, 'gini = 0.0\\nsamples = 1\\nvalue = [1, 0]'),\n",
       " Text(0.06036312190521104, 0.6957547169811321, 'x[836] <= 2866.053\\ngini = 0.285\\nsamples = 308\\nvalue = [53, 255]'),\n",
       " Text(0.05030260158767586, 0.6910377358490566, 'gini = 0.0\\nsamples = 1\\nvalue = [1, 0]'),\n",
       " Text(0.0704236422227462, 0.6910377358490566, 'x[2886] <= 0.354\\ngini = 0.281\\nsamples = 307\\nvalue = [52, 255]'),\n",
       " Text(0.06036312190521104, 0.6863207547169812, 'gini = 0.0\\nsamples = 1\\nvalue = [1, 0]'),\n",
       " Text(0.08048416254028139, 0.6863207547169812, 'x[2036] <= 8951.735\\ngini = 0.278\\nsamples = 306\\nvalue = [51, 255]'),\n",
       " Text(0.0704236422227462, 0.6816037735849056, 'x[1491] <= 1262.467\\ngini = 0.274\\nsamples = 305\\nvalue = [50, 255]'),\n",
       " Text(0.06036312190521104, 0.6768867924528302, 'x[842] <= 3362.37\\ngini = 0.27\\nsamples = 304\\nvalue = [49, 255]'),\n",
       " Text(0.05030260158767586, 0.6721698113207547, 'x[2209] <= 0.004\\ngini = 0.267\\nsamples = 303\\nvalue = [48, 255]'),\n",
       " Text(0.040242081270140694, 0.6674528301886793, 'gini = 0.5\\nsamples = 6\\nvalue = [3, 3]'),\n",
       " Text(0.06036312190521104, 0.6674528301886793, 'x[2078] <= 779.59\\ngini = 0.257\\nsamples = 297\\nvalue = [45, 252]'),\n",
       " Text(0.05030260158767586, 0.6627358490566038, 'gini = 0.5\\nsamples = 6\\nvalue = [3, 3]'),\n",
       " Text(0.0704236422227462, 0.6627358490566038, 'x[2874] <= 21.819\\ngini = 0.247\\nsamples = 291\\nvalue = [42, 249]'),\n",
       " Text(0.06036312190521104, 0.6580188679245284, 'gini = 0.0\\nsamples = 1\\nvalue = [1, 0]'),\n",
       " Text(0.08048416254028139, 0.6580188679245284, 'x[2896] <= 465.882\\ngini = 0.243\\nsamples = 290\\nvalue = [41, 249]'),\n",
       " Text(0.0704236422227462, 0.6533018867924528, 'x[2179] <= 24.3\\ngini = 0.239\\nsamples = 289\\nvalue = [40, 249]'),\n",
       " Text(0.06036312190521104, 0.6485849056603774, 'x[2895] <= 458.75\\ngini = 0.239\\nsamples = 288\\nvalue = [40, 248]'),\n",
       " Text(0.05030260158767586, 0.6438679245283019, 'x[2172] <= 4.04\\ngini = 0.235\\nsamples = 287\\nvalue = [39, 248]'),\n",
       " Text(0.040242081270140694, 0.6391509433962265, 'x[2234] <= 1.396\\ngini = 0.236\\nsamples = 286\\nvalue = [39, 247]'),\n",
       " Text(0.03018156095260552, 0.6344339622641509, 'x[2173] <= 0.329\\ngini = 0.231\\nsamples = 285\\nvalue = [38, 247]'),\n",
       " Text(0.020121040635070347, 0.6297169811320755, 'x[2027] <= 34.655\\ngini = 0.227\\nsamples = 284\\nvalue = [37, 247]'),\n",
       " Text(0.010060520317535173, 0.625, 'gini = 0.0\\nsamples = 1\\nvalue = [1, 0]'),\n",
       " Text(0.03018156095260552, 0.625, 'x[2840] <= 1.312\\ngini = 0.222\\nsamples = 283\\nvalue = [36, 247]'),\n",
       " Text(0.020121040635070347, 0.6202830188679245, 'gini = 0.0\\nsamples = 1\\nvalue = [0, 1]'),\n",
       " Text(0.040242081270140694, 0.6202830188679245, 'x[2248] <= 4.605\\ngini = 0.223\\nsamples = 282\\nvalue = [36, 246]'),\n",
       " Text(0.03018156095260552, 0.6155660377358491, 'x[2134] <= 369.455\\ngini = 0.218\\nsamples = 281\\nvalue = [35, 246]'),\n",
       " Text(0.020121040635070347, 0.6108490566037735, 'gini = 0.0\\nsamples = 1\\nvalue = [0, 1]'),\n",
       " Text(0.040242081270140694, 0.6108490566037735, 'x[2114] <= 73.5\\ngini = 0.219\\nsamples = 280\\nvalue = [35, 245]'),\n",
       " Text(0.03018156095260552, 0.6061320754716981, 'x[2793] <= 19.97\\ngini = 0.214\\nsamples = 279\\nvalue = [34, 245]'),\n",
       " Text(0.020121040635070347, 0.6014150943396226, 'x[2226] <= 5.007\\ngini = 0.209\\nsamples = 278\\nvalue = [33, 245]'),\n",
       " Text(0.010060520317535173, 0.5966981132075472, 'gini = 0.0\\nsamples = 1\\nvalue = [1, 0]'),\n",
       " Text(0.03018156095260552, 0.5966981132075472, 'x[2884] <= 0.489\\ngini = 0.204\\nsamples = 277\\nvalue = [32, 245]'),\n",
       " Text(0.020121040635070347, 0.5919811320754716, 'gini = 0.0\\nsamples = 1\\nvalue = [1, 0]'),\n",
       " Text(0.040242081270140694, 0.5919811320754716, 'x[2903] <= 0.279\\ngini = 0.199\\nsamples = 276\\nvalue = [31, 245]'),\n",
       " Text(0.03018156095260552, 0.5872641509433962, 'x[2134] <= 369.455\\ngini = 0.194\\nsamples = 275\\nvalue = [30, 245]'),\n",
       " Text(0.020121040635070347, 0.5825471698113207, 'gini = 0.0\\nsamples = 1\\nvalue = [1, 0]'),\n",
       " Text(0.040242081270140694, 0.5825471698113207, 'x[21] <= 1.625\\ngini = 0.189\\nsamples = 274\\nvalue = [29, 245]'),\n",
       " Text(0.03018156095260552, 0.5778301886792453, 'x[2868] <= 2.865\\ngini = 0.184\\nsamples = 273\\nvalue = [28, 245]'),\n",
       " Text(0.020121040635070347, 0.5731132075471698, 'x[386] <= 213.947\\ngini = 0.179\\nsamples = 272\\nvalue = [27, 245]'),\n",
       " Text(0.010060520317535173, 0.5683962264150944, 'gini = 0.0\\nsamples = 1\\nvalue = [1, 0]'),\n",
       " Text(0.03018156095260552, 0.5683962264150944, 'x[2840] <= 1.312\\ngini = 0.173\\nsamples = 271\\nvalue = [26, 245]'),\n",
       " Text(0.020121040635070347, 0.5636792452830188, 'gini = 0.0\\nsamples = 1\\nvalue = [0, 1]'),\n",
       " Text(0.040242081270140694, 0.5636792452830188, 'x[2079] <= 0.022\\ngini = 0.174\\nsamples = 270\\nvalue = [26, 244]'),\n",
       " Text(0.03018156095260552, 0.5589622641509434, 'gini = 0.0\\nsamples = 1\\nvalue = [1, 0]'),\n",
       " Text(0.05030260158767586, 0.5589622641509434, 'x[2834] <= 4.824\\ngini = 0.169\\nsamples = 269\\nvalue = [25, 244]'),\n",
       " Text(0.040242081270140694, 0.5542452830188679, 'x[2840] <= 1.312\\ngini = 0.169\\nsamples = 268\\nvalue = [25, 243]'),\n",
       " Text(0.03018156095260552, 0.5495283018867925, 'gini = 0.0\\nsamples = 1\\nvalue = [1, 0]'),\n",
       " Text(0.05030260158767586, 0.5495283018867925, 'x[2842] <= 1.648\\ngini = 0.164\\nsamples = 267\\nvalue = [24, 243]'),\n",
       " Text(0.040242081270140694, 0.5448113207547169, 'gini = 0.0\\nsamples = 1\\nvalue = [1, 0]'),\n",
       " Text(0.06036312190521104, 0.5448113207547169, 'x[2134] <= 567.375\\ngini = 0.158\\nsamples = 266\\nvalue = [23, 243]'),\n",
       " Text(0.05030260158767586, 0.5400943396226415, 'x[2134] <= 567.375\\ngini = 0.159\\nsamples = 265\\nvalue = [23, 242]'),\n",
       " Text(0.040242081270140694, 0.535377358490566, 'x[2914] <= 0.317\\ngini = 0.153\\nsamples = 264\\nvalue = [22, 242]'),\n",
       " Text(0.03018156095260552, 0.5306603773584906, 'x[840] <= 15825.812\\ngini = 0.142\\nsamples = 260\\nvalue = [20, 240]'),\n",
       " Text(0.020121040635070347, 0.5259433962264151, 'x[2384] <= 340.54\\ngini = 0.131\\nsamples = 255\\nvalue = [18, 237]'),\n",
       " Text(0.010060520317535173, 0.5212264150943396, 'gini = 0.12\\nsamples = 250\\nvalue = [16, 234]'),\n",
       " Text(0.03018156095260552, 0.5212264150943396, 'x[2384] <= 434.13\\ngini = 0.48\\nsamples = 5\\nvalue = [2, 3]'),\n",
       " Text(0.020121040635070347, 0.5165094339622641, 'x[2384] <= 365.07\\ngini = 0.444\\nsamples = 3\\nvalue = [2, 1]'),\n",
       " Text(0.010060520317535173, 0.5117924528301887, 'gini = 0.444\\nsamples = 2\\nvalue = [1, 1]'),\n",
       " Text(0.03018156095260552, 0.5117924528301887, 'gini = nan\\nsamples = 1\\nvalue = [1, 0]'),\n",
       " Text(0.040242081270140694, 0.5165094339622641, 'gini = 0.0\\nsamples = 2\\nvalue = [0, 2]'),\n",
       " Text(0.040242081270140694, 0.5259433962264151, 'gini = 0.48\\nsamples = 5\\nvalue = [2, 3]'),\n",
       " Text(0.05030260158767586, 0.5306603773584906, 'gini = 0.5\\nsamples = 4\\nvalue = [2, 2]'),\n",
       " Text(0.06036312190521104, 0.535377358490566, 'gini = 0.0\\nsamples = 1\\nvalue = [1, 0]'),\n",
       " Text(0.0704236422227462, 0.5400943396226415, 'gini = 0.0\\nsamples = 1\\nvalue = [0, 1]'),\n",
       " Text(0.06036312190521104, 0.5542452830188679, 'gini = 0.0\\nsamples = 1\\nvalue = [0, 1]'),\n",
       " Text(0.040242081270140694, 0.5731132075471698, 'gini = 0.0\\nsamples = 1\\nvalue = [1, 0]'),\n",
       " Text(0.05030260158767586, 0.5778301886792453, 'gini = 0.0\\nsamples = 1\\nvalue = [1, 0]'),\n",
       " Text(0.05030260158767586, 0.5872641509433962, 'gini = 0.0\\nsamples = 1\\nvalue = [1, 0]'),\n",
       " Text(0.040242081270140694, 0.6014150943396226, 'gini = 0.0\\nsamples = 1\\nvalue = [1, 0]'),\n",
       " Text(0.05030260158767586, 0.6061320754716981, 'gini = 0.0\\nsamples = 1\\nvalue = [1, 0]'),\n",
       " Text(0.05030260158767586, 0.6155660377358491, 'gini = 0.0\\nsamples = 1\\nvalue = [1, 0]'),\n",
       " Text(0.040242081270140694, 0.6297169811320755, 'gini = 0.0\\nsamples = 1\\nvalue = [1, 0]'),\n",
       " Text(0.05030260158767586, 0.6344339622641509, 'gini = 0.0\\nsamples = 1\\nvalue = [1, 0]'),\n",
       " Text(0.06036312190521104, 0.6391509433962265, 'gini = 0.0\\nsamples = 1\\nvalue = [0, 1]'),\n",
       " Text(0.0704236422227462, 0.6438679245283019, 'gini = 0.0\\nsamples = 1\\nvalue = [1, 0]'),\n",
       " Text(0.08048416254028139, 0.6485849056603774, 'gini = 0.0\\nsamples = 1\\nvalue = [0, 1]'),\n",
       " Text(0.09054468285781656, 0.6533018867924528, 'gini = 0.0\\nsamples = 1\\nvalue = [1, 0]'),\n",
       " Text(0.0704236422227462, 0.6721698113207547, 'gini = 0.0\\nsamples = 1\\nvalue = [1, 0]'),\n",
       " Text(0.08048416254028139, 0.6768867924528302, 'gini = 0.0\\nsamples = 1\\nvalue = [1, 0]'),\n",
       " Text(0.09054468285781656, 0.6816037735849056, 'gini = 0.0\\nsamples = 1\\nvalue = [1, 0]'),\n",
       " Text(0.06036312190521104, 0.7051886792452831, 'gini = 0.0\\nsamples = 1\\nvalue = [1, 0]'),\n",
       " Text(0.0704236422227462, 0.7193396226415094, 'x[0] <= 22.5\\ngini = 0.444\\nsamples = 3\\nvalue = [2, 1]'),\n",
       " Text(0.06036312190521104, 0.714622641509434, 'gini = 0.444\\nsamples = 2\\nvalue = [1, 1]'),\n",
       " Text(0.08048416254028139, 0.714622641509434, 'gini = nan\\nsamples = 1\\nvalue = [1, 0]'),\n",
       " Text(0.0704236422227462, 0.7240566037735849, 'gini = 0.444\\nsamples = 3\\nvalue = [2, 1]'),\n",
       " Text(0.0704236422227462, 0.7429245283018868, 'x[2894] <= 400.0\\ngini = 0.444\\nsamples = 3\\nvalue = [2, 1]'),\n",
       " Text(0.06036312190521104, 0.7382075471698113, 'gini = 0.444\\nsamples = 2\\nvalue = [1, 1]'),\n",
       " Text(0.08048416254028139, 0.7382075471698113, 'gini = nan\\nsamples = 1\\nvalue = [1, 0]'),\n",
       " Text(0.12072624381042207, 0.7476415094339622, 'x[0] <= 21.5\\ngini = 0.48\\nsamples = 5\\nvalue = [3, 2]'),\n",
       " Text(0.11066572349288689, 0.7429245283018868, 'x[14] <= 5.55\\ngini = 0.5\\nsamples = 3\\nvalue = [1, 2]'),\n",
       " Text(0.10060520317535172, 0.7382075471698113, 'gini = 0.444\\nsamples = 2\\nvalue = [0, 2]'),\n",
       " Text(0.12072624381042207, 0.7382075471698113, 'gini = nan\\nsamples = 1\\nvalue = [1, 0]'),\n",
       " Text(0.13078676412795726, 0.7429245283018868, 'gini = 0.0\\nsamples = 2\\nvalue = [2, 0]'),\n",
       " Text(0.1408472844454924, 0.7570754716981132, 'x[2074] <= 1335.55\\ngini = 0.49\\nsamples = 7\\nvalue = [4, 3]'),\n",
       " Text(0.13078676412795726, 0.7523584905660378, 'gini = 0.0\\nsamples = 2\\nvalue = [2, 0]'),\n",
       " Text(0.1509078047630276, 0.7523584905660378, 'x[2074] <= 1737.384\\ngini = 0.48\\nsamples = 5\\nvalue = [2, 3]'),\n",
       " Text(0.1408472844454924, 0.7476415094339622, 'gini = 0.0\\nsamples = 2\\nvalue = [0, 2]'),\n",
       " Text(0.16096832508056277, 0.7476415094339622, 'x[2948] <= 0.5\\ngini = 0.444\\nsamples = 3\\nvalue = [2, 1]'),\n",
       " Text(0.1509078047630276, 0.7429245283018868, 'gini = 0.444\\nsamples = 2\\nvalue = [2, 0]'),\n",
       " Text(0.17102884539809793, 0.7429245283018868, 'gini = nan\\nsamples = 1\\nvalue = [0, 1]'),\n",
       " Text(0.23139196730330897, 0.7617924528301887, 'x[0] <= 22.5\\ngini = 0.49\\nsamples = 7\\nvalue = [4, 3]'),\n",
       " Text(0.22133144698577378, 0.7570754716981132, 'x[2057] <= 391398.531\\ngini = 0.5\\nsamples = 5\\nvalue = [3, 2]'),\n",
       " Text(0.21127092666823863, 0.7523584905660378, 'x[2057] <= 288345.648\\ngini = 0.48\\nsamples = 4\\nvalue = [3, 1]'),\n",
       " Text(0.20121040635070345, 0.7476415094339622, 'x[2057] <= 220152.328\\ngini = 0.375\\nsamples = 3\\nvalue = [2, 1]'),\n",
       " Text(0.19114988603316826, 0.7429245283018868, 'gini = 0.444\\nsamples = 2\\nvalue = [1, 1]'),\n",
       " Text(0.21127092666823863, 0.7429245283018868, 'gini = nan\\nsamples = 1\\nvalue = [1, 0]'),\n",
       " Text(0.22133144698577378, 0.7476415094339622, 'gini = nan\\nsamples = 1\\nvalue = [1, 0]'),\n",
       " Text(0.23139196730330897, 0.7523584905660378, 'gini = nan\\nsamples = 1\\nvalue = [0, 1]'),\n",
       " Text(0.24145248762084415, 0.7570754716981132, 'gini = 0.0\\nsamples = 2\\nvalue = [1, 1]'),\n",
       " Text(0.2615735282559145, 0.7665094339622641, 'x[339] <= 0.9\\ngini = 0.49\\nsamples = 7\\nvalue = [4, 3]'),\n",
       " Text(0.25151300793837933, 0.7617924528301887, 'gini = 0.0\\nsamples = 3\\nvalue = [3, 0]'),\n",
       " Text(0.27163404857344964, 0.7617924528301887, 'x[332] <= 4.99\\ngini = 0.375\\nsamples = 4\\nvalue = [1, 3]'),\n",
       " Text(0.2615735282559145, 0.7570754716981132, 'x[332] <= 3.94\\ngini = 0.375\\nsamples = 3\\nvalue = [1, 2]'),\n",
       " Text(0.25151300793837933, 0.7523584905660378, 'gini = 0.444\\nsamples = 2\\nvalue = [0, 2]'),\n",
       " Text(0.27163404857344964, 0.7523584905660378, 'gini = nan\\nsamples = 1\\nvalue = [1, 0]'),\n",
       " Text(0.2816945688909848, 0.7570754716981132, 'gini = nan\\nsamples = 1\\nvalue = [0, 1]'),\n",
       " Text(0.22573292462469544, 0.7759433962264151, 'gini = 0.375\\nsamples = 4\\nvalue = [3, 1]'),\n",
       " Text(0.2056118839896251, 0.7948113207547169, 'gini = 0.0\\nsamples = 2\\nvalue = [2, 0]'),\n",
       " Text(0.2056118839896251, 0.8042452830188679, 'gini = 0.0\\nsamples = 2\\nvalue = [2, 0]'),\n",
       " Text(0.21567240430716025, 0.8089622641509434, 'gini = 0.0\\nsamples = 2\\nvalue = [2, 0]'),\n",
       " Text(0.22573292462469544, 0.8136792452830188, 'gini = 0.0\\nsamples = 2\\nvalue = [2, 0]'),\n",
       " Text(0.2056118839896251, 0.8325471698113207, 'gini = 0.5\\nsamples = 2\\nvalue = [1, 1]'),\n",
       " Text(0.2056118839896251, 0.8419811320754716, 'gini = 0.0\\nsamples = 2\\nvalue = [2, 0]'),\n",
       " Text(0.2056118839896251, 0.8514150943396226, 'gini = 0.408\\nsamples = 7\\nvalue = [5, 2]'),\n",
       " Text(0.19555136367208992, 0.8655660377358491, 'gini = 0.32\\nsamples = 5\\nvalue = [4, 1]'),\n",
       " Text(0.2056118839896251, 0.8702830188679245, 'gini = 0.0\\nsamples = 3\\nvalue = [3, 0]'),\n",
       " Text(0.21567240430716025, 0.875, 'gini = 0.0\\nsamples = 3\\nvalue = [3, 0]'),\n",
       " Text(0.22573292462469544, 0.8797169811320755, 'gini = 0.0\\nsamples = 3\\nvalue = [3, 0]'),\n",
       " Text(0.22573292462469544, 0.8891509433962265, 'gini = 0.0\\nsamples = 3\\nvalue = [3, 0]'),\n",
       " Text(0.23579344494223062, 0.8938679245283019, 'gini = 0.0\\nsamples = 3\\nvalue = [3, 0]'),\n",
       " Text(0.23579344494223062, 0.9033018867924528, 'gini = 0.278\\nsamples = 6\\nvalue = [5, 1]'),\n",
       " Text(0.23579344494223062, 0.9127358490566038, 'gini = 0.0\\nsamples = 4\\nvalue = [4, 0]'),\n",
       " Text(0.24585396525976577, 0.9174528301886793, 'gini = 0.0\\nsamples = 4\\nvalue = [4, 0]'),\n",
       " Text(0.25591448557730095, 0.9221698113207547, 'gini = 0.375\\nsamples = 4\\nvalue = [3, 1]'),\n",
       " Text(0.25591448557730095, 0.9316037735849056, 'gini = 0.375\\nsamples = 4\\nvalue = [3, 1]'),\n",
       " Text(0.26597500589483614, 0.9363207547169812, 'gini = 0.0\\nsamples = 5\\nvalue = [5, 0]'),\n",
       " Text(0.2760355262123713, 0.9410377358490566, 'gini = 0.0\\nsamples = 5\\nvalue = [5, 0]'),\n",
       " Text(0.26597500589483614, 0.9551886792452831, 'gini = 0.0\\nsamples = 16\\nvalue = [16, 0]'),\n",
       " Text(0.3062170871649768, 0.9599056603773585, 'x[2130] <= 2.5\\ngini = nan\\nsamples = 206\\nvalue = [108, 98]'),\n",
       " Text(0.28609604652990644, 0.9551886792452831, 'x[2133] <= 4.43\\ngini = 0.495\\nsamples = 194\\nvalue = [107, 87]'),\n",
       " Text(0.2760355262123713, 0.9504716981132075, 'gini = 0.0\\nsamples = 8\\nvalue = [8, 0]'),\n",
       " Text(0.2961565668474416, 0.9504716981132075, 'x[0] <= 17.5\\ngini = 0.498\\nsamples = 186\\nvalue = [99, 87]'),\n",
       " Text(0.28609604652990644, 0.9457547169811321, 'gini = 0.444\\nsamples = 19\\nvalue = [3, 16]'),\n",
       " Text(0.3062170871649768, 0.9457547169811321, 'x[2917] <= 3837.5\\ngini = 0.497\\nsamples = 167\\nvalue = [96, 71]'),\n",
       " Text(0.2961565668474416, 0.9410377358490566, 'gini = 0.391\\nsamples = 15\\nvalue = [4, 11]'),\n",
       " Text(0.316277607482512, 0.9410377358490566, 'x[0] <= 18.5\\ngini = 0.478\\nsamples = 152\\nvalue = [92, 60]'),\n",
       " Text(0.3062170871649768, 0.9363207547169812, 'gini = 0.0\\nsamples = 12\\nvalue = [12, 0]'),\n",
       " Text(0.3263381278000472, 0.9363207547169812, 'x[2378] <= 0.798\\ngini = 0.48\\nsamples = 140\\nvalue = [80, 60]'),\n",
       " Text(0.316277607482512, 0.9316037735849056, 'gini = 0.391\\nsamples = 15\\nvalue = [4, 11]'),\n",
       " Text(0.33639864811758236, 0.9316037735849056, 'x[2232] <= 2.626\\ngini = 0.477\\nsamples = 125\\nvalue = [76, 49]'),\n",
       " Text(0.3062170871649768, 0.9268867924528302, 'x[2109] <= 1026229.0\\ngini = 0.463\\nsamples = 118\\nvalue = [75, 43]'),\n",
       " Text(0.2961565668474416, 0.9221698113207547, 'gini = 0.0\\nsamples = 4\\nvalue = [0, 4]'),\n",
       " Text(0.316277607482512, 0.9221698113207547, 'x[2134] <= 248.371\\ngini = 0.45\\nsamples = 114\\nvalue = [75, 39]'),\n",
       " Text(0.3062170871649768, 0.9174528301886793, 'gini = 0.433\\nsamples = 104\\nvalue = [71, 33]'),\n",
       " Text(0.3263381278000472, 0.9174528301886793, 'x[2134] <= 328.497\\ngini = 0.48\\nsamples = 10\\nvalue = [4, 6]'),\n",
       " Text(0.316277607482512, 0.9127358490566038, 'gini = 0.0\\nsamples = 3\\nvalue = [0, 3]'),\n",
       " Text(0.33639864811758236, 0.9127358490566038, 'x[2134] <= 400.513\\ngini = 0.49\\nsamples = 7\\nvalue = [4, 3]'),\n",
       " Text(0.3263381278000472, 0.9080188679245284, 'gini = 0.0\\nsamples = 3\\nvalue = [3, 0]'),\n",
       " Text(0.3464591684351175, 0.9080188679245284, 'x[2134] <= 414.824\\ngini = 0.375\\nsamples = 4\\nvalue = [1, 3]'),\n",
       " Text(0.33639864811758236, 0.9033018867924528, 'x[8] <= 0.5\\ngini = 0.375\\nsamples = 3\\nvalue = [1, 2]'),\n",
       " Text(0.3263381278000472, 0.8985849056603774, 'gini = 0.444\\nsamples = 2\\nvalue = [1, 1]'),\n",
       " Text(0.3464591684351175, 0.8985849056603774, 'gini = nan\\nsamples = 1\\nvalue = [0, 1]'),\n",
       " Text(0.35651968875265266, 0.9033018867924528, 'gini = nan\\nsamples = 1\\nvalue = [0, 1]'),\n",
       " Text(0.36658020907018785, 0.9268867924528302, 'x[0] <= 22.5\\ngini = 0.245\\nsamples = 7\\nvalue = [1, 6]'),\n",
       " Text(0.35651968875265266, 0.9221698113207547, 'x[2209] <= 0.016\\ngini = 0.278\\nsamples = 5\\nvalue = [0, 5]'),\n",
       " Text(0.3464591684351175, 0.9174528301886793, 'gini = 0.0\\nsamples = 4\\nvalue = [0, 4]'),\n",
       " Text(0.36658020907018785, 0.9174528301886793, 'gini = nan\\nsamples = 1\\nvalue = [0, 1]'),\n",
       " Text(0.37664072938772303, 0.9221698113207547, 'gini = 0.0\\nsamples = 2\\nvalue = [1, 1]'),\n",
       " Text(0.3263381278000472, 0.9551886792452831, 'x[2133] <= 12.3\\ngini = 0.153\\nsamples = 12\\nvalue = [1, 11]'),\n",
       " Text(0.316277607482512, 0.9504716981132075, 'gini = 0.153\\nsamples = 11\\nvalue = [1, 10]'),\n",
       " Text(0.33639864811758236, 0.9504716981132075, 'gini = nan\\nsamples = 1\\nvalue = [0, 1]'),\n",
       " Text(0.29112630668867406, 0.9693396226415094, 'gini = 0.0\\nsamples = 8\\nvalue = [8, 0]'),\n",
       " Text(0.3867012497052582, 0.9740566037735849, 'x[2950] <= 0.5\\ngini = 0.308\\nsamples = 21\\nvalue = [17, 4]'),\n",
       " Text(0.37664072938772303, 0.9693396226415094, 'x[2948] <= 0.5\\ngini = 0.332\\nsamples = 14\\nvalue = [11, 3]'),\n",
       " Text(0.36658020907018785, 0.964622641509434, 'x[2951] <= 0.5\\ngini = 0.337\\nsamples = 11\\nvalue = [8, 3]'),\n",
       " Text(0.35651968875265266, 0.9599056603773585, 'x[5] <= 0.5\\ngini = 0.397\\nsamples = 9\\nvalue = [6, 3]'),\n",
       " Text(0.3464591684351175, 0.9551886792452831, 'gini = 0.444\\nsamples = 8\\nvalue = [5, 3]'),\n",
       " Text(0.36658020907018785, 0.9551886792452831, 'gini = nan\\nsamples = 1\\nvalue = [1, 0]'),\n",
       " Text(0.37664072938772303, 0.9599056603773585, 'gini = nan\\nsamples = 2\\nvalue = [2, 0]'),\n",
       " Text(0.3867012497052582, 0.964622641509434, 'gini = nan\\nsamples = 3\\nvalue = [3, 0]'),\n",
       " Text(0.3967617700227934, 0.9693396226415094, 'gini = 0.0\\nsamples = 7\\nvalue = [6, 1]'),\n",
       " Text(0.3540045586732689, 0.9787735849056604, 'gini = 0.0\\nsamples = 28\\nvalue = [0, 28]'),\n",
       " Text(0.4269433309753989, 0.9834905660377359, 'x[5] <= 0.5\\ngini = 0.45\\nsamples = 494\\nvalue = [169, 325]'),\n",
       " Text(0.4168828106578637, 0.9787735849056604, 'x[2379] <= 0.356\\ngini = 0.43\\nsamples = 460\\nvalue = [144, 316]'),\n",
       " Text(0.4068222903403285, 0.9740566037735849, 'gini = 0.165\\nsamples = 11\\nvalue = [10, 1]'),\n",
       " Text(0.4269433309753989, 0.9740566037735849, 'x[2189] <= 353.5\\ngini = 0.419\\nsamples = 449\\nvalue = [134, 315]'),\n",
       " Text(0.4168828106578637, 0.9693396226415094, 'gini = 0.198\\nsamples = 9\\nvalue = [8, 1]'),\n",
       " Text(0.43700385129293406, 0.9693396226415094, 'x[2234] <= 2.198\\ngini = 0.409\\nsamples = 440\\nvalue = [126, 314]'),\n",
       " Text(0.4269433309753989, 0.964622641509434, 'gini = 0.32\\nsamples = 5\\nvalue = [4, 1]'),\n",
       " Text(0.44706437161046925, 0.964622641509434, 'x[2209] <= 0.003\\ngini = 0.404\\nsamples = 435\\nvalue = [122, 313]'),\n",
       " Text(0.43700385129293406, 0.9599056603773585, 'gini = 0.0\\nsamples = 5\\nvalue = [5, 0]'),\n",
       " Text(0.45712489192800443, 0.9599056603773585, 'x[2916] <= 0.477\\ngini = 0.396\\nsamples = 430\\nvalue = [117, 313]'),\n",
       " Text(0.4269433309753989, 0.9551886792452831, 'x[2134] <= 343.064\\ngini = 0.382\\nsamples = 412\\nvalue = [106, 306]'),\n",
       " Text(0.4168828106578637, 0.9504716981132075, 'gini = 0.0\\nsamples = 4\\nvalue = [4, 0]'),\n",
       " Text(0.43700385129293406, 0.9504716981132075, 'x[2799] <= 23.345\\ngini = 0.375\\nsamples = 408\\nvalue = [102, 306]'),\n",
       " Text(0.4269433309753989, 0.9457547169811321, 'x[235] <= 11596.0\\ngini = 0.369\\nsamples = 405\\nvalue = [99, 306]'),\n",
       " Text(0.4168828106578637, 0.9410377358490566, 'x[2825] <= inf\\ngini = 0.366\\nsamples = 403\\nvalue = [97, 306]'),\n",
       " Text(0.4068222903403285, 0.9363207547169812, 'gini = 0.5\\nsamples = 2\\nvalue = [1, 1]'),\n",
       " Text(0.4269433309753989, 0.9363207547169812, 'x[654] <= 0.465\\ngini = 0.364\\nsamples = 401\\nvalue = [96, 305]'),\n",
       " Text(0.4168828106578637, 0.9316037735849056, 'gini = 0.5\\nsamples = 2\\nvalue = [1, 1]'),\n",
       " Text(0.43700385129293406, 0.9316037735849056, 'x[2146] <= 8.909\\ngini = 0.363\\nsamples = 399\\nvalue = [95, 304]'),\n",
       " Text(0.4269433309753989, 0.9268867924528302, 'gini = 0.0\\nsamples = 2\\nvalue = [2, 0]'),\n",
       " Text(0.44706437161046925, 0.9268867924528302, 'x[2158] <= 77.528\\ngini = 0.359\\nsamples = 397\\nvalue = [93, 304]'),\n",
       " Text(0.43700385129293406, 0.9221698113207547, 'gini = 0.0\\nsamples = 2\\nvalue = [2, 0]'),\n",
       " Text(0.45712489192800443, 0.9221698113207547, 'x[610] <= 6548.793\\ngini = 0.355\\nsamples = 395\\nvalue = [91, 304]'),\n",
       " Text(0.44706437161046925, 0.9174528301886793, 'gini = 0.0\\nsamples = 2\\nvalue = [2, 0]'),\n",
       " Text(0.46718541224553956, 0.9174528301886793, 'x[2840] <= inf\\ngini = 0.35\\nsamples = 393\\nvalue = [89, 304]'),\n",
       " Text(0.45712489192800443, 0.9127358490566038, 'gini = 0.0\\nsamples = 2\\nvalue = [2, 0]'),\n",
       " Text(0.47724593256307474, 0.9127358490566038, 'x[2899] <= 4.912\\ngini = 0.346\\nsamples = 391\\nvalue = [87, 304]'),\n",
       " Text(0.46718541224553956, 0.9080188679245284, 'x[2893] <= 188.69\\ngini = 0.342\\nsamples = 389\\nvalue = [85, 304]'),\n",
       " Text(0.45712489192800443, 0.9033018867924528, 'gini = 0.0\\nsamples = 2\\nvalue = [2, 0]'),\n",
       " Text(0.47724593256307474, 0.9033018867924528, 'x[2916] <= 0.191\\ngini = 0.337\\nsamples = 387\\nvalue = [83, 304]'),\n",
       " Text(0.46718541224553956, 0.8985849056603774, 'gini = 0.444\\nsamples = 6\\nvalue = [4, 2]'),\n",
       " Text(0.4873064528806099, 0.8985849056603774, 'x[2815] <= inf\\ngini = 0.329\\nsamples = 381\\nvalue = [79, 302]'),\n",
       " Text(0.47724593256307474, 0.8938679245283019, 'gini = 0.5\\nsamples = 2\\nvalue = [1, 1]'),\n",
       " Text(0.4973669731981451, 0.8938679245283019, 'x[454] <= 23609.988\\ngini = 0.327\\nsamples = 379\\nvalue = [78, 301]'),\n",
       " Text(0.4873064528806099, 0.8891509433962265, 'gini = 0.0\\nsamples = 2\\nvalue = [2, 0]'),\n",
       " Text(0.5074274935156803, 0.8891509433962265, 'x[2895] <= 124.215\\ngini = 0.322\\nsamples = 377\\nvalue = [76, 301]'),\n",
       " Text(0.4973669731981451, 0.8844339622641509, 'gini = 0.0\\nsamples = 2\\nvalue = [2, 0]'),\n",
       " Text(0.5174880138332154, 0.8844339622641509, 'x[2381] <= 0.508\\ngini = 0.317\\nsamples = 375\\nvalue = [74, 301]'),\n",
       " Text(0.47473080248369093, 0.8797169811320755, 'x[2802] <= 0.94\\ngini = 0.31\\nsamples = 370\\nvalue = [71, 299]'),\n",
       " Text(0.4395189813723179, 0.875, 'x[587] <= 480.638\\ngini = 0.3\\nsamples = 359\\nvalue = [66, 293]'),\n",
       " Text(0.4193979407372475, 0.8702830188679245, 'x[24] <= 477.0\\ngini = 0.295\\nsamples = 356\\nvalue = [64, 292]'),\n",
       " Text(0.40933742041971233, 0.8655660377358491, 'gini = 0.444\\nsamples = 3\\nvalue = [1, 2]'),\n",
       " Text(0.4294584610547827, 0.8655660377358491, 'x[20] <= 30.483\\ngini = 0.293\\nsamples = 353\\nvalue = [63, 290]'),\n",
       " Text(0.40933742041971233, 0.8608490566037735, 'x[383] <= 496852.656\\ngini = 0.288\\nsamples = 350\\nvalue = [61, 289]'),\n",
       " Text(0.39927690010217715, 0.8561320754716981, 'gini = 0.282\\nsamples = 347\\nvalue = [59, 288]'),\n",
       " Text(0.4193979407372475, 0.8561320754716981, 'x[410] <= 1050503.719\\ngini = 0.444\\nsamples = 3\\nvalue = [2, 1]'),\n",
       " Text(0.40933742041971233, 0.8514150943396226, 'gini = 0.444\\nsamples = 2\\nvalue = [1, 1]'),\n",
       " Text(0.4294584610547827, 0.8514150943396226, 'gini = nan\\nsamples = 1\\nvalue = [1, 0]'),\n",
       " Text(0.449579501689853, 0.8608490566037735, 'x[21] <= 4.006\\ngini = 0.444\\nsamples = 3\\nvalue = [2, 1]'),\n",
       " Text(0.4395189813723179, 0.8561320754716981, 'gini = 0.444\\nsamples = 2\\nvalue = [1, 1]'),\n",
       " Text(0.4596400220073882, 0.8561320754716981, 'gini = nan\\nsamples = 1\\nvalue = [1, 0]'),\n",
       " Text(0.4596400220073882, 0.8702830188679245, 'x[609] <= 30159.979\\ngini = 0.444\\nsamples = 3\\nvalue = [2, 1]'),\n",
       " Text(0.449579501689853, 0.8655660377358491, 'gini = 0.444\\nsamples = 2\\nvalue = [1, 1]'),\n",
       " Text(0.46970054232492336, 0.8655660377358491, 'gini = nan\\nsamples = 1\\nvalue = [1, 0]'),\n",
       " Text(0.509942623595064, 0.875, 'x[2950] <= 0.5\\ngini = 0.496\\nsamples = 11\\nvalue = [5, 6]'),\n",
       " Text(0.4998821032775289, 0.8702830188679245, 'x[2384] <= 328.345\\ngini = 0.494\\nsamples = 8\\nvalue = [5, 3]'),\n",
       " Text(0.48982158295999373, 0.8655660377358491, 'x[2802] <= 1.46\\ngini = 0.5\\nsamples = 4\\nvalue = [2, 2]'),\n",
       " Text(0.47976106264245855, 0.8608490566037735, 'gini = 0.0\\nsamples = 1\\nvalue = [0, 1]'),\n",
       " Text(0.4998821032775289, 0.8608490566037735, 'x[2948] <= 0.5\\ngini = 0.444\\nsamples = 3\\nvalue = [2, 1]'),\n",
       " Text(0.48982158295999373, 0.8561320754716981, 'gini = 0.444\\nsamples = 2\\nvalue = [2, 0]'),\n",
       " Text(0.509942623595064, 0.8561320754716981, 'gini = nan\\nsamples = 1\\nvalue = [0, 1]'),\n",
       " Text(0.509942623595064, 0.8655660377358491, 'gini = 0.375\\nsamples = 4\\nvalue = [3, 1]'),\n",
       " Text(0.5200031439125993, 0.8702830188679245, 'gini = 0.0\\nsamples = 3\\nvalue = [0, 3]'),\n",
       " Text(0.5602452251827399, 0.8797169811320755, 'x[2950] <= 0.5\\ngini = 0.48\\nsamples = 5\\nvalue = [3, 2]'),\n",
       " Text(0.5501847048652048, 0.875, 'x[2951] <= 0.5\\ngini = 0.375\\nsamples = 3\\nvalue = [3, 0]'),\n",
       " Text(0.5401241845476695, 0.8702830188679245, 'gini = 0.0\\nsamples = 2\\nvalue = [2, 0]'),\n",
       " Text(0.5602452251827399, 0.8702830188679245, 'gini = nan\\nsamples = 1\\nvalue = [1, 0]'),\n",
       " Text(0.5703057455002751, 0.875, 'gini = 0.0\\nsamples = 2\\nvalue = [0, 2]'),\n",
       " Text(0.4873064528806099, 0.9080188679245284, 'gini = 0.0\\nsamples = 2\\nvalue = [2, 0]'),\n",
       " Text(0.43700385129293406, 0.9410377358490566, 'gini = 0.0\\nsamples = 2\\nvalue = [2, 0]'),\n",
       " Text(0.44706437161046925, 0.9457547169811321, 'gini = 0.0\\nsamples = 3\\nvalue = [3, 0]'),\n",
       " Text(0.4873064528806099, 0.9551886792452831, 'x[2950] <= 0.5\\ngini = 0.475\\nsamples = 18\\nvalue = [11, 7]'),\n",
       " Text(0.47724593256307474, 0.9504716981132075, 'x[2915] <= 1492.5\\ngini = 0.397\\nsamples = 10\\nvalue = [7, 3]'),\n",
       " Text(0.46718541224553956, 0.9457547169811321, 'gini = 0.0\\nsamples = 4\\nvalue = [4, 0]'),\n",
       " Text(0.4873064528806099, 0.9457547169811321, 'x[2915] <= 2022.5\\ngini = 0.5\\nsamples = 6\\nvalue = [3, 3]'),\n",
       " Text(0.47724593256307474, 0.9410377358490566, 'gini = 0.444\\nsamples = 3\\nvalue = [0, 3]'),\n",
       " Text(0.4973669731981451, 0.9410377358490566, 'x[2951] <= 0.5\\ngini = 0.444\\nsamples = 3\\nvalue = [3, 0]'),\n",
       " Text(0.4873064528806099, 0.9363207547169812, 'gini = 0.0\\nsamples = 2\\nvalue = [2, 0]'),\n",
       " Text(0.5074274935156803, 0.9363207547169812, 'gini = nan\\nsamples = 1\\nvalue = [1, 0]'),\n",
       " Text(0.4973669731981451, 0.9504716981132075, 'gini = 0.49\\nsamples = 8\\nvalue = [4, 4]'),\n",
       " Text(0.43700385129293406, 0.9787735849056604, 'gini = 0.389\\nsamples = 34\\nvalue = [25, 9]'),\n",
       " Text(0.7117818124656135, 0.9929245283018868, 'x[3] <= 0.5\\ngini = 0.465\\nsamples = 3389\\nvalue = [2140, 1249]'),\n",
       " Text(0.7017212921480783, 0.9882075471698113, 'x[8] <= 0.5\\ngini = 0.458\\nsamples = 3276\\nvalue = [2112, 1164]'),\n",
       " Text(0.6916607718305431, 0.9834905660377359, 'x[454] <= 89079.746\\ngini = 0.464\\nsamples = 3139\\nvalue = [1989, 1150]'),\n",
       " Text(0.681600251513008, 0.9787735849056604, 'x[57] <= 180211.246\\ngini = 0.462\\nsamples = 3122\\nvalue = [1989, 1133]'),\n",
       " Text(0.6715397311954727, 0.9740566037735849, 'x[2130] <= 3.065\\ngini = 0.461\\nsamples = 3108\\nvalue = [1989, 1119]'),\n",
       " Text(0.6614792108779376, 0.9693396226415094, 'gini = 0.281\\nsamples = 130\\nvalue = [108, 22]'),\n",
       " Text(0.681600251513008, 0.9693396226415094, 'x[1301] <= 8234.697\\ngini = 0.465\\nsamples = 2978\\nvalue = [1881, 1097]'),\n",
       " Text(0.6715397311954727, 0.964622641509434, 'x[597] <= 3.54\\ngini = 0.463\\nsamples = 2952\\nvalue = [1875, 1077]'),\n",
       " Text(0.6614792108779376, 0.9599056603773585, 'x[422] <= 7431.415\\ngini = 0.462\\nsamples = 2942\\nvalue = [1875, 1067]'),\n",
       " Text(0.6514186905604025, 0.9551886792452831, 'gini = 0.0\\nsamples = 30\\nvalue = [30, 0]'),\n",
       " Text(0.6715397311954727, 0.9551886792452831, 'x[2381] <= 0.168\\ngini = 0.464\\nsamples = 2912\\nvalue = [1845, 1067]'),\n",
       " Text(0.6614792108779376, 0.9504716981132075, 'gini = 0.15\\nsamples = 49\\nvalue = [45, 4]'),\n",
       " Text(0.681600251513008, 0.9504716981132075, 'x[2134] <= 453.674\\ngini = 0.467\\nsamples = 2863\\nvalue = [1800, 1063]'),\n",
       " Text(0.6715397311954727, 0.9457547169811321, 'gini = 0.201\\nsamples = 53\\nvalue = [47, 6]'),\n",
       " Text(0.6916607718305431, 0.9457547169811321, 'x[2094] <= 5.14\\ngini = 0.469\\nsamples = 2810\\nvalue = [1753, 1057]'),\n",
       " Text(0.6356991275642537, 0.9410377358490566, 'x[2085] <= 4.675\\ngini = 0.351\\nsamples = 22\\nvalue = [5, 17]'),\n",
       " Text(0.6155780869291834, 0.9363207547169812, 'x[2095] <= 22.17\\ngini = 0.351\\nsamples = 19\\nvalue = [4, 15]'),\n",
       " Text(0.6055175666116482, 0.9316037735849056, 'gini = 0.278\\nsamples = 6\\nvalue = [4, 2]'),\n",
       " Text(0.6256386072467185, 0.9316037735849056, 'x[872] <= 17.475\\ngini = 0.355\\nsamples = 13\\nvalue = [0, 13]'),\n",
       " Text(0.6155780869291834, 0.9268867924528302, 'gini = 0.0\\nsamples = 12\\nvalue = [0, 12]'),\n",
       " Text(0.6356991275642537, 0.9268867924528302, 'gini = nan\\nsamples = 1\\nvalue = [0, 1]'),\n",
       " Text(0.6558201681993241, 0.9363207547169812, 'x[2089] <= 7.04\\ngini = nan\\nsamples = 3\\nvalue = [1, 2]'),\n",
       " Text(0.6457596478817889, 0.9316037735849056, 'gini = 0.0\\nsamples = 2\\nvalue = [0, 2]'),\n",
       " Text(0.6658806885168592, 0.9316037735849056, 'gini = 0.0\\nsamples = 1\\nvalue = [1, 0]'),\n",
       " Text(0.7476224160968326, 0.9410377358490566, 'x[709] <= 3979.87\\ngini = 0.468\\nsamples = 2788\\nvalue = [1748, 1040]'),\n",
       " Text(0.7375618957792973, 0.9363207547169812, 'x[2232] <= 1.486\\ngini = 0.47\\nsamples = 2751\\nvalue = [1714, 1037]'),\n",
       " Text(0.7275013754617622, 0.9316037735849056, 'x[45] <= 2.613\\ngini = 0.472\\nsamples = 2695\\nvalue = [1666, 1029]'),\n",
       " Text(0.6558201681993241, 0.9268867924528302, 'x[45] <= 0.915\\ngini = 0.401\\nsamples = 18\\nvalue = [5, 13]'),\n",
       " Text(0.6356991275642537, 0.9221698113207547, 'x[45] <= 0.729\\ngini = 0.444\\nsamples = 6\\nvalue = [4, 2]'),\n",
       " Text(0.6256386072467185, 0.9174528301886793, 'x[45] <= 0.626\\ngini = 0.444\\nsamples = 3\\nvalue = [1, 2]'),\n",
       " Text(0.6155780869291834, 0.9127358490566038, 'gini = 0.444\\nsamples = 2\\nvalue = [1, 1]'),\n",
       " Text(0.6356991275642537, 0.9127358490566038, 'gini = nan\\nsamples = 1\\nvalue = [0, 1]'),\n",
       " Text(0.6457596478817889, 0.9174528301886793, 'gini = 0.0\\nsamples = 3\\nvalue = [3, 0]'),\n",
       " Text(0.6759412088343945, 0.9221698113207547, 'x[45] <= 2.406\\ngini = 0.153\\nsamples = 12\\nvalue = [1, 11]'),\n",
       " Text(0.6658806885168592, 0.9174528301886793, 'gini = 0.153\\nsamples = 11\\nvalue = [1, 10]'),\n",
       " Text(0.6860017291519296, 0.9174528301886793, 'gini = nan\\nsamples = 1\\nvalue = [0, 1]'),\n",
       " Text(0.7991825827242003, 0.9268867924528302, 'x[2914] <= 0.157\\ngini = 0.471\\nsamples = 2677\\nvalue = [1661, 1016]'),\n",
       " Text(0.7161832901045351, 0.9221698113207547, 'x[710] <= 2952052.5\\ngini = 0.474\\nsamples = 2527\\nvalue = [1549, 978]'),\n",
       " Text(0.706122769787, 0.9174528301886793, 'x[2259] <= 4889.0\\ngini = 0.476\\nsamples = 2489\\nvalue = [1517, 972]'),\n",
       " Text(0.6960622494694647, 0.9127358490566038, 'gini = 0.307\\nsamples = 58\\nvalue = [47, 11]'),\n",
       " Text(0.7161832901045351, 0.9127358490566038, 'x[2247] <= 1280.0\\ngini = 0.478\\nsamples = 2431\\nvalue = [1470, 961]'),\n",
       " Text(0.706122769787, 0.9080188679245284, 'x[2078] <= 69.18\\ngini = 0.477\\nsamples = 2421\\nvalue = [1469, 952]'),\n",
       " Text(0.6860017291519296, 0.9033018867924528, 'x[2838] <= 0.572\\ngini = 0.476\\nsamples = 2391\\nvalue = [1458, 933]'),\n",
       " Text(0.6759412088343945, 0.8985849056603774, 'x[2136] <= 0.497\\ngini = 0.475\\nsamples = 2382\\nvalue = [1457, 925]'),\n",
       " Text(0.6658806885168592, 0.8938679245283019, 'x[53] <= 2192.624\\ngini = 0.474\\nsamples = 2373\\nvalue = [1456, 917]'),\n",
       " Text(0.6558201681993241, 0.8891509433962265, 'x[335] <= 4.405\\ngini = 0.473\\nsamples = 2364\\nvalue = [1455, 909]'),\n",
       " Text(0.6457596478817889, 0.8844339622641509, 'x[2837] <= 0.677\\ngini = 0.472\\nsamples = 2355\\nvalue = [1454, 901]'),\n",
       " Text(0.6105478267704157, 0.8797169811320755, 'x[1510] <= 492325.125\\ngini = 0.472\\nsamples = 2346\\nvalue = [1453, 893]'),\n",
       " Text(0.5904267861353454, 0.875, 'x[1511] <= 227.63\\ngini = 0.471\\nsamples = 2337\\nvalue = [1452, 885]'),\n",
       " Text(0.5803662658178103, 0.8702830188679245, 'x[1481] <= 914.814\\ngini = 0.47\\nsamples = 2331\\nvalue = [1452, 879]'),\n",
       " Text(0.5703057455002751, 0.8655660377358491, 'gini = 0.0\\nsamples = 6\\nvalue = [0, 6]'),\n",
       " Text(0.5904267861353454, 0.8655660377358491, 'x[2283] <= 11814.47\\ngini = 0.469\\nsamples = 2325\\nvalue = [1452, 873]'),\n",
       " Text(0.5803662658178103, 0.8608490566037735, 'gini = 0.0\\nsamples = 6\\nvalue = [0, 6]'),\n",
       " Text(0.6004873064528806, 0.8608490566037735, 'x[2142] <= 3.092\\ngini = 0.468\\nsamples = 2319\\nvalue = [1452, 867]'),\n",
       " Text(0.5602452251827399, 0.8561320754716981, 'x[286] <= 3362.352\\ngini = 0.467\\nsamples = 2306\\nvalue = [1449, 857]'),\n",
       " Text(0.5501847048652048, 0.8514150943396226, 'gini = 0.0\\nsamples = 5\\nvalue = [0, 5]'),\n",
       " Text(0.5703057455002751, 0.8514150943396226, 'x[2378] <= 0.26\\ngini = 0.466\\nsamples = 2301\\nvalue = [1449, 852]'),\n",
       " Text(0.5602452251827399, 0.8466981132075472, 'gini = 0.0\\nsamples = 5\\nvalue = [0, 5]'),\n",
       " Text(0.5803662658178103, 0.8466981132075472, 'x[2378] <= 0.334\\ngini = 0.466\\nsamples = 2296\\nvalue = [1449, 847]'),\n",
       " Text(0.5703057455002751, 0.8419811320754716, 'gini = 0.0\\nsamples = 16\\nvalue = [16, 0]'),\n",
       " Text(0.5904267861353454, 0.8419811320754716, 'x[2864] <= 0.128\\ngini = 0.467\\nsamples = 2280\\nvalue = [1433, 847]'),\n",
       " Text(0.5803662658178103, 0.8372641509433962, 'gini = 0.32\\nsamples = 5\\nvalue = [1, 4]'),\n",
       " Text(0.6004873064528806, 0.8372641509433962, 'x[2407] <= 1.305\\ngini = 0.466\\nsamples = 2275\\nvalue = [1432, 843]'),\n",
       " Text(0.5904267861353454, 0.8325471698113207, 'gini = 0.0\\nsamples = 5\\nvalue = [0, 5]'),\n",
       " Text(0.6105478267704157, 0.8325471698113207, 'x[2834] <= 5.668\\ngini = 0.466\\nsamples = 2270\\nvalue = [1432, 838]'),\n",
       " Text(0.6004873064528806, 0.8278301886792453, 'x[2226] <= 63.442\\ngini = 0.465\\nsamples = 2265\\nvalue = [1432, 833]'),\n",
       " Text(0.5904267861353454, 0.8231132075471698, 'gini = 0.432\\nsamples = 19\\nvalue = [6, 13]'),\n",
       " Text(0.6105478267704157, 0.8231132075471698, 'x[2152] <= 45.626\\ngini = 0.464\\nsamples = 2246\\nvalue = [1426, 820]'),\n",
       " Text(0.6004873064528806, 0.8183962264150944, 'x[2907] <= 78.112\\ngini = 0.462\\nsamples = 2227\\nvalue = [1420, 807]'),\n",
       " Text(0.5904267861353454, 0.8136792452830188, 'gini = 0.32\\nsamples = 10\\nvalue = [2, 8]'),\n",
       " Text(0.6105478267704157, 0.8136792452830188, 'x[611] <= 133375.086\\ngini = 0.461\\nsamples = 2217\\nvalue = [1418, 799]'),\n",
       " Text(0.6004873064528806, 0.8089622641509434, 'x[416] <= 1319.029\\ngini = 0.46\\nsamples = 2205\\nvalue = [1414, 791]'),\n",
       " Text(0.5602452251827399, 0.8042452830188679, 'x[578] <= 10019.396\\ngini = 0.455\\nsamples = 20\\nvalue = [7, 13]'),\n",
       " Text(0.5501847048652048, 0.7995283018867925, 'x[579] <= 63.869\\ngini = 0.401\\nsamples = 18\\nvalue = [5, 13]'),\n",
       " Text(0.5401241845476695, 0.7948113207547169, 'gini = 0.0\\nsamples = 1\\nvalue = [1, 0]'),\n",
       " Text(0.5602452251827399, 0.7948113207547169, 'x[416] <= 402.693\\ngini = 0.36\\nsamples = 17\\nvalue = [4, 13]'),\n",
       " Text(0.5501847048652048, 0.7900943396226415, 'gini = 0.0\\nsamples = 1\\nvalue = [1, 0]'),\n",
       " Text(0.5703057455002751, 0.7900943396226415, 'x[2948] <= 0.5\\ngini = 0.305\\nsamples = 16\\nvalue = [3, 13]'),\n",
       " Text(0.5602452251827399, 0.785377358490566, 'gini = 0.305\\nsamples = 14\\nvalue = [2, 12]'),\n",
       " Text(0.5803662658178103, 0.785377358490566, 'gini = nan\\nsamples = 2\\nvalue = [1, 1]'),\n",
       " Text(0.5703057455002751, 0.7995283018867925, 'gini = 0.0\\nsamples = 2\\nvalue = [2, 0]'),\n",
       " Text(0.6407293877230213, 0.8042452830188679, 'x[578] <= 1824.432\\ngini = 0.459\\nsamples = 2185\\nvalue = [1407, 778]'),\n",
       " Text(0.6306688674054861, 0.7995283018867925, 'x[2384] <= 217.28\\ngini = 0.461\\nsamples = 2161\\nvalue = [1384, 777]'),\n",
       " Text(0.6004873064528806, 0.7948113207547169, 'x[2802] <= inf\\ngini = 0.225\\nsamples = 31\\nvalue = [27, 4]'),\n",
       " Text(0.5904267861353454, 0.7900943396226415, 'gini = 0.198\\nsamples = 9\\nvalue = [8, 1]'),\n",
       " Text(0.6105478267704157, 0.7900943396226415, 'x[2384] <= 91.715\\ngini = 0.236\\nsamples = 22\\nvalue = [19, 3]'),\n",
       " Text(0.6004873064528806, 0.785377358490566, 'gini = 0.0\\nsamples = 1\\nvalue = [0, 1]'),\n",
       " Text(0.620608347087951, 0.785377358490566, 'x[2384] <= 209.24\\ngini = 0.172\\nsamples = 21\\nvalue = [19, 2]'),\n",
       " Text(0.6105478267704157, 0.7806603773584906, 'x[2384] <= 205.445\\ngini = 0.172\\nsamples = 20\\nvalue = [18, 2]'),\n",
       " Text(0.6004873064528806, 0.7759433962264151, 'x[2384] <= 203.345\\ngini = 0.18\\nsamples = 19\\nvalue = [17, 2]'),\n",
       " Text(0.5904267861353454, 0.7712264150943396, 'x[2948] <= 0.5\\ngini = 0.188\\nsamples = 18\\nvalue = [16, 2]'),\n",
       " Text(0.5803662658178103, 0.7665094339622641, 'x[2384] <= 196.18\\ngini = 0.198\\nsamples = 17\\nvalue = [15, 2]'),\n",
       " Text(0.5703057455002751, 0.7617924528301887, 'gini = 0.208\\nsamples = 16\\nvalue = [14, 2]'),\n",
       " Text(0.5904267861353454, 0.7617924528301887, 'gini = nan\\nsamples = 1\\nvalue = [1, 0]'),\n",
       " Text(0.6004873064528806, 0.7665094339622641, 'gini = nan\\nsamples = 1\\nvalue = [1, 0]'),\n",
       " Text(0.6105478267704157, 0.7712264150943396, 'gini = nan\\nsamples = 1\\nvalue = [1, 0]'),\n",
       " Text(0.620608347087951, 0.7759433962264151, 'gini = nan\\nsamples = 1\\nvalue = [1, 0]'),\n",
       " Text(0.6306688674054861, 0.7806603773584906, 'gini = nan\\nsamples = 1\\nvalue = [1, 0]'),\n",
       " Text(0.6608504283580916, 0.7948113207547169, 'x[2281] <= 78105.145\\ngini = 0.462\\nsamples = 2130\\nvalue = [1357, 773]'),\n",
       " Text(0.6507899080405565, 0.7900943396226415, 'x[2361] <= 149.205\\ngini = 0.462\\nsamples = 2126\\nvalue = [1357, 769]'),\n",
       " Text(0.6407293877230213, 0.785377358490566, 'gini = 0.0\\nsamples = 16\\nvalue = [16, 0]'),\n",
       " Text(0.6608504283580916, 0.785377358490566, 'x[2113] <= 16.75\\ngini = 0.463\\nsamples = 2110\\nvalue = [1341, 769]'),\n",
       " Text(0.6507899080405565, 0.7806603773584906, 'gini = 0.0\\nsamples = 4\\nvalue = [0, 4]'),\n",
       " Text(0.6709109486756268, 0.7806603773584906, 'x[2850] <= 0.725\\ngini = 0.463\\nsamples = 2106\\nvalue = [1341, 765]'),\n",
       " Text(0.6608504283580916, 0.7759433962264151, 'x[2894] <= 520.833\\ngini = 0.464\\nsamples = 2094\\nvalue = [1329, 765]'),\n",
       " Text(0.6507899080405565, 0.7712264150943396, 'x[641] <= 8193.775\\ngini = 0.463\\nsamples = 2089\\nvalue = [1329, 760]'),\n",
       " Text(0.6407293877230213, 0.7665094339622641, 'x[615] <= 152136.922\\ngini = 0.464\\nsamples = 2072\\nvalue = [1313, 759]'),\n",
       " Text(0.6306688674054861, 0.7617924528301887, 'x[2099] <= 23.111\\ngini = 0.463\\nsamples = 2051\\nvalue = [1306, 745]'),\n",
       " Text(0.5577300951033561, 0.7570754716981132, 'x[2099] <= 20.074\\ngini = 0.496\\nsamples = 33\\nvalue = [15, 18]'),\n",
       " Text(0.5476695747858209, 0.7523584905660378, 'x[2099] <= 18.963\\ngini = 0.5\\nsamples = 30\\nvalue = [15, 15]'),\n",
       " Text(0.5376090544682858, 0.7476415094339622, 'x[0] <= 27.5\\ngini = 0.494\\nsamples = 27\\nvalue = [12, 15]'),\n",
       " Text(0.5124577536744479, 0.7429245283018868, 'x[2099] <= 6.741\\ngini = 0.426\\nsamples = 13\\nvalue = [4, 9]'),\n",
       " Text(0.5023972333569127, 0.7382075471698113, 'gini = 0.0\\nsamples = 2\\nvalue = [2, 0]'),\n",
       " Text(0.522518273991983, 0.7382075471698113, 'x[5] <= 0.5\\ngini = 0.298\\nsamples = 11\\nvalue = [2, 9]'),\n",
       " Text(0.5124577536744479, 0.7334905660377359, 'x[2950] <= 0.5\\ngini = 0.298\\nsamples = 10\\nvalue = [2, 8]'),\n",
       " Text(0.5023972333569127, 0.7287735849056604, 'gini = 0.32\\nsamples = 9\\nvalue = [1, 8]'),\n",
       " Text(0.522518273991983, 0.7287735849056604, 'gini = nan\\nsamples = 1\\nvalue = [1, 0]'),\n",
       " Text(0.5325787943095182, 0.7334905660377359, 'gini = nan\\nsamples = 1\\nvalue = [0, 1]'),\n",
       " Text(0.5627603552621238, 0.7429245283018868, 'x[0] <= 28.5\\ngini = 0.49\\nsamples = 14\\nvalue = [8, 6]'),\n",
       " Text(0.5526998349445885, 0.7382075471698113, 'gini = 0.0\\nsamples = 5\\nvalue = [5, 0]'),\n",
       " Text(0.5728208755796589, 0.7382075471698113, 'x[2950] <= 0.5\\ngini = 0.444\\nsamples = 9\\nvalue = [3, 6]'),\n",
       " Text(0.5526998349445885, 0.7334905660377359, 'x[2948] <= 0.5\\ngini = 0.408\\nsamples = 6\\nvalue = [2, 4]'),\n",
       " Text(0.5426393146270534, 0.7287735849056604, 'x[0] <= 29.5\\ngini = 0.444\\nsamples = 5\\nvalue = [2, 3]'),\n",
       " Text(0.5325787943095182, 0.7240566037735849, 'x[2099] <= 4.911\\ngini = 0.48\\nsamples = 4\\nvalue = [2, 2]'),\n",
       " Text(0.522518273991983, 0.7193396226415094, 'gini = 0.0\\nsamples = 1\\nvalue = [1, 0]'),\n",
       " Text(0.5426393146270534, 0.7193396226415094, 'x[2099] <= 11.778\\ngini = 0.444\\nsamples = 3\\nvalue = [1, 2]'),\n",
       " Text(0.5325787943095182, 0.714622641509434, 'gini = 0.444\\nsamples = 2\\nvalue = [0, 2]'),\n",
       " Text(0.5526998349445885, 0.714622641509434, 'gini = nan\\nsamples = 1\\nvalue = [1, 0]'),\n",
       " Text(0.5526998349445885, 0.7240566037735849, 'gini = nan\\nsamples = 1\\nvalue = [0, 1]'),\n",
       " Text(0.5627603552621238, 0.7287735849056604, 'gini = nan\\nsamples = 1\\nvalue = [0, 1]'),\n",
       " Text(0.5929419162147292, 0.7334905660377359, 'x[2099] <= 10.37\\ngini = 0.5\\nsamples = 3\\nvalue = [1, 2]'),\n",
       " Text(0.582881395897194, 0.7287735849056604, 'gini = 0.444\\nsamples = 2\\nvalue = [1, 1]'),\n",
       " Text(0.6030024365322644, 0.7287735849056604, 'gini = nan\\nsamples = 1\\nvalue = [0, 1]'),\n",
       " Text(0.5577300951033561, 0.7476415094339622, 'gini = 0.0\\nsamples = 3\\nvalue = [3, 0]'),\n",
       " Text(0.5677906154208913, 0.7523584905660378, 'gini = 0.0\\nsamples = 3\\nvalue = [0, 3]'),\n",
       " Text(0.7036076397076161, 0.7570754716981132, 'x[2384] <= 537.39\\ngini = 0.461\\nsamples = 2018\\nvalue = [1291, 727]'),\n",
       " Text(0.693547119390081, 0.7523584905660378, 'x[581] <= 996.222\\ngini = 0.46\\nsamples = 2007\\nvalue = [1288, 719]'),\n",
       " Text(0.6834865990725458, 0.7476415094339622, 'x[2383] <= 101.855\\ngini = 0.459\\nsamples = 1994\\nvalue = [1284, 710]'),\n",
       " Text(0.6533050381199402, 0.7429245283018868, 'x[24] <= 321.0\\ngini = 0.457\\nsamples = 1981\\nvalue = [1280, 701]'),\n",
       " Text(0.6231234771673347, 0.7382075471698113, 'x[17] <= 0.655\\ngini = 0.488\\nsamples = 19\\nvalue = [8, 11]'),\n",
       " Text(0.6130629568497996, 0.7334905660377359, 'gini = 0.245\\nsamples = 7\\nvalue = [6, 1]'),\n",
       " Text(0.63318399748487, 0.7334905660377359, 'x[5] <= 0.5\\ngini = 0.278\\nsamples = 12\\nvalue = [2, 10]'),\n",
       " Text(0.6231234771673347, 0.7287735849056604, 'x[24] <= 314.5\\ngini = 0.298\\nsamples = 10\\nvalue = [1, 9]'),\n",
       " Text(0.6130629568497996, 0.7240566037735849, 'x[17] <= 0.889\\ngini = 0.18\\nsamples = 9\\nvalue = [1, 8]'),\n",
       " Text(0.6030024365322644, 0.7193396226415094, 'x[24] <= 306.0\\ngini = 0.198\\nsamples = 8\\nvalue = [1, 7]'),\n",
       " Text(0.5929419162147292, 0.714622641509434, 'x[24] <= 292.5\\ngini = 0.219\\nsamples = 7\\nvalue = [1, 6]'),\n",
       " Text(0.582881395897194, 0.7099056603773585, 'x[24] <= 281.0\\ngini = 0.245\\nsamples = 6\\nvalue = [1, 5]'),\n",
       " Text(0.5728208755796589, 0.7051886792452831, 'x[17] <= 0.798\\ngini = 0.278\\nsamples = 5\\nvalue = [0, 5]'),\n",
       " Text(0.5627603552621238, 0.7004716981132075, 'gini = 0.0\\nsamples = 4\\nvalue = [0, 4]'),\n",
       " Text(0.582881395897194, 0.7004716981132075, 'gini = nan\\nsamples = 1\\nvalue = [0, 1]'),\n",
       " Text(0.5929419162147292, 0.7051886792452831, 'gini = nan\\nsamples = 1\\nvalue = [1, 0]'),\n",
       " Text(0.6030024365322644, 0.7099056603773585, 'gini = nan\\nsamples = 1\\nvalue = [0, 1]'),\n",
       " Text(0.6130629568497996, 0.714622641509434, 'gini = nan\\nsamples = 1\\nvalue = [0, 1]'),\n",
       " Text(0.6231234771673347, 0.7193396226415094, 'gini = nan\\nsamples = 1\\nvalue = [0, 1]'),\n",
       " Text(0.63318399748487, 0.7240566037735849, 'gini = nan\\nsamples = 1\\nvalue = [0, 1]'),\n",
       " Text(0.6432445178024051, 0.7287735849056604, 'gini = 0.0\\nsamples = 2\\nvalue = [1, 1]'),\n",
       " Text(0.6834865990725458, 0.7382075471698113, 'x[730] <= 1.125\\ngini = 0.456\\nsamples = 1962\\nvalue = [1272, 690]'),\n",
       " Text(0.6734260787550106, 0.7334905660377359, 'x[591] <= 0.43\\ngini = 0.455\\nsamples = 1957\\nvalue = [1272, 685]'),\n",
       " Text(0.6633655584374755, 0.7287735849056604, 'gini = 0.111\\nsamples = 17\\nvalue = [16, 1]'),\n",
       " Text(0.6834865990725458, 0.7287735849056604, 'x[1467] <= 851.841\\ngini = 0.457\\nsamples = 1940\\nvalue = [1256, 684]'),\n",
       " Text(0.6734260787550106, 0.7240566037735849, 'gini = 0.111\\nsamples = 17\\nvalue = [16, 1]'),\n",
       " Text(0.693547119390081, 0.7240566037735849, 'x[1489] <= 75943.207\\ngini = 0.458\\nsamples = 1923\\nvalue = [1240, 683]'),\n",
       " Text(0.6482747779611727, 0.7193396226415094, 'x[603] <= 2674.642\\ngini = 0.435\\nsamples = 25\\nvalue = [8, 17]'),\n",
       " Text(0.6382142576436375, 0.714622641509434, 'x[1466] <= 7051.238\\ngini = 0.42\\nsamples = 10\\nvalue = [7, 3]'),\n",
       " Text(0.6281537373261024, 0.7099056603773585, 'gini = 0.42\\nsamples = 6\\nvalue = [6, 0]'),\n",
       " Text(0.6482747779611727, 0.7099056603773585, 'gini = nan\\nsamples = 4\\nvalue = [1, 3]'),\n",
       " Text(0.6583352982787078, 0.714622641509434, 'gini = 0.124\\nsamples = 15\\nvalue = [1, 14]'),\n",
       " Text(0.7388194608189892, 0.7193396226415094, 'x[2069] <= 0.064\\ngini = 0.456\\nsamples = 1898\\nvalue = [1232, 666]'),\n",
       " Text(0.6784563389137782, 0.714622641509434, 'x[2069] <= 0.039\\ngini = 0.454\\nsamples = 23\\nvalue = [8, 15]'),\n",
       " Text(0.668395818596243, 0.7099056603773585, 'gini = 0.5\\nsamples = 2\\nvalue = [2, 0]'),\n",
       " Text(0.6885168592313133, 0.7099056603773585, 'x[2069] <= 0.042\\ngini = 0.444\\nsamples = 21\\nvalue = [6, 15]'),\n",
       " Text(0.6784563389137782, 0.7051886792452831, 'gini = 0.0\\nsamples = 2\\nvalue = [0, 2]'),\n",
       " Text(0.6985773795488486, 0.7051886792452831, 'x[2068] <= 0.495\\ngini = 0.432\\nsamples = 19\\nvalue = [6, 13]'),\n",
       " Text(0.6885168592313133, 0.7004716981132075, 'gini = 0.0\\nsamples = 1\\nvalue = [1, 0]'),\n",
       " Text(0.7086378998663837, 0.7004716981132075, 'x[5] <= 0.5\\ngini = 0.401\\nsamples = 18\\nvalue = [5, 13]'),\n",
       " Text(0.6985773795488486, 0.6957547169811321, 'x[2950] <= 0.5\\ngini = 0.401\\nsamples = 17\\nvalue = [5, 12]'),\n",
       " Text(0.6885168592313133, 0.6910377358490566, 'gini = 0.415\\nsamples = 13\\nvalue = [4, 9]'),\n",
       " Text(0.7086378998663837, 0.6910377358490566, 'gini = nan\\nsamples = 4\\nvalue = [1, 3]'),\n",
       " Text(0.7186984201839189, 0.6957547169811321, 'gini = nan\\nsamples = 1\\nvalue = [0, 1]'),\n",
       " Text(0.7991825827242003, 0.714622641509434, 'x[14] <= 4.485\\ngini = 0.453\\nsamples = 1875\\nvalue = [1224, 651]'),\n",
       " Text(0.789122062406665, 0.7099056603773585, 'gini = 0.492\\nsamples = 32\\nvalue = [14, 18]'),\n",
       " Text(0.8092431030417354, 0.7099056603773585, 'x[2832] <= 0.123\\ngini = 0.451\\nsamples = 1843\\nvalue = [1210, 633]'),\n",
       " Text(0.7991825827242003, 0.7051886792452831, 'x[21] <= 1.2\\ngini = 0.45\\nsamples = 1837\\nvalue = [1208, 629]'),\n",
       " Text(0.7488799811365244, 0.7004716981132075, 'x[2080] <= 0.004\\ngini = 0.448\\nsamples = 1804\\nvalue = [1193, 611]'),\n",
       " Text(0.7388194608189892, 0.6957547169811321, 'gini = 0.475\\nsamples = 18\\nvalue = [7, 11]'),\n",
       " Text(0.7589405014540596, 0.6957547169811321, 'x[840] <= 14230.542\\ngini = 0.446\\nsamples = 1786\\nvalue = [1186, 600]'),\n",
       " Text(0.7488799811365244, 0.6910377358490566, 'x[940] <= 96433.816\\ngini = 0.443\\nsamples = 1750\\nvalue = [1170, 580]'),\n",
       " Text(0.7388194608189892, 0.6863207547169812, 'gini = 0.0\\nsamples = 3\\nvalue = [0, 3]'),\n",
       " Text(0.7589405014540596, 0.6863207547169812, 'x[719] <= 140.505\\ngini = 0.442\\nsamples = 1747\\nvalue = [1170, 577]'),\n",
       " Text(0.7488799811365244, 0.6816037735849056, 'gini = 0.0\\nsamples = 3\\nvalue = [0, 3]'),\n",
       " Text(0.7690010217715948, 0.6816037735849056, 'x[2172] <= 2.07\\ngini = 0.442\\nsamples = 1744\\nvalue = [1170, 574]'),\n",
       " Text(0.7589405014540596, 0.6768867924528302, 'gini = 0.0\\nsamples = 3\\nvalue = [0, 3]'),\n",
       " Text(0.7790615420891299, 0.6768867924528302, 'x[2875] <= 13.129\\ngini = 0.441\\nsamples = 1741\\nvalue = [1170, 571]'),\n",
       " Text(0.7690010217715948, 0.6721698113207547, 'gini = 0.444\\nsamples = 3\\nvalue = [1, 2]'),\n",
       " Text(0.789122062406665, 0.6721698113207547, 'x[2892] <= 200.0\\ngini = 0.44\\nsamples = 1738\\nvalue = [1169, 569]'),\n",
       " Text(0.7790615420891299, 0.6674528301886793, 'x[380] <= 30177.694\\ngini = 0.442\\nsamples = 1723\\nvalue = [1154, 569]'),\n",
       " Text(0.7690010217715948, 0.6627358490566038, 'gini = 0.0\\nsamples = 3\\nvalue = [0, 3]'),\n",
       " Text(0.789122062406665, 0.6627358490566038, 'x[2097] <= 13.98\\ngini = 0.442\\nsamples = 1720\\nvalue = [1154, 566]'),\n",
       " Text(0.7790615420891299, 0.6580188679245284, 'gini = 0.0\\nsamples = 3\\nvalue = [0, 3]'),\n",
       " Text(0.7991825827242003, 0.6580188679245284, 'x[2031] <= 45053.264\\ngini = 0.441\\nsamples = 1717\\nvalue = [1154, 563]'),\n",
       " Text(0.789122062406665, 0.6533018867924528, 'x[1481] <= 3254.945\\ngini = 0.44\\nsamples = 1714\\nvalue = [1154, 560]'),\n",
       " Text(0.7790615420891299, 0.6485849056603774, 'x[842] <= 2380.275\\ngini = 0.443\\nsamples = 1688\\nvalue = [1130, 558]'),\n",
       " Text(0.7589405014540596, 0.6438679245283019, 'x[623] <= 5.12\\ngini = 0.441\\nsamples = 1679\\nvalue = [1129, 550]'),\n",
       " Text(0.7488799811365244, 0.6391509433962265, 'x[652] <= 1.115\\ngini = 0.44\\nsamples = 1676\\nvalue = [1129, 547]'),\n",
       " Text(0.7388194608189892, 0.6344339622641509, 'x[2057] <= 138067.234\\ngini = 0.442\\nsamples = 1661\\nvalue = [1114, 547]'),\n",
       " Text(0.6767271869842019, 0.6297169811320755, 'x[2116] <= 17.5\\ngini = 0.439\\nsamples = 1604\\nvalue = [1083, 521]'),\n",
       " Text(0.6666666666666666, 0.625, 'gini = 0.5\\nsamples = 28\\nvalue = [14, 14]'),\n",
       " Text(0.686787707301737, 0.625, 'x[276] <= 233.113\\ngini = 0.436\\nsamples = 1576\\nvalue = [1069, 507]'),\n",
       " Text(0.6487463648510572, 0.6202830188679245, 'x[276] <= 217.566\\ngini = 0.5\\nsamples = 24\\nvalue = [12, 12]'),\n",
       " Text(0.6185648038984516, 0.6155660377358491, 'x[276] <= 187.788\\ngini = 0.488\\nsamples = 19\\nvalue = [11, 8]'),\n",
       " Text(0.6085042835809165, 0.6108490566037735, 'x[2074] <= 1013.905\\ngini = 0.486\\nsamples = 12\\nvalue = [5, 7]'),\n",
       " Text(0.5984437632633812, 0.6061320754716981, 'gini = 0.0\\nsamples = 2\\nvalue = [2, 0]'),\n",
       " Text(0.6185648038984516, 0.6061320754716981, 'x[2074] <= 845.13\\ngini = 0.42\\nsamples = 10\\nvalue = [3, 7]'),\n",
       " Text(0.6085042835809165, 0.6014150943396226, 'gini = 0.0\\nsamples = 1\\nvalue = [0, 1]'),\n",
       " Text(0.6286253242159868, 0.6014150943396226, 'x[2074] <= 845.13\\ngini = 0.444\\nsamples = 9\\nvalue = [3, 6]'),\n",
       " Text(0.6185648038984516, 0.5966981132075472, 'gini = 0.0\\nsamples = 1\\nvalue = [1, 0]'),\n",
       " Text(0.638685844533522, 0.5966981132075472, 'x[2948] <= 0.5\\ngini = 0.375\\nsamples = 8\\nvalue = [2, 6]'),\n",
       " Text(0.6286253242159868, 0.5919811320754716, 'gini = 0.375\\nsamples = 7\\nvalue = [2, 5]'),\n",
       " Text(0.6487463648510572, 0.5919811320754716, 'gini = nan\\nsamples = 1\\nvalue = [0, 1]'),\n",
       " Text(0.6286253242159868, 0.6108490566037735, 'gini = 0.245\\nsamples = 7\\nvalue = [6, 1]'),\n",
       " Text(0.6789279258036627, 0.6155660377358491, 'x[2101] <= 28.104\\ngini = 0.32\\nsamples = 5\\nvalue = [1, 4]'),\n",
       " Text(0.6688674054861274, 0.6108490566037735, 'x[276] <= 226.344\\ngini = 0.32\\nsamples = 4\\nvalue = [1, 3]'),\n",
       " Text(0.6588068851685923, 0.6061320754716981, 'x[276] <= 222.176\\ngini = 0.375\\nsamples = 3\\nvalue = [1, 2]'),\n",
       " Text(0.6487463648510572, 0.6014150943396226, 'gini = 0.444\\nsamples = 2\\nvalue = [0, 2]'),\n",
       " Text(0.6688674054861274, 0.6014150943396226, 'gini = nan\\nsamples = 1\\nvalue = [1, 0]'),\n",
       " Text(0.6789279258036627, 0.6061320754716981, 'gini = nan\\nsamples = 1\\nvalue = [0, 1]'),\n",
       " Text(0.6889884461211978, 0.6108490566037735, 'gini = nan\\nsamples = 1\\nvalue = [0, 1]'),\n",
       " Text(0.7248290497524169, 0.6202830188679245, 'x[2074] <= 875.835\\ngini = 0.434\\nsamples = 1552\\nvalue = [1057, 495]'),\n",
       " Text(0.7147685294348817, 0.6155660377358491, 'gini = 0.375\\nsamples = 8\\nvalue = [2, 6]'),\n",
       " Text(0.734889570069952, 0.6155660377358491, 'x[2082] <= 209.89\\ngini = 0.433\\nsamples = 1544\\nvalue = [1055, 489]'),\n",
       " Text(0.7248290497524169, 0.6108490566037735, 'x[2105] <= 7.06\\ngini = 0.432\\nsamples = 1539\\nvalue = [1054, 485]'),\n",
       " Text(0.7147685294348817, 0.6061320754716981, 'gini = 0.0\\nsamples = 12\\nvalue = [12, 0]'),\n",
       " Text(0.734889570069952, 0.6061320754716981, 'x[386] <= 99.232\\ngini = 0.433\\nsamples = 1527\\nvalue = [1042, 485]'),\n",
       " Text(0.7248290497524169, 0.6014150943396226, 'gini = 0.32\\nsamples = 5\\nvalue = [1, 4]'),\n",
       " Text(0.7449500903874873, 0.6014150943396226, 'x[635] <= 0.595\\ngini = 0.432\\nsamples = 1522\\nvalue = [1041, 481]'),\n",
       " Text(0.734889570069952, 0.5966981132075472, 'x[2914] <= 0.088\\ngini = 0.43\\nsamples = 1509\\nvalue = [1036, 473]'),\n",
       " Text(0.6688674054861274, 0.5919811320754716, 'x[2802] <= 0.785\\ngini = 0.428\\nsamples = 1487\\nvalue = [1026, 461]'),\n",
       " Text(0.5871256779061542, 0.5872641509433962, 'x[2882] <= 0.629\\ngini = 0.425\\nsamples = 1465\\nvalue = [1017, 448]'),\n",
       " Text(0.577065157588619, 0.5825471698113207, 'x[339] <= 0.595\\ngini = 0.424\\nsamples = 1460\\nvalue = [1015, 445]'),\n",
       " Text(0.529277686080327, 0.5778301886792453, 'x[335] <= 1.215\\ngini = 0.5\\nsamples = 20\\nvalue = [10, 10]'),\n",
       " Text(0.5192171657627918, 0.5731132075471698, 'gini = 0.0\\nsamples = 6\\nvalue = [6, 0]'),\n",
       " Text(0.5393382063978621, 0.5731132075471698, 'x[337] <= 0.15\\ngini = 0.408\\nsamples = 14\\nvalue = [4, 10]'),\n",
       " Text(0.529277686080327, 0.5683962264150944, 'gini = 0.0\\nsamples = 2\\nvalue = [2, 0]'),\n",
       " Text(0.5493987267153974, 0.5683962264150944, 'x[334] <= 2.025\\ngini = 0.278\\nsamples = 12\\nvalue = [2, 10]'),\n",
       " Text(0.5393382063978621, 0.5636792452830188, 'x[338] <= 1.2\\ngini = 0.18\\nsamples = 9\\nvalue = [0, 9]'),\n",
       " Text(0.529277686080327, 0.5589622641509434, 'gini = 0.0\\nsamples = 8\\nvalue = [0, 8]'),\n",
       " Text(0.5493987267153974, 0.5589622641509434, 'gini = nan\\nsamples = 1\\nvalue = [0, 1]'),\n",
       " Text(0.5594592470329325, 0.5636792452830188, 'gini = 0.5\\nsamples = 3\\nvalue = [2, 1]'),\n",
       " Text(0.6248526290969111, 0.5778301886792453, 'x[2380] <= 0.706\\ngini = 0.422\\nsamples = 1440\\nvalue = [1005, 435]'),\n",
       " Text(0.5795802876680028, 0.5731132075471698, 'x[2849] <= 0.753\\ngini = 0.419\\nsamples = 1415\\nvalue = [993, 422]'),\n",
       " Text(0.5695197673504676, 0.5683962264150944, 'gini = 0.494\\nsamples = 9\\nvalue = [4, 5]'),\n",
       " Text(0.589640807985538, 0.5683962264150944, 'x[2166] <= 165.797\\ngini = 0.417\\nsamples = 1406\\nvalue = [989, 417]'),\n",
       " Text(0.5795802876680028, 0.5636792452830188, 'gini = 0.245\\nsamples = 7\\nvalue = [1, 6]'),\n",
       " Text(0.5997013283030732, 0.5636792452830188, 'x[2141] <= 13.04\\ngini = 0.415\\nsamples = 1399\\nvalue = [988, 411]'),\n",
       " Text(0.589640807985538, 0.5589622641509434, 'x[2137] <= 80.9\\ngini = 0.417\\nsamples = 1385\\nvalue = [974, 411]'),\n",
       " Text(0.5795802876680028, 0.5542452830188679, 'x[2248] <= 0.411\\ngini = 0.416\\nsamples = 1381\\nvalue = [974, 407]'),\n",
       " Text(0.5695197673504676, 0.5495283018867925, 'gini = 0.499\\nsamples = 21\\nvalue = [10, 11]'),\n",
       " Text(0.589640807985538, 0.5495283018867925, 'x[2028] <= 9.173\\ngini = 0.413\\nsamples = 1360\\nvalue = [964, 396]'),\n",
       " Text(0.5152086771987738, 0.5448113207547169, 'x[2028] <= 8.011\\ngini = 0.5\\nsamples = 24\\nvalue = [12, 12]'),\n",
       " Text(0.5051481568812387, 0.5400943396226415, 'x[2029] <= 19.672\\ngini = 0.375\\nsamples = 16\\nvalue = [12, 4]'),\n",
       " Text(0.4950876365637035, 0.535377358490566, 'x[2948] <= 0.5\\ngini = 0.375\\nsamples = 4\\nvalue = [1, 3]'),\n",
       " Text(0.48502711624616834, 0.5306603773584906, 'x[2027] <= 40.77\\ngini = 0.375\\nsamples = 3\\nvalue = [0, 3]'),\n",
       " Text(0.47496659592863316, 0.5259433962264151, 'gini = 0.0\\nsamples = 2\\nvalue = [0, 2]'),\n",
       " Text(0.4950876365637035, 0.5259433962264151, 'gini = nan\\nsamples = 1\\nvalue = [0, 1]'),\n",
       " Text(0.5051481568812387, 0.5306603773584906, 'gini = nan\\nsamples = 1\\nvalue = [1, 0]'),\n",
       " Text(0.5152086771987738, 0.535377358490566, 'gini = 0.153\\nsamples = 12\\nvalue = [11, 1]'),\n",
       " Text(0.5252691975163091, 0.5400943396226415, 'gini = 0.0\\nsamples = 8\\nvalue = [0, 8]'),\n",
       " Text(0.6640729387723021, 0.5448113207547169, 'x[2080] <= 0.004\\ngini = 0.41\\nsamples = 1336\\nvalue = [952, 384]'),\n",
       " Text(0.654012418454767, 0.5400943396226415, 'x[2071] <= 21.8\\ngini = 0.412\\nsamples = 1323\\nvalue = [939, 384]'),\n",
       " Text(0.6439518981372317, 0.535377358490566, 'x[16] <= 0.312\\ngini = 0.41\\nsamples = 1311\\nvalue = [933, 378]'),\n",
       " Text(0.5252691975163091, 0.5306603773584906, 'x[2950] <= 0.5\\ngini = 0.481\\nsamples = 57\\nvalue = [34, 23]'),\n",
       " Text(0.5152086771987738, 0.5259433962264151, 'x[18] <= 0.014\\ngini = 0.497\\nsamples = 40\\nvalue = [21, 19]'),\n",
       " Text(0.4950876365637035, 0.5212264150943396, 'x[18] <= 0.01\\ngini = 0.391\\nsamples = 15\\nvalue = [11, 4]'),\n",
       " Text(0.48502711624616834, 0.5165094339622641, 'x[2] <= 0.5\\ngini = 0.444\\nsamples = 3\\nvalue = [1, 2]'),\n",
       " Text(0.47496659592863316, 0.5117924528301887, 'gini = 0.444\\nsamples = 2\\nvalue = [1, 1]'),\n",
       " Text(0.4950876365637035, 0.5117924528301887, 'gini = nan\\nsamples = 1\\nvalue = [0, 1]'),\n",
       " Text(0.5051481568812387, 0.5165094339622641, 'gini = 0.278\\nsamples = 12\\nvalue = [10, 2]'),\n",
       " Text(0.5353297178338442, 0.5212264150943396, 'x[16] <= 0.15\\ngini = 0.48\\nsamples = 25\\nvalue = [10, 15]'),\n",
       " Text(0.5252691975163091, 0.5165094339622641, 'gini = 0.0\\nsamples = 3\\nvalue = [0, 3]'),\n",
       " Text(0.5453902381513794, 0.5165094339622641, 'x[0] <= 27.5\\ngini = 0.496\\nsamples = 22\\nvalue = [10, 12]'),\n",
       " Text(0.5353297178338442, 0.5117924528301887, 'x[16] <= 0.197\\ngini = 0.42\\nsamples = 10\\nvalue = [3, 7]'),\n",
       " Text(0.5252691975163091, 0.5070754716981132, 'gini = 0.444\\nsamples = 3\\nvalue = [2, 1]'),\n",
       " Text(0.5453902381513794, 0.5070754716981132, 'x[2] <= 0.5\\ngini = 0.245\\nsamples = 7\\nvalue = [1, 6]'),\n",
       " Text(0.5353297178338442, 0.5023584905660378, 'x[16] <= 0.27\\ngini = 0.245\\nsamples = 6\\nvalue = [0, 6]'),\n",
       " Text(0.5252691975163091, 0.49764150943396224, 'gini = 0.0\\nsamples = 5\\nvalue = [0, 5]'),\n",
       " Text(0.5453902381513794, 0.49764150943396224, 'gini = nan\\nsamples = 1\\nvalue = [0, 1]'),\n",
       " Text(0.5554507584689146, 0.5023584905660378, 'gini = nan\\nsamples = 1\\nvalue = [1, 0]'),\n",
       " Text(0.5554507584689146, 0.5117924528301887, 'gini = 0.486\\nsamples = 12\\nvalue = [7, 5]'),\n",
       " Text(0.5353297178338442, 0.5259433962264151, 'gini = 0.375\\nsamples = 17\\nvalue = [13, 4]'),\n",
       " Text(0.7626345987581545, 0.5306603773584906, 'x[2380] <= 0.472\\ngini = 0.406\\nsamples = 1254\\nvalue = [899, 355]'),\n",
       " Text(0.7525740784406193, 0.5259433962264151, 'gini = 0.485\\nsamples = 58\\nvalue = [34, 24]'),\n",
       " Text(0.7726951190756897, 0.5259433962264151, 'x[2381] <= 0.229\\ngini = 0.4\\nsamples = 1196\\nvalue = [865, 331]'),\n",
       " Text(0.7626345987581545, 0.5212264150943396, 'gini = 0.0\\nsamples = 3\\nvalue = [0, 3]'),\n",
       " Text(0.7827556393932249, 0.5212264150943396, 'x[2379] <= 0.229\\ngini = 0.399\\nsamples = 1193\\nvalue = [865, 328]'),\n",
       " Text(0.58563231942152, 0.5165094339622641, 'x[2282] <= 18820.734\\ngini = 0.404\\nsamples = 1153\\nvalue = [829, 324]'),\n",
       " Text(0.5755717991039849, 0.5117924528301887, 'gini = 0.0\\nsamples = 2\\nvalue = [0, 2]'),\n",
       " Text(0.5956928397390553, 0.5117924528301887, 'x[2872] <= 5.772\\ngini = 0.403\\nsamples = 1151\\nvalue = [829, 322]'),\n",
       " Text(0.58563231942152, 0.5070754716981132, 'gini = 0.0\\nsamples = 2\\nvalue = [0, 2]'),\n",
       " Text(0.6057533600565904, 0.5070754716981132, 'x[1480] <= 4407.491\\ngini = 0.402\\nsamples = 1149\\nvalue = [829, 320]'),\n",
       " Text(0.5956928397390553, 0.5023584905660378, 'gini = 0.0\\nsamples = 2\\nvalue = [0, 2]'),\n",
       " Text(0.6158138803741255, 0.5023584905660378, 'x[2212] <= 0.134\\ngini = 0.401\\nsamples = 1147\\nvalue = [829, 318]'),\n",
       " Text(0.6057533600565904, 0.49764150943396224, 'gini = 0.48\\nsamples = 10\\nvalue = [4, 6]'),\n",
       " Text(0.6258744006916608, 0.49764150943396224, 'x[2379] <= 0.214\\ngini = 0.398\\nsamples = 1137\\nvalue = [825, 312]'),\n",
       " Text(0.6158138803741255, 0.49292452830188677, 'x[2874] <= 15.979\\ngini = 0.397\\nsamples = 1135\\nvalue = [825, 310]'),\n",
       " Text(0.6057533600565904, 0.4882075471698113, 'gini = 0.0\\nsamples = 2\\nvalue = [0, 2]'),\n",
       " Text(0.6258744006916608, 0.4882075471698113, 'x[1502] <= 13032.24\\ngini = 0.396\\nsamples = 1133\\nvalue = [825, 308]'),\n",
       " Text(0.6158138803741255, 0.4834905660377358, 'x[2905] <= 215.643\\ngini = 0.395\\nsamples = 1131\\nvalue = [825, 306]'),\n",
       " Text(0.6057533600565904, 0.47877358490566035, 'gini = 0.0\\nsamples = 2\\nvalue = [0, 2]'),\n",
       " Text(0.6258744006916608, 0.47877358490566035, 'x[2382] <= 15.005\\ngini = 0.394\\nsamples = 1129\\nvalue = [825, 304]'),\n",
       " Text(0.6158138803741255, 0.4740566037735849, 'gini = 0.0\\nsamples = 2\\nvalue = [0, 2]'),\n",
       " Text(0.6359349210091959, 0.4740566037735849, 'x[2899] <= 1.55\\ngini = 0.392\\nsamples = 1127\\nvalue = [825, 302]'),\n",
       " Text(0.6258744006916608, 0.4693396226415094, 'gini = 0.0\\nsamples = 2\\nvalue = [0, 2]'),\n",
       " Text(0.6459954413267311, 0.4693396226415094, 'x[2099] <= 76.296\\ngini = 0.391\\nsamples = 1125\\nvalue = [825, 300]'),\n",
       " Text(0.6359349210091959, 0.46462264150943394, 'x[841] <= 161.371\\ngini = 0.39\\nsamples = 1123\\nvalue = [825, 298]'),\n",
       " Text(0.6258744006916608, 0.45990566037735847, 'gini = 0.0\\nsamples = 2\\nvalue = [0, 2]'),\n",
       " Text(0.6459954413267311, 0.45990566037735847, 'x[336] <= 0.675\\ngini = 0.389\\nsamples = 1121\\nvalue = [825, 296]'),\n",
       " Text(0.6359349210091959, 0.455188679245283, 'gini = 0.0\\nsamples = 2\\nvalue = [0, 2]'),\n",
       " Text(0.6560559616442663, 0.455188679245283, 'x[337] <= 0.835\\ngini = 0.387\\nsamples = 1119\\nvalue = [825, 294]'),\n",
       " Text(0.6459954413267311, 0.45047169811320753, 'gini = 0.083\\nsamples = 23\\nvalue = [22, 1]'),\n",
       " Text(0.6661164819618015, 0.45047169811320753, 'x[339] <= 1.215\\ngini = 0.392\\nsamples = 1096\\nvalue = [803, 293]'),\n",
       " Text(0.6560559616442663, 0.44575471698113206, 'gini = 0.5\\nsamples = 2\\nvalue = [1, 1]'),\n",
       " Text(0.6761770022793366, 0.44575471698113206, 'x[2234] <= 1.254\\ngini = 0.391\\nsamples = 1094\\nvalue = [802, 292]'),\n",
       " Text(0.5938064921795174, 0.4410377358490566, 'x[2906] <= 27.038\\ngini = 0.387\\nsamples = 1071\\nvalue = [790, 281]'),\n",
       " Text(0.5837459718619822, 0.4363207547169811, 'x[343] <= 562.04\\ngini = 0.384\\nsamples = 1058\\nvalue = [784, 274]'),\n",
       " Text(0.5736854515444471, 0.43160377358490565, 'gini = 0.497\\nsamples = 13\\nvalue = [6, 7]'),\n",
       " Text(0.5938064921795174, 0.43160377358490565, 'x[840] <= 3195.652\\ngini = 0.38\\nsamples = 1045\\nvalue = [778, 267]'),\n",
       " Text(0.5837459718619822, 0.4268867924528302, 'gini = 0.444\\nsamples = 6\\nvalue = [2, 4]'),\n",
       " Text(0.6038670124970525, 0.4268867924528302, 'x[2880] <= 0.724\\ngini = 0.378\\nsamples = 1039\\nvalue = [776, 263]'),\n",
       " Text(0.5938064921795174, 0.4221698113207547, 'gini = 0.444\\nsamples = 6\\nvalue = [2, 4]'),\n",
       " Text(0.6139275328145878, 0.4221698113207547, 'x[2851] <= 0.275\\ngini = 0.376\\nsamples = 1033\\nvalue = [774, 259]'),\n",
       " Text(0.6038670124970525, 0.41745283018867924, 'gini = 0.0\\nsamples = 4\\nvalue = [0, 4]'),\n",
       " Text(0.6239880531321229, 0.41745283018867924, 'x[580] <= 114.664\\ngini = 0.373\\nsamples = 1029\\nvalue = [774, 255]'),\n",
       " Text(0.6139275328145878, 0.41273584905660377, 'gini = 0.5\\nsamples = 4\\nvalue = [2, 2]'),\n",
       " Text(0.6340485734496581, 0.41273584905660377, 'x[2873] <= 16.22\\ngini = 0.372\\nsamples = 1025\\nvalue = [772, 253]'),\n",
       " Text(0.6239880531321229, 0.4080188679245283, 'gini = 0.375\\nsamples = 4\\nvalue = [1, 3]'),\n",
       " Text(0.6441090937671933, 0.4080188679245283, 'x[2835] <= 0.202\\ngini = 0.37\\nsamples = 1021\\nvalue = [771, 250]'),\n",
       " Text(0.5900337970604417, 0.4033018867924528, 'x[389] <= 177.173\\ngini = 0.366\\nsamples = 1010\\nvalue = [766, 244]'),\n",
       " Text(0.5799732767429066, 0.39858490566037735, 'x[2074] <= 1682.525\\ngini = 0.361\\nsamples = 979\\nvalue = [748, 231]'),\n",
       " Text(0.5699127564253714, 0.3938679245283019, 'gini = 0.478\\nsamples = 38\\nvalue = [23, 15]'),\n",
       " Text(0.5900337970604417, 0.3938679245283019, 'x[2838] <= 0.305\\ngini = 0.354\\nsamples = 941\\nvalue = [725, 216]'),\n",
       " Text(0.5321858052346145, 0.3891509433962264, 'x[2815] <= 13.15\\ngini = 0.349\\nsamples = 929\\nvalue = [720, 209]'),\n",
       " Text(0.46679242317063585, 0.38443396226415094, 'x[17] <= 1.405\\ngini = 0.343\\nsamples = 902\\nvalue = [704, 198]'),\n",
       " Text(0.43661086221803036, 0.37971698113207547, 'x[24] <= 488.0\\ngini = 0.467\\nsamples = 35\\nvalue = [22, 13]'),\n",
       " Text(0.4265503419004952, 0.375, 'gini = 0.437\\nsamples = 31\\nvalue = [21, 10]'),\n",
       " Text(0.4466713825355655, 0.375, 'x[0] <= 28.5\\ngini = 0.375\\nsamples = 4\\nvalue = [1, 3]'),\n",
       " Text(0.43661086221803036, 0.37028301886792453, 'x[17] <= 1.33\\ngini = 0.375\\nsamples = 3\\nvalue = [1, 2]'),\n",
       " Text(0.4265503419004952, 0.36556603773584906, 'gini = 0.444\\nsamples = 2\\nvalue = [0, 2]'),\n",
       " Text(0.4466713825355655, 0.36556603773584906, 'gini = nan\\nsamples = 1\\nvalue = [1, 0]'),\n",
       " Text(0.45673190285310067, 0.37028301886792453, 'gini = nan\\nsamples = 1\\nvalue = [0, 1]'),\n",
       " Text(0.4969739841232414, 0.37971698113207547, 'x[2916] <= 0.34\\ngini = 0.336\\nsamples = 867\\nvalue = [682, 185]'),\n",
       " Text(0.4869134638057062, 0.375, 'x[839] <= 11935.318\\ngini = 0.333\\nsamples = 857\\nvalue = [676, 181]'),\n",
       " Text(0.47685294348817103, 0.37028301886792453, 'x[2101] <= 33.353\\ngini = 0.331\\nsamples = 852\\nvalue = [674, 178]'),\n",
       " Text(0.46679242317063585, 0.36556603773584906, 'gini = 0.464\\nsamples = 30\\nvalue = [19, 11]'),\n",
       " Text(0.4869134638057062, 0.36556603773584906, 'x[612] <= 17023.287\\ngini = 0.324\\nsamples = 822\\nvalue = [655, 167]'),\n",
       " Text(0.47685294348817103, 0.3608490566037736, 'x[2248] <= 2.625\\ngini = 0.319\\nsamples = 817\\nvalue = [654, 163]'),\n",
       " Text(0.46679242317063585, 0.3561320754716981, 'gini = 0.435\\nsamples = 50\\nvalue = [34, 16]'),\n",
       " Text(0.4869134638057062, 0.3561320754716981, 'x[404] <= 621.447\\ngini = 0.31\\nsamples = 767\\nvalue = [620, 147]'),\n",
       " Text(0.47685294348817103, 0.35141509433962265, 'gini = 0.444\\nsamples = 3\\nvalue = [1, 2]'),\n",
       " Text(0.4969739841232414, 0.35141509433962265, 'x[2134] <= 476.25\\ngini = 0.308\\nsamples = 764\\nvalue = [619, 145]'),\n",
       " Text(0.4869134638057062, 0.3466981132075472, 'gini = 0.444\\nsamples = 3\\nvalue = [2, 1]'),\n",
       " Text(0.5070345044407766, 0.3466981132075472, 'x[608] <= 19724.569\\ngini = 0.307\\nsamples = 761\\nvalue = [617, 144]'),\n",
       " Text(0.4969739841232414, 0.3419811320754717, 'gini = 0.444\\nsamples = 3\\nvalue = [1, 2]'),\n",
       " Text(0.5170950247583117, 0.3419811320754717, 'x[14] <= 5.21\\ngini = 0.304\\nsamples = 758\\nvalue = [616, 142]'),\n",
       " Text(0.4617621630118683, 0.33726415094339623, 'x[21] <= 0.393\\ngini = 0.297\\nsamples = 743\\nvalue = [608, 135]'),\n",
       " Text(0.4517016426943331, 0.33254716981132076, 'gini = 0.444\\nsamples = 3\\nvalue = [1, 2]'),\n",
       " Text(0.47182268332940347, 0.33254716981132076, 'x[2384] <= 227.5\\ngini = 0.295\\nsamples = 740\\nvalue = [607, 133]'),\n",
       " Text(0.4617621630118683, 0.3278301886792453, 'gini = 0.444\\nsamples = 3\\nvalue = [1, 2]'),\n",
       " Text(0.4818832036469386, 0.3278301886792453, 'x[45] <= 2.82\\ngini = 0.292\\nsamples = 737\\nvalue = [606, 131]'),\n",
       " Text(0.47182268332940347, 0.3231132075471698, 'gini = 0.444\\nsamples = 3\\nvalue = [1, 2]'),\n",
       " Text(0.4919437239644738, 0.3231132075471698, 'x[2910] <= 136.23\\ngini = 0.29\\nsamples = 734\\nvalue = [605, 129]'),\n",
       " Text(0.47182268332940347, 0.31839622641509435, 'x[2834] <= 4.173\\ngini = 0.287\\nsamples = 731\\nvalue = [604, 127]'),\n",
       " Text(0.4617621630118683, 0.3136792452830189, 'x[2810] <= 27.158\\ngini = 0.286\\nsamples = 728\\nvalue = [602, 126]'),\n",
       " Text(0.4517016426943331, 0.3089622641509434, 'x[343] <= 1141.402\\ngini = 0.284\\nsamples = 725\\nvalue = [601, 124]'),\n",
       " Text(0.4416411223767979, 0.30424528301886794, 'gini = 0.437\\nsamples = 31\\nvalue = [21, 10]'),\n",
       " Text(0.4617621630118683, 0.30424528301886794, 'x[2842] <= 2.405\\ngini = 0.275\\nsamples = 694\\nvalue = [580, 114]'),\n",
       " Text(0.42906547197987893, 0.29952830188679247, 'x[2842] <= 0.758\\ngini = 0.5\\nsamples = 12\\nvalue = [6, 6]'),\n",
       " Text(0.4190049516623438, 0.294811320754717, 'x[2842] <= 0.18\\ngini = 0.48\\nsamples = 10\\nvalue = [6, 4]'),\n",
       " Text(0.4089444313448086, 0.29009433962264153, 'x[2842] <= 0.016\\ngini = 0.494\\nsamples = 8\\nvalue = [5, 3]'),\n",
       " Text(0.39888391102727344, 0.28537735849056606, 'x[0] <= 28.5\\ngini = 0.49\\nsamples = 6\\nvalue = [4, 2]'),\n",
       " Text(0.38882339070973826, 0.2806603773584906, 'x[2951] <= 0.5\\ngini = 0.48\\nsamples = 4\\nvalue = [3, 1]'),\n",
       " Text(0.3787628703922031, 0.2759433962264151, 'gini = 0.375\\nsamples = 3\\nvalue = [2, 1]'),\n",
       " Text(0.39888391102727344, 0.2759433962264151, 'gini = nan\\nsamples = 1\\nvalue = [1, 0]'),\n",
       " Text(0.4089444313448086, 0.2806603773584906, 'gini = 0.0\\nsamples = 2\\nvalue = [1, 1]'),\n",
       " Text(0.4190049516623438, 0.28537735849056606, 'gini = 0.0\\nsamples = 2\\nvalue = [1, 1]'),\n",
       " Text(0.42906547197987893, 0.29009433962264153, 'gini = 0.0\\nsamples = 2\\nvalue = [1, 1]'),\n",
       " Text(0.4391259922974141, 0.294811320754717, 'gini = 0.0\\nsamples = 2\\nvalue = [0, 2]'),\n",
       " Text(0.4944588540438576, 0.29952830188679247, 'x[2057] <= 128752.047\\ngini = 0.267\\nsamples = 682\\nvalue = [574, 108]'),\n",
       " Text(0.46930755325001966, 0.294811320754717, 'x[2380] <= 0.581\\ngini = 0.263\\nsamples = 679\\nvalue = [573, 106]'),\n",
       " Text(0.4491865126149493, 0.29009433962264153, 'x[490] <= 14951.246\\ngini = 0.26\\nsamples = 676\\nvalue = [572, 104]'),\n",
       " Text(0.4391259922974141, 0.28537735849056606, 'x[2258] <= 5.0\\ngini = 0.259\\nsamples = 675\\nvalue = [572, 103]'),\n",
       " Text(0.42906547197987893, 0.2806603773584906, 'gini = 0.0\\nsamples = 1\\nvalue = [1, 0]'),\n",
       " Text(0.4491865126149493, 0.2806603773584906, 'x[882] <= 347545.531\\ngini = 0.259\\nsamples = 674\\nvalue = [571, 103]'),\n",
       " Text(0.4391259922974141, 0.2759433962264151, 'gini = 0.0\\nsamples = 1\\nvalue = [0, 1]'),\n",
       " Text(0.4592470329324845, 0.2759433962264151, 'x[659] <= 152.374\\ngini = 0.257\\nsamples = 673\\nvalue = [571, 102]'),\n",
       " Text(0.4491865126149493, 0.27122641509433965, 'gini = 0.0\\nsamples = 1\\nvalue = [0, 1]'),\n",
       " Text(0.46930755325001966, 0.27122641509433965, 'x[2099] <= 34.963\\ngini = 0.255\\nsamples = 672\\nvalue = [571, 101]'),\n",
       " Text(0.4592470329324845, 0.2665094339622642, 'x[2072] <= 0.42\\ngini = 0.249\\nsamples = 659\\nvalue = [563, 96]'),\n",
       " Text(0.4491865126149493, 0.2617924528301887, 'gini = 0.457\\nsamples = 17\\nvalue = [11, 6]'),\n",
       " Text(0.46930755325001966, 0.2617924528301887, 'x[2338] <= 379.185\\ngini = 0.241\\nsamples = 642\\nvalue = [552, 90]'),\n",
       " Text(0.4592470329324845, 0.25707547169811323, 'gini = 0.0\\nsamples = 1\\nvalue = [0, 1]'),\n",
       " Text(0.47936807356755484, 0.25707547169811323, 'x[39] <= 7.635\\ngini = 0.239\\nsamples = 641\\nvalue = [552, 89]'),\n",
       " Text(0.46930755325001966, 0.25235849056603776, 'x[2867] <= 0.147\\ngini = 0.237\\nsamples = 640\\nvalue = [552, 88]'),\n",
       " Text(0.4592470329324845, 0.24764150943396226, 'gini = 0.0\\nsamples = 1\\nvalue = [0, 1]'),\n",
       " Text(0.47936807356755484, 0.24764150943396226, 'x[2141] <= 12.783\\ngini = 0.235\\nsamples = 639\\nvalue = [552, 87]'),\n",
       " Text(0.46930755325001966, 0.2429245283018868, 'x[2094] <= 9.75\\ngini = 0.233\\nsamples = 638\\nvalue = [552, 86]'),\n",
       " Text(0.4592470329324845, 0.23820754716981132, 'gini = 0.0\\nsamples = 1\\nvalue = [1, 0]'),\n",
       " Text(0.47936807356755484, 0.23820754716981132, 'x[276] <= 194.612\\ngini = 0.234\\nsamples = 637\\nvalue = [551, 86]'),\n",
       " Text(0.46930755325001966, 0.23349056603773585, 'gini = 0.0\\nsamples = 1\\nvalue = [1, 0]'),\n",
       " Text(0.48942859388508997, 0.23349056603773585, 'x[341] <= 8.915\\ngini = 0.234\\nsamples = 636\\nvalue = [550, 86]'),\n",
       " Text(0.47936807356755484, 0.22877358490566038, 'gini = 0.0\\nsamples = 1\\nvalue = [0, 1]'),\n",
       " Text(0.49948911420262515, 0.22877358490566038, 'x[43] <= 12.53\\ngini = 0.232\\nsamples = 635\\nvalue = [550, 85]'),\n",
       " Text(0.48942859388508997, 0.2240566037735849, 'gini = 0.0\\nsamples = 1\\nvalue = [0, 1]'),\n",
       " Text(0.5095496345201603, 0.2240566037735849, 'x[637] <= 29.454\\ngini = 0.23\\nsamples = 634\\nvalue = [550, 84]'),\n",
       " Text(0.49948911420262515, 0.21933962264150944, 'gini = 0.0\\nsamples = 1\\nvalue = [1, 0]'),\n",
       " Text(0.5196101548376955, 0.21933962264150944, 'x[2917] <= 2987.5\\ngini = 0.23\\nsamples = 633\\nvalue = [549, 84]'),\n",
       " Text(0.5095496345201603, 0.21462264150943397, 'x[2081] <= 7.66\\ngini = 0.228\\nsamples = 632\\nvalue = [549, 83]'),\n",
       " Text(0.49948911420262515, 0.2099056603773585, 'x[2856] <= 0.697\\ngini = 0.228\\nsamples = 631\\nvalue = [548, 83]'),\n",
       " Text(0.48942859388508997, 0.20518867924528303, 'gini = 0.0\\nsamples = 1\\nvalue = [0, 1]'),\n",
       " Text(0.5095496345201603, 0.20518867924528303, 'x[2843] <= 0.663\\ngini = 0.226\\nsamples = 630\\nvalue = [548, 82]'),\n",
       " Text(0.49948911420262515, 0.20047169811320756, 'gini = 0.0\\nsamples = 1\\nvalue = [0, 1]'),\n",
       " Text(0.5196101548376955, 0.20047169811320756, 'x[2081] <= 7.66\\ngini = 0.224\\nsamples = 629\\nvalue = [548, 81]'),\n",
       " Text(0.5095496345201603, 0.1957547169811321, 'x[2835] <= 0.229\\ngini = 0.222\\nsamples = 628\\nvalue = [548, 80]'),\n",
       " Text(0.49948911420262515, 0.19103773584905662, 'x[276] <= 194.612\\ngini = 0.22\\nsamples = 627\\nvalue = [548, 79]'),\n",
       " Text(0.48942859388508997, 0.18632075471698112, 'gini = 0.0\\nsamples = 1\\nvalue = [0, 1]'),\n",
       " Text(0.5095496345201603, 0.18632075471698112, 'x[2117] <= 5.5\\ngini = 0.218\\nsamples = 626\\nvalue = [548, 78]'),\n",
       " Text(0.49948911420262515, 0.18160377358490565, 'x[2029] <= 54.528\\ngini = 0.21\\nsamples = 612\\nvalue = [539, 73]'),\n",
       " Text(0.48942859388508997, 0.17688679245283018, 'gini = 0.0\\nsamples = 1\\nvalue = [0, 1]'),\n",
       " Text(0.5095496345201603, 0.17688679245283018, 'x[18] <= 0.021\\ngini = 0.208\\nsamples = 611\\nvalue = [539, 72]'),\n",
       " Text(0.49948911420262515, 0.1721698113207547, 'gini = 0.0\\nsamples = 1\\nvalue = [0, 1]'),\n",
       " Text(0.5196101548376955, 0.1721698113207547, 'x[2206] <= 3.355\\ngini = 0.206\\nsamples = 610\\nvalue = [539, 71]'),\n",
       " Text(0.5095496345201603, 0.16745283018867924, 'x[2834] <= 0.448\\ngini = 0.203\\nsamples = 609\\nvalue = [539, 70]'),\n",
       " Text(0.49948911420262515, 0.16273584905660377, 'gini = 0.0\\nsamples = 1\\nvalue = [0, 1]'),\n",
       " Text(0.5196101548376955, 0.16273584905660377, 'x[400] <= 5.67\\ngini = 0.201\\nsamples = 608\\nvalue = [539, 69]'),\n",
       " Text(0.5095496345201603, 0.1580188679245283, 'x[2882] <= 1.178\\ngini = 0.202\\nsamples = 607\\nvalue = [538, 69]'),\n",
       " Text(0.49948911420262515, 0.15330188679245282, 'x[405] <= 8011.234\\ngini = 0.199\\nsamples = 606\\nvalue = [538, 68]'),\n",
       " Text(0.48942859388508997, 0.14858490566037735, 'gini = 0.0\\nsamples = 1\\nvalue = [0, 1]'),\n",
       " Text(0.5095496345201603, 0.14858490566037735, 'x[2791] <= 2.375\\ngini = 0.197\\nsamples = 605\\nvalue = [538, 67]'),\n",
       " Text(0.49948911420262515, 0.14386792452830188, 'gini = 0.0\\nsamples = 1\\nvalue = [0, 1]'),\n",
       " Text(0.5196101548376955, 0.14386792452830188, 'x[592] <= 42.745\\ngini = 0.195\\nsamples = 604\\nvalue = [538, 66]'),\n",
       " Text(0.5095496345201603, 0.1391509433962264, 'gini = 0.0\\nsamples = 1\\nvalue = [1, 0]'),\n",
       " Text(0.5296706751552307, 0.1391509433962264, 'x[402] <= 7.955\\ngini = 0.195\\nsamples = 603\\nvalue = [537, 66]'),\n",
       " Text(0.5196101548376955, 0.13443396226415094, 'x[2901] <= 2.624\\ngini = 0.193\\nsamples = 602\\nvalue = [537, 65]'),\n",
       " Text(0.5095496345201603, 0.12971698113207547, 'x[580] <= 112.282\\ngini = 0.19\\nsamples = 601\\nvalue = [537, 64]'),\n",
       " Text(0.49948911420262515, 0.125, 'gini = 0.0\\nsamples = 1\\nvalue = [0, 1]'),\n",
       " Text(0.5196101548376955, 0.125, 'x[2834] <= 4.302\\ngini = 0.188\\nsamples = 600\\nvalue = [537, 63]'),\n",
       " Text(0.5095496345201603, 0.12028301886792453, 'x[2877] <= 0.154\\ngini = 0.186\\nsamples = 599\\nvalue = [537, 62]'),\n",
       " Text(0.49948911420262515, 0.11556603773584906, 'gini = 0.0\\nsamples = 1\\nvalue = [0, 1]'),\n",
       " Text(0.5196101548376955, 0.11556603773584906, 'x[2808] <= 46.475\\ngini = 0.183\\nsamples = 598\\nvalue = [537, 61]'),\n",
       " Text(0.5095496345201603, 0.11084905660377359, 'x[637] <= 29.454\\ngini = 0.181\\nsamples = 597\\nvalue = [537, 60]'),\n",
       " Text(0.49948911420262515, 0.10613207547169812, 'gini = 0.0\\nsamples = 1\\nvalue = [0, 1]'),\n",
       " Text(0.5196101548376955, 0.10613207547169812, 'x[2146] <= 17.646\\ngini = 0.178\\nsamples = 596\\nvalue = [537, 59]'),\n",
       " Text(0.5095496345201603, 0.10141509433962265, 'x[2134] <= 468.196\\ngini = 0.176\\nsamples = 595\\nvalue = [537, 58]'),\n",
       " Text(0.49948911420262515, 0.09669811320754718, 'gini = 0.0\\nsamples = 1\\nvalue = [0, 1]'),\n",
       " Text(0.5196101548376955, 0.09669811320754718, 'x[2849] <= 0.739\\ngini = 0.174\\nsamples = 594\\nvalue = [537, 57]'),\n",
       " Text(0.5095496345201603, 0.09198113207547169, 'gini = 0.0\\nsamples = 1\\nvalue = [0, 1]'),\n",
       " Text(0.5296706751552307, 0.09198113207547169, 'x[2099] <= 22.593\\ngini = 0.171\\nsamples = 593\\nvalue = [537, 56]'),\n",
       " Text(0.5196101548376955, 0.08726415094339622, 'gini = 0.0\\nsamples = 1\\nvalue = [0, 1]'),\n",
       " Text(0.5397311954727658, 0.08726415094339622, 'x[2846] <= 6.844\\ngini = 0.169\\nsamples = 592\\nvalue = [537, 55]'),\n",
       " Text(0.5296706751552307, 0.08254716981132075, 'x[2869] <= 16.478\\ngini = 0.166\\nsamples = 591\\nvalue = [537, 54]'),\n",
       " Text(0.5045193743613927, 0.07783018867924528, 'x[2865] <= 0.704\\ngini = 0.408\\nsamples = 7\\nvalue = [5, 2]'),\n",
       " Text(0.4944588540438576, 0.07311320754716981, 'gini = 0.0\\nsamples = 4\\nvalue = [4, 0]'),\n",
       " Text(0.514579894678928, 0.07311320754716981, 'x[2865] <= 0.911\\ngini = 0.444\\nsamples = 3\\nvalue = [1, 2]'),\n",
       " Text(0.5045193743613927, 0.06839622641509434, 'gini = 0.444\\nsamples = 2\\nvalue = [0, 2]'),\n",
       " Text(0.5246404149964631, 0.06839622641509434, 'gini = nan\\nsamples = 1\\nvalue = [1, 0]'),\n",
       " Text(0.5548219759490686, 0.07783018867924528, 'x[2869] <= 16.346\\ngini = 0.162\\nsamples = 584\\nvalue = [532, 52]'),\n",
       " Text(0.5447614556315334, 0.07311320754716981, 'gini = 0.0\\nsamples = 1\\nvalue = [0, 1]'),\n",
       " Text(0.5648824962666038, 0.07311320754716981, 'x[2891] <= 366.667\\ngini = 0.16\\nsamples = 583\\nvalue = [532, 51]'),\n",
       " Text(0.5447614556315334, 0.06839622641509434, 'x[2859] <= 0.019\\ngini = 0.415\\nsamples = 17\\nvalue = [12, 5]'),\n",
       " Text(0.5347009353139983, 0.06367924528301887, 'x[2859] <= 0.032\\ngini = 0.486\\nsamples = 12\\nvalue = [7, 5]'),\n",
       " Text(0.5246404149964631, 0.0589622641509434, 'gini = 0.0\\nsamples = 1\\nvalue = [0, 1]'),\n",
       " Text(0.5447614556315334, 0.0589622641509434, 'x[2948] <= 0.5\\ngini = 0.463\\nsamples = 11\\nvalue = [7, 4]'),\n",
       " Text(0.5347009353139983, 0.054245283018867926, 'gini = 0.463\\nsamples = 9\\nvalue = [6, 3]'),\n",
       " Text(0.5548219759490686, 0.054245283018867926, 'gini = nan\\nsamples = 2\\nvalue = [1, 1]'),\n",
       " Text(0.5548219759490686, 0.06367924528301887, 'gini = 0.0\\nsamples = 5\\nvalue = [5, 0]'),\n",
       " Text(0.5850035369016742, 0.06839622641509434, 'x[2384] <= 274.41\\ngini = 0.149\\nsamples = 566\\nvalue = [520, 46]'),\n",
       " Text(0.5749430165841389, 0.06367924528301887, 'x[2866] <= 1.389\\ngini = 0.137\\nsamples = 542\\nvalue = [502, 40]'),\n",
       " Text(0.5648824962666038, 0.0589622641509434, 'gini = 0.426\\nsamples = 13\\nvalue = [9, 4]'),\n",
       " Text(0.5850035369016742, 0.0589622641509434, 'x[2074] <= 2009.281\\ngini = 0.127\\nsamples = 529\\nvalue = [493, 36]'),\n",
       " Text(0.5749430165841389, 0.054245283018867926, 'x[2074] <= 2161.422\\ngini = 0.122\\nsamples = 520\\nvalue = [486, 34]'),\n",
       " Text(0.5648824962666038, 0.049528301886792456, 'x[840] <= 12520.422\\ngini = 0.119\\nsamples = 519\\nvalue = [486, 33]'),\n",
       " Text(0.5548219759490686, 0.04481132075471698, 'x[840] <= 12753.702\\ngini = 0.117\\nsamples = 514\\nvalue = [482, 32]'),\n",
       " Text(0.5447614556315334, 0.04009433962264151, 'x[2876] <= 54.931\\ngini = 0.114\\nsamples = 513\\nvalue = [482, 31]'),\n",
       " Text(0.5347009353139983, 0.03537735849056604, 'gini = 0.42\\nsamples = 10\\nvalue = [7, 3]'),\n",
       " Text(0.5548219759490686, 0.03537735849056604, 'x[2134] <= 514.014\\ngini = 0.105\\nsamples = 503\\nvalue = [475, 28]'),\n",
       " Text(0.5447614556315334, 0.030660377358490566, 'x[2834] <= 1.202\\ngini = 0.099\\nsamples = 498\\nvalue = [472, 26]'),\n",
       " Text(0.5347009353139983, 0.025943396226415096, 'x[2248] <= 3.2\\ngini = 0.09\\nsamples = 486\\nvalue = [463, 23]'),\n",
       " Text(0.5246404149964631, 0.02122641509433962, 'gini = 0.081\\nsamples = 473\\nvalue = [453, 20]'),\n",
       " Text(0.5447614556315334, 0.02122641509433962, 'x[0] <= 26.5\\ngini = 0.355\\nsamples = 13\\nvalue = [10, 3]'),\n",
       " Text(0.5347009353139983, 0.01650943396226415, 'x[5] <= 0.5\\ngini = 0.48\\nsamples = 5\\nvalue = [2, 3]'),\n",
       " Text(0.5246404149964631, 0.01179245283018868, 'x[2248] <= 5.969\\ngini = 0.48\\nsamples = 4\\nvalue = [1, 3]'),\n",
       " Text(0.514579894678928, 0.007075471698113208, 'x[0] <= 25.5\\ngini = 0.375\\nsamples = 3\\nvalue = [1, 2]'),\n",
       " Text(0.5045193743613927, 0.0023584905660377358, 'gini = 0.444\\nsamples = 2\\nvalue = [1, 1]'),\n",
       " Text(0.5246404149964631, 0.0023584905660377358, 'gini = nan\\nsamples = 1\\nvalue = [0, 1]'),\n",
       " Text(0.5347009353139983, 0.007075471698113208, 'gini = nan\\nsamples = 1\\nvalue = [0, 1]'),\n",
       " Text(0.5447614556315334, 0.01179245283018868, 'gini = nan\\nsamples = 1\\nvalue = [1, 0]'),\n",
       " Text(0.5548219759490686, 0.01650943396226415, 'gini = 0.0\\nsamples = 8\\nvalue = [8, 0]'),\n",
       " Text(0.5548219759490686, 0.025943396226415096, 'gini = 0.375\\nsamples = 12\\nvalue = [9, 3]'),\n",
       " Text(0.5648824962666038, 0.030660377358490566, 'gini = 0.48\\nsamples = 5\\nvalue = [3, 2]'),\n",
       " Text(0.5648824962666038, 0.04009433962264151, 'gini = 0.0\\nsamples = 1\\nvalue = [0, 1]'),\n",
       " Text(0.5749430165841389, 0.04481132075471698, 'gini = 0.32\\nsamples = 5\\nvalue = [4, 1]'),\n",
       " Text(0.5850035369016742, 0.049528301886792456, 'gini = 0.0\\nsamples = 1\\nvalue = [0, 1]'),\n",
       " Text(0.5950640572192093, 0.054245283018867926, 'gini = 0.346\\nsamples = 9\\nvalue = [7, 2]'),\n",
       " Text(0.5950640572192093, 0.06367924528301887, 'gini = 0.375\\nsamples = 24\\nvalue = [18, 6]'),\n",
       " Text(0.5497917157903011, 0.08254716981132075, 'gini = 0.0\\nsamples = 1\\nvalue = [0, 1]'),\n",
       " Text(0.5296706751552307, 0.10141509433962265, 'gini = 0.0\\nsamples = 1\\nvalue = [0, 1]'),\n",
       " Text(0.5296706751552307, 0.11084905660377359, 'gini = 0.0\\nsamples = 1\\nvalue = [0, 1]'),\n",
       " Text(0.5296706751552307, 0.12028301886792453, 'gini = 0.0\\nsamples = 1\\nvalue = [0, 1]'),\n",
       " Text(0.5296706751552307, 0.12971698113207547, 'gini = 0.0\\nsamples = 1\\nvalue = [0, 1]'),\n",
       " Text(0.5397311954727658, 0.13443396226415094, 'gini = 0.0\\nsamples = 1\\nvalue = [0, 1]'),\n",
       " Text(0.5196101548376955, 0.15330188679245282, 'gini = 0.0\\nsamples = 1\\nvalue = [0, 1]'),\n",
       " Text(0.5296706751552307, 0.1580188679245283, 'gini = 0.0\\nsamples = 1\\nvalue = [1, 0]'),\n",
       " Text(0.5296706751552307, 0.16745283018867924, 'gini = 0.0\\nsamples = 1\\nvalue = [0, 1]'),\n",
       " Text(0.5196101548376955, 0.18160377358490565, 'gini = 0.459\\nsamples = 14\\nvalue = [9, 5]'),\n",
       " Text(0.5196101548376955, 0.19103773584905662, 'gini = 0.0\\nsamples = 1\\nvalue = [0, 1]'),\n",
       " Text(0.5296706751552307, 0.1957547169811321, 'gini = 0.0\\nsamples = 1\\nvalue = [0, 1]'),\n",
       " Text(0.5196101548376955, 0.2099056603773585, 'gini = 0.0\\nsamples = 1\\nvalue = [1, 0]'),\n",
       " Text(0.5296706751552307, 0.21462264150943397, 'gini = 0.0\\nsamples = 1\\nvalue = [0, 1]'),\n",
       " Text(0.48942859388508997, 0.2429245283018868, 'gini = 0.0\\nsamples = 1\\nvalue = [0, 1]'),\n",
       " Text(0.48942859388508997, 0.25235849056603776, 'gini = 0.0\\nsamples = 1\\nvalue = [0, 1]'),\n",
       " Text(0.47936807356755484, 0.2665094339622642, 'gini = 0.473\\nsamples = 13\\nvalue = [8, 5]'),\n",
       " Text(0.4592470329324845, 0.28537735849056606, 'gini = 0.0\\nsamples = 1\\nvalue = [0, 1]'),\n",
       " Text(0.48942859388508997, 0.29009433962264153, 'x[2381] <= 0.466\\ngini = 0.444\\nsamples = 3\\nvalue = [1, 2]'),\n",
       " Text(0.47936807356755484, 0.28537735849056606, 'gini = 0.444\\nsamples = 2\\nvalue = [1, 1]'),\n",
       " Text(0.49948911420262515, 0.28537735849056606, 'gini = nan\\nsamples = 1\\nvalue = [0, 1]'),\n",
       " Text(0.5196101548376955, 0.294811320754717, 'x[0] <= 27.5\\ngini = 0.444\\nsamples = 3\\nvalue = [1, 2]'),\n",
       " Text(0.5095496345201603, 0.29009433962264153, 'gini = 0.444\\nsamples = 2\\nvalue = [1, 1]'),\n",
       " Text(0.5296706751552307, 0.29009433962264153, 'gini = nan\\nsamples = 1\\nvalue = [0, 1]'),\n",
       " Text(0.47182268332940347, 0.3089622641509434, 'gini = 0.444\\nsamples = 3\\nvalue = [1, 2]'),\n",
       " Text(0.4818832036469386, 0.3136792452830189, 'gini = 0.444\\nsamples = 3\\nvalue = [2, 1]'),\n",
       " Text(0.5120647645995441, 0.31839622641509435, 'x[2908] <= 92.593\\ngini = 0.444\\nsamples = 3\\nvalue = [1, 2]'),\n",
       " Text(0.502004244282009, 0.3136792452830189, 'gini = 0.444\\nsamples = 2\\nvalue = [0, 2]'),\n",
       " Text(0.5221252849170793, 0.3136792452830189, 'gini = nan\\nsamples = 1\\nvalue = [1, 0]'),\n",
       " Text(0.5724278865047552, 0.33726415094339623, 'x[14] <= 6.085\\ngini = 0.498\\nsamples = 15\\nvalue = [8, 7]'),\n",
       " Text(0.5623673661872199, 0.33254716981132076, 'gini = 0.245\\nsamples = 7\\nvalue = [1, 6]'),\n",
       " Text(0.5824884068222903, 0.33254716981132076, 'x[14] <= 7.2\\ngini = 0.219\\nsamples = 8\\nvalue = [7, 1]'),\n",
       " Text(0.5724278865047552, 0.3278301886792453, 'x[14] <= 6.705\\ngini = 0.219\\nsamples = 7\\nvalue = [6, 1]'),\n",
       " Text(0.5623673661872199, 0.3231132075471698, 'x[14] <= 6.655\\ngini = 0.245\\nsamples = 6\\nvalue = [5, 1]'),\n",
       " Text(0.5523068458696848, 0.31839622641509435, 'x[0] <= 29.0\\ngini = 0.278\\nsamples = 5\\nvalue = [5, 0]'),\n",
       " Text(0.5422463255521497, 0.3136792452830189, 'gini = 0.0\\nsamples = 4\\nvalue = [4, 0]'),\n",
       " Text(0.5623673661872199, 0.3136792452830189, 'gini = nan\\nsamples = 1\\nvalue = [1, 0]'),\n",
       " Text(0.5724278865047552, 0.31839622641509435, 'gini = nan\\nsamples = 1\\nvalue = [0, 1]'),\n",
       " Text(0.5824884068222903, 0.3231132075471698, 'gini = nan\\nsamples = 1\\nvalue = [1, 0]'),\n",
       " Text(0.5925489271398255, 0.3278301886792453, 'gini = nan\\nsamples = 1\\nvalue = [1, 0]'),\n",
       " Text(0.4969739841232414, 0.3608490566037736, 'gini = 0.32\\nsamples = 5\\nvalue = [1, 4]'),\n",
       " Text(0.4969739841232414, 0.37028301886792453, 'gini = 0.48\\nsamples = 5\\nvalue = [2, 3]'),\n",
       " Text(0.5070345044407766, 0.375, 'gini = 0.48\\nsamples = 10\\nvalue = [6, 4]'),\n",
       " Text(0.597579187298593, 0.38443396226415094, 'x[0] <= 25.5\\ngini = 0.483\\nsamples = 27\\nvalue = [16, 11]'),\n",
       " Text(0.5875186669810579, 0.37971698113207547, 'gini = 0.0\\nsamples = 3\\nvalue = [0, 3]'),\n",
       " Text(0.6076397076161283, 0.37971698113207547, 'x[0] <= 29.5\\ngini = 0.444\\nsamples = 24\\nvalue = [16, 8]'),\n",
       " Text(0.597579187298593, 0.375, 'x[2951] <= 0.5\\ngini = 0.455\\nsamples = 19\\nvalue = [12, 7]'),\n",
       " Text(0.5875186669810579, 0.37028301886792453, 'x[2815] <= 116.39\\ngini = 0.484\\nsamples = 16\\nvalue = [9, 7]'),\n",
       " Text(0.5774581466635228, 0.36556603773584906, 'x[0] <= 27.5\\ngini = 0.5\\nsamples = 11\\nvalue = [5, 6]'),\n",
       " Text(0.5573371060284524, 0.3608490566037736, 'x[5] <= 0.5\\ngini = 0.32\\nsamples = 5\\nvalue = [1, 4]'),\n",
       " Text(0.5472765857109172, 0.3561320754716981, 'x[2950] <= 0.5\\ngini = 0.32\\nsamples = 4\\nvalue = [1, 3]'),\n",
       " Text(0.5372160653933821, 0.35141509433962265, 'x[2815] <= 78.98\\ngini = 0.375\\nsamples = 3\\nvalue = [0, 3]'),\n",
       " Text(0.5271555450758469, 0.3466981132075472, 'gini = 0.0\\nsamples = 2\\nvalue = [0, 2]'),\n",
       " Text(0.5472765857109172, 0.3466981132075472, 'gini = nan\\nsamples = 1\\nvalue = [0, 1]'),\n",
       " Text(0.5573371060284524, 0.35141509433962265, 'gini = nan\\nsamples = 1\\nvalue = [1, 0]'),\n",
       " Text(0.5673976263459876, 0.3561320754716981, 'gini = nan\\nsamples = 1\\nvalue = [0, 1]'),\n",
       " Text(0.597579187298593, 0.3608490566037736, 'x[0] <= 28.5\\ngini = 0.444\\nsamples = 6\\nvalue = [4, 2]'),\n",
       " Text(0.5875186669810579, 0.3561320754716981, 'gini = 0.444\\nsamples = 5\\nvalue = [4, 1]'),\n",
       " Text(0.6076397076161283, 0.3561320754716981, 'gini = nan\\nsamples = 1\\nvalue = [0, 1]'),\n",
       " Text(0.597579187298593, 0.36556603773584906, 'gini = 0.375\\nsamples = 5\\nvalue = [4, 1]'),\n",
       " Text(0.6076397076161283, 0.37028301886792453, 'gini = 0.0\\nsamples = 3\\nvalue = [3, 0]'),\n",
       " Text(0.6177002279336634, 0.375, 'gini = 0.375\\nsamples = 5\\nvalue = [4, 1]'),\n",
       " Text(0.647881788886269, 0.3891509433962264, 'x[2838] <= 0.376\\ngini = 0.486\\nsamples = 12\\nvalue = [5, 7]'),\n",
       " Text(0.6378212685687338, 0.38443396226415094, 'gini = 0.0\\nsamples = 6\\nvalue = [0, 6]'),\n",
       " Text(0.6579423092038041, 0.38443396226415094, 'x[2838] <= 0.518\\ngini = 0.278\\nsamples = 6\\nvalue = [5, 1]'),\n",
       " Text(0.647881788886269, 0.37971698113207547, 'x[2839] <= 0.228\\ngini = 0.278\\nsamples = 5\\nvalue = [4, 1]'),\n",
       " Text(0.6378212685687338, 0.375, 'x[2838] <= 0.411\\ngini = 0.32\\nsamples = 4\\nvalue = [3, 1]'),\n",
       " Text(0.6277607482511987, 0.37028301886792453, 'x[2839] <= 0.157\\ngini = 0.375\\nsamples = 3\\nvalue = [3, 0]'),\n",
       " Text(0.6177002279336634, 0.36556603773584906, 'gini = 0.0\\nsamples = 2\\nvalue = [2, 0]'),\n",
       " Text(0.6378212685687338, 0.36556603773584906, 'gini = nan\\nsamples = 1\\nvalue = [1, 0]'),\n",
       " Text(0.647881788886269, 0.37028301886792453, 'gini = nan\\nsamples = 1\\nvalue = [0, 1]'),\n",
       " Text(0.6579423092038041, 0.375, 'gini = nan\\nsamples = 1\\nvalue = [1, 0]'),\n",
       " Text(0.6680028295213393, 0.37971698113207547, 'gini = nan\\nsamples = 1\\nvalue = [1, 0]'),\n",
       " Text(0.6000943173779769, 0.39858490566037735, 'gini = 0.487\\nsamples = 31\\nvalue = [18, 13]'),\n",
       " Text(0.6981843904739449, 0.4033018867924528, 'x[2841] <= 1.196\\ngini = 0.496\\nsamples = 11\\nvalue = [5, 6]'),\n",
       " Text(0.6881238701564096, 0.39858490566037735, 'x[2950] <= 0.5\\ngini = 0.469\\nsamples = 8\\nvalue = [5, 3]'),\n",
       " Text(0.6780633498388745, 0.3938679245283019, 'x[0] <= 28.0\\ngini = 0.469\\nsamples = 6\\nvalue = [4, 2]'),\n",
       " Text(0.6680028295213393, 0.3891509433962264, 'gini = 0.444\\nsamples = 5\\nvalue = [3, 2]'),\n",
       " Text(0.6881238701564096, 0.3891509433962264, 'gini = nan\\nsamples = 1\\nvalue = [1, 0]'),\n",
       " Text(0.6981843904739449, 0.3938679245283019, 'gini = nan\\nsamples = 2\\nvalue = [1, 1]'),\n",
       " Text(0.70824491079148, 0.39858490566037735, 'gini = 0.0\\nsamples = 3\\nvalue = [0, 3]'),\n",
       " Text(0.6038670124970525, 0.4363207547169811, 'gini = 0.497\\nsamples = 13\\nvalue = [6, 7]'),\n",
       " Text(0.7585475123791559, 0.4410377358490566, 'x[2234] <= 1.32\\ngini = 0.499\\nsamples = 23\\nvalue = [12, 11]'),\n",
       " Text(0.7484869920616207, 0.4363207547169811, 'gini = 0.0\\nsamples = 3\\nvalue = [0, 3]'),\n",
       " Text(0.768608032696691, 0.4363207547169811, 'x[2948] <= 0.5\\ngini = 0.48\\nsamples = 20\\nvalue = [12, 8]'),\n",
       " Text(0.7585475123791559, 0.43160377358490565, 'x[5] <= 0.5\\ngini = 0.48\\nsamples = 19\\nvalue = [11, 8]'),\n",
       " Text(0.7484869920616207, 0.4268867924528302, 'x[2234] <= 2.397\\ngini = 0.488\\nsamples = 18\\nvalue = [11, 7]'),\n",
       " Text(0.7384264717440855, 0.4221698113207547, 'x[0] <= 27.5\\ngini = 0.475\\nsamples = 16\\nvalue = [9, 7]'),\n",
       " Text(0.7283659514265504, 0.41745283018867924, 'gini = 0.32\\nsamples = 5\\nvalue = [1, 4]'),\n",
       " Text(0.7484869920616207, 0.41745283018867924, 'x[0] <= 28.5\\ngini = 0.397\\nsamples = 11\\nvalue = [8, 3]'),\n",
       " Text(0.7384264717440855, 0.41273584905660377, 'x[2950] <= 0.5\\ngini = 0.346\\nsamples = 7\\nvalue = [5, 2]'),\n",
       " Text(0.7283659514265504, 0.4080188679245283, 'x[2234] <= 2.21\\ngini = 0.408\\nsamples = 5\\nvalue = [3, 2]'),\n",
       " Text(0.7183054311090151, 0.4033018867924528, 'gini = 0.48\\nsamples = 3\\nvalue = [2, 1]'),\n",
       " Text(0.7384264717440855, 0.4033018867924528, 'gini = nan\\nsamples = 2\\nvalue = [1, 1]'),\n",
       " Text(0.7484869920616207, 0.4080188679245283, 'gini = nan\\nsamples = 2\\nvalue = [2, 0]'),\n",
       " Text(0.7585475123791559, 0.41273584905660377, 'gini = 0.5\\nsamples = 4\\nvalue = [3, 1]'),\n",
       " Text(0.7585475123791559, 0.4221698113207547, 'gini = nan\\nsamples = 2\\nvalue = [2, 0]'),\n",
       " Text(0.768608032696691, 0.4268867924528302, 'gini = nan\\nsamples = 1\\nvalue = [0, 1]'),\n",
       " Text(0.7786685530142262, 0.43160377358490565, 'gini = nan\\nsamples = 1\\nvalue = [1, 0]'),\n",
       " Text(0.6560559616442663, 0.46462264150943394, 'gini = 0.0\\nsamples = 2\\nvalue = [0, 2]'),\n",
       " Text(0.6359349210091959, 0.4834905660377358, 'gini = 0.0\\nsamples = 2\\nvalue = [0, 2]'),\n",
       " Text(0.6359349210091959, 0.49292452830188677, 'gini = 0.0\\nsamples = 2\\nvalue = [0, 2]'),\n",
       " Text(0.9798789593649296, 0.5165094339622641, 'x[1] <= 0.5\\ngini = 0.18\\nsamples = 40\\nvalue = [36, 4]'),\n",
       " Text(0.9698184390473945, 0.5117924528301887, 'x[2380] <= 0.698\\ngini = 0.18\\nsamples = 39\\nvalue = [35, 4]'),\n",
       " Text(0.9597579187298593, 0.5070754716981132, 'x[2381] <= 0.537\\ngini = 0.184\\nsamples = 37\\nvalue = [33, 4]'),\n",
       " Text(0.9496973984123241, 0.5023584905660378, 'x[5] <= 0.5\\ngini = 0.193\\nsamples = 35\\nvalue = [31, 4]'),\n",
       " Text(0.939636878094789, 0.49764150943396224, 'x[2948] <= 0.5\\ngini = 0.202\\nsamples = 33\\nvalue = [29, 4]'),\n",
       " Text(0.9295763577772538, 0.49292452830188677, 'x[2378] <= 1.287\\ngini = 0.213\\nsamples = 32\\nvalue = [28, 4]'),\n",
       " Text(0.9195158374597187, 0.4882075471698113, 'x[2] <= 0.5\\ngini = 0.219\\nsamples = 30\\nvalue = [26, 4]'),\n",
       " Text(0.9094553171421834, 0.4834905660377358, 'x[2378] <= 1.102\\ngini = 0.231\\nsamples = 28\\nvalue = [24, 4]'),\n",
       " Text(0.8993947968246483, 0.47877358490566035, 'x[2379] <= 0.623\\ngini = 0.245\\nsamples = 26\\nvalue = [22, 4]'),\n",
       " Text(0.889334276507113, 0.4740566037735849, 'x[2378] <= 1.028\\ngini = 0.26\\nsamples = 24\\nvalue = [20, 4]'),\n",
       " Text(0.8792737561895779, 0.4693396226415094, 'x[2379] <= 0.479\\ngini = 0.278\\nsamples = 22\\nvalue = [19, 3]'),\n",
       " Text(0.8692132358720428, 0.46462264150943394, 'x[2381] <= 0.503\\ngini = 0.236\\nsamples = 20\\nvalue = [18, 2]'),\n",
       " Text(0.8591527155545076, 0.45990566037735847, 'x[2380] <= 0.668\\ngini = 0.18\\nsamples = 18\\nvalue = [16, 2]'),\n",
       " Text(0.8490921952369724, 0.455188679245283, 'x[2378] <= 0.859\\ngini = 0.198\\nsamples = 16\\nvalue = [14, 2]'),\n",
       " Text(0.8390316749194372, 0.45047169811320753, 'x[2951] <= 0.5\\ngini = 0.219\\nsamples = 14\\nvalue = [12, 2]'),\n",
       " Text(0.8289711546019021, 0.44575471698113206, 'x[2380] <= 0.634\\ngini = 0.245\\nsamples = 13\\nvalue = [11, 2]'),\n",
       " Text(0.818910634284367, 0.4410377358490566, 'x[2381] <= 0.466\\ngini = 0.26\\nsamples = 11\\nvalue = [9, 2]'),\n",
       " Text(0.8088501139668317, 0.4363207547169811, 'x[2381] <= 0.438\\ngini = 0.298\\nsamples = 9\\nvalue = [7, 2]'),\n",
       " Text(0.7987895936492966, 0.43160377358490565, 'x[2381] <= 0.386\\ngini = 0.346\\nsamples = 7\\nvalue = [5, 2]'),\n",
       " Text(0.7887290733317613, 0.4268867924528302, 'x[2379] <= 0.324\\ngini = 0.408\\nsamples = 5\\nvalue = [3, 2]'),\n",
       " Text(0.7786685530142262, 0.4221698113207547, 'x[2950] <= 0.5\\ngini = 0.48\\nsamples = 3\\nvalue = [2, 1]'),\n",
       " Text(0.768608032696691, 0.41745283018867924, 'gini = 0.444\\nsamples = 2\\nvalue = [1, 1]'),\n",
       " Text(0.7887290733317613, 0.41745283018867924, 'gini = nan\\nsamples = 1\\nvalue = [1, 0]'),\n",
       " Text(0.7987895936492966, 0.4221698113207547, 'gini = nan\\nsamples = 2\\nvalue = [1, 1]'),\n",
       " Text(0.8088501139668317, 0.4268867924528302, 'gini = nan\\nsamples = 2\\nvalue = [2, 0]'),\n",
       " Text(0.818910634284367, 0.43160377358490565, 'gini = nan\\nsamples = 2\\nvalue = [2, 0]'),\n",
       " Text(0.8289711546019021, 0.4363207547169811, 'gini = nan\\nsamples = 2\\nvalue = [2, 0]'),\n",
       " Text(0.8390316749194372, 0.4410377358490566, 'gini = nan\\nsamples = 2\\nvalue = [2, 0]'),\n",
       " Text(0.8490921952369724, 0.44575471698113206, 'gini = nan\\nsamples = 1\\nvalue = [1, 0]'),\n",
       " Text(0.8591527155545076, 0.45047169811320753, 'gini = nan\\nsamples = 2\\nvalue = [2, 0]'),\n",
       " Text(0.8692132358720428, 0.455188679245283, 'gini = nan\\nsamples = 2\\nvalue = [2, 0]'),\n",
       " Text(0.8792737561895779, 0.45990566037735847, 'gini = nan\\nsamples = 2\\nvalue = [2, 0]'),\n",
       " Text(0.889334276507113, 0.46462264150943394, 'gini = nan\\nsamples = 2\\nvalue = [1, 1]'),\n",
       " Text(0.8993947968246483, 0.4693396226415094, 'gini = nan\\nsamples = 2\\nvalue = [1, 1]'),\n",
       " Text(0.9094553171421834, 0.4740566037735849, 'gini = nan\\nsamples = 2\\nvalue = [2, 0]'),\n",
       " Text(0.9195158374597187, 0.47877358490566035, 'gini = nan\\nsamples = 2\\nvalue = [2, 0]'),\n",
       " Text(0.9295763577772538, 0.4834905660377358, 'gini = nan\\nsamples = 2\\nvalue = [2, 0]'),\n",
       " Text(0.939636878094789, 0.4882075471698113, 'gini = nan\\nsamples = 2\\nvalue = [2, 0]'),\n",
       " Text(0.9496973984123241, 0.49292452830188677, 'gini = nan\\nsamples = 1\\nvalue = [1, 0]'),\n",
       " Text(0.9597579187298593, 0.49764150943396224, 'gini = nan\\nsamples = 2\\nvalue = [2, 0]'),\n",
       " Text(0.9698184390473945, 0.5023584905660378, 'gini = nan\\nsamples = 2\\nvalue = [2, 0]'),\n",
       " ...]"
      ]
     },
     "execution_count": 179,
     "metadata": {},
     "output_type": "execute_result"
    },
    {
     "data": {
      "image/png": "[encoded data removed]",
      "text/plain": [
       "<Figure size 640x480 with 1 Axes>"
      ]
     },
     "metadata": {},
     "output_type": "display_data"
    }
   ],
   "source": [
    "tree.plot_tree(dt_clf)"
   ]
  },
  {
   "cell_type": "code",
   "execution_count": 180,
   "id": "1ea6607b",
   "metadata": {},
   "outputs": [
    {
     "name": "stdout",
     "output_type": "stream",
     "text": [
      "Train Score:  0.8363445378151261\n"
     ]
    }
   ],
   "source": [
    "dt_score = dt_clf.score(train_X, trainy)\n",
    "print(\"Train Score: \", dt_score)"
   ]
  },
  {
   "cell_type": "code",
   "execution_count": 181,
   "id": "7bf4b73c",
   "metadata": {},
   "outputs": [
    {
     "name": "stdout",
     "output_type": "stream",
     "text": [
      "CV average score: 0.58\n"
     ]
    }
   ],
   "source": [
    "dt_cv_scores = cross_val_score(dt_clf, train_X, trainy, cv=10)\n",
    "print(\"CV average score: %.2f\" % dt_cv_scores.mean())"
   ]
  },
  {
   "cell_type": "code",
   "execution_count": 182,
   "id": "cfc8cba7",
   "metadata": {},
   "outputs": [
    {
     "name": "stdout",
     "output_type": "stream",
     "text": [
      "DT test accuracy_score: 58.44086021505376\n"
     ]
    }
   ],
   "source": [
    "dt_accuracy_score = accuracy_score(testY,dt_clf.predict(test_X))*100\n",
    "print(\"DT test accuracy_score:\", dt_accuracy_score)"
   ]
  },
  {
   "cell_type": "code",
   "execution_count": 183,
   "id": "488ee9f8",
   "metadata": {},
   "outputs": [
    {
     "data": {
      "text/plain": [
       "<sklearn.metrics._plot.roc_curve.RocCurveDisplay at 0x2b2419e50>"
      ]
     },
     "execution_count": 183,
     "metadata": {},
     "output_type": "execute_result"
    },
    {
     "data": {
      "image/png": "[encoded data removed]",
      "text/plain": [
       "<Figure size 640x480 with 1 Axes>"
      ]
     },
     "metadata": {},
     "output_type": "display_data"
    }
   ],
   "source": [
    "RocCurveDisplay.from_estimator(dt_clf,test_X,testY)"
   ]
  },
  {
   "cell_type": "code",
   "execution_count": 184,
   "id": "67c94ebf",
   "metadata": {},
   "outputs": [
    {
     "data": {
      "text/plain": [
       "<sklearn.metrics._plot.roc_curve.RocCurveDisplay at 0x13f8c2690>"
      ]
     },
     "execution_count": 184,
     "metadata": {},
     "output_type": "execute_result"
    },
    {
     "data": {
      "image/png": "[encoded data removed]",
      "text/plain": [
       "<Figure size 640x480 with 1 Axes>"
      ]
     },
     "metadata": {},
     "output_type": "display_data"
    }
   ],
   "source": [
    "RocCurveDisplay.from_estimator(dt_clf,train_X, trainy)"
   ]
  },
  {
   "cell_type": "code",
   "execution_count": 185,
   "id": "c5b8f27f",
   "metadata": {},
   "outputs": [
    {
     "data": {
      "image/png": "[encoded data removed]",
      "text/plain": [
       "<Figure size 640x480 with 2 Axes>"
      ]
     },
     "metadata": {},
     "output_type": "display_data"
    }
   ],
   "source": [
    "import matplotlib.pyplot as plt\n",
    "ConfusionMatrixDisplay.from_estimator(dt_clf, test_X, testY)  \n",
    "plt.show() "
   ]
  },
  {
   "cell_type": "code",
   "execution_count": 186,
   "id": "562bd8e7",
   "metadata": {},
   "outputs": [
    {
     "data": {
      "image/png": "[encoded data removed]",
      "text/plain": [
       "<Figure size 640x480 with 2 Axes>"
      ]
     },
     "metadata": {},
     "output_type": "display_data"
    }
   ],
   "source": [
    "ConfusionMatrixDisplay.from_estimator(dt_clf, train_X, trainy)  \n",
    "plt.show() "
   ]
  },
  {
   "cell_type": "code",
   "execution_count": 187,
   "id": "b9510e88",
   "metadata": {},
   "outputs": [
    {
     "name": "stdout",
     "output_type": "stream",
     "text": [
      "[[652 362]\n",
      " [411 435]]\n"
     ]
    }
   ],
   "source": [
    "dt_ypred = dt_clf.predict(test_X)\n",
    "\n",
    "dtcm = confusion_matrix(testY, dt_ypred)\n",
    "print(dtcm)"
   ]
  },
  {
   "cell_type": "code",
   "execution_count": 188,
   "id": "283bd64d",
   "metadata": {},
   "outputs": [
    {
     "name": "stdout",
     "output_type": "stream",
     "text": [
      "[[2355  328]\n",
      " [ 451 1626]]\n"
     ]
    }
   ],
   "source": [
    "dt_ypred1 = dt_clf.predict(train_X)\n",
    "\n",
    "cm = confusion_matrix(trainy, dt_ypred1)\n",
    "print(cm)"
   ]
  },
  {
   "cell_type": "code",
   "execution_count": 189,
   "id": "ca5465b9",
   "metadata": {},
   "outputs": [
    {
     "name": "stdout",
     "output_type": "stream",
     "text": [
      "MAE of DT on training set: 0.416\n",
      "MAE of DT on test set: 0.164\n"
     ]
    }
   ],
   "source": [
    "s3 = mean_absolute_error(testY, dt_ypred)\n",
    "s4 = mean_absolute_error(trainy, dt_ypred1)\n",
    "print(\"MAE of DT on training set: {:.3f}\".format(s3))\n",
    "print(\"MAE of DT on test set: {:.3f}\".format(s4))"
   ]
  },
  {
   "cell_type": "code",
   "execution_count": 190,
   "id": "6bd8a0cf",
   "metadata": {},
   "outputs": [
    {
     "name": "stdout",
     "output_type": "stream",
     "text": [
      "confusion matrix\n",
      " [[652 362]\n",
      " [411 435]]\n",
      "\n",
      "classification report\n",
      "               precision    recall  f1-score   support\n",
      "\n",
      "         0.0       0.61      0.64      0.63      1014\n",
      "         1.0       0.55      0.51      0.53       846\n",
      "\n",
      "    accuracy                           0.58      1860\n",
      "   macro avg       0.58      0.58      0.58      1860\n",
      "weighted avg       0.58      0.58      0.58      1860\n",
      "\n",
      "Accuracy:  58.44086021505376\n"
     ]
    }
   ],
   "source": [
    "print(\"confusion matrix\\n\",confusion_matrix(testY,dt_ypred))\n",
    "print(\"\\nclassification report\\n\",classification_report(testY,dt_ypred))\n",
    "print(\"Accuracy: \",accuracy_score(testY,dt_ypred)*100)"
   ]
  },
  {
   "cell_type": "code",
   "execution_count": 191,
   "id": "0939bb68",
   "metadata": {},
   "outputs": [
    {
     "name": "stdout",
     "output_type": "stream",
     "text": [
      "Coefficient of determination of test data:\n",
      "-0.6760390000979359\n"
     ]
    }
   ],
   "source": [
    "y_pred_test=dt_clf.predict(test_X)\n",
    "msqe_test=mean_squared_error(testY, y_pred_test)  \n",
    "var_test=np.var(testY) \n",
    "score_test=1-msqe_test/var_test\n",
    "\n",
    "\n",
    "print('Coefficient of determination of test data:')\n",
    "print(score_test)"
   ]
  },
  {
   "cell_type": "code",
   "execution_count": 192,
   "id": "c0357763",
   "metadata": {},
   "outputs": [
    {
     "name": "stdout",
     "output_type": "stream",
     "text": [
      "Coefficient of determination of train data:\n",
      "0.33459319013364786\n"
     ]
    }
   ],
   "source": [
    "#CALCULATE THE COEFFICIENT OF DETERMINATION ON TRAIN DATA\n",
    "y_pred_train=dt_clf.predict(train_X)\n",
    "msqe_train=mean_squared_error(trainy, y_pred_train) \n",
    "var_train=np.var(trainy)\n",
    "score_train=1-msqe_train/var_train\n",
    "\n",
    "print('Coefficient of determination of train data:')\n",
    "print(score_train)"
   ]
  },
  {
   "cell_type": "code",
   "execution_count": null,
   "id": "c215cf3b",
   "metadata": {},
   "outputs": [],
   "source": []
  },
  {
   "cell_type": "code",
   "execution_count": 193,
   "id": "3612b5d4",
   "metadata": {},
   "outputs": [],
   "source": [
    "from sklearn.ensemble import HistGradientBoostingClassifier as GBC\n",
    "\n",
    "gb_clf = GBC()"
   ]
  },
  {
   "cell_type": "code",
   "execution_count": 194,
   "id": "b1e02bfd",
   "metadata": {},
   "outputs": [
    {
     "data": {
      "text/html": [
       "<style>#sk-container-id-3 {color: black;}#sk-container-id-3 pre{padding: 0;}#sk-container-id-3 div.sk-toggleable {background-color: white;}#sk-container-id-3 label.sk-toggleable__label {cursor: pointer;display: block;width: 100%;margin-bottom: 0;padding: 0.3em;box-sizing: border-box;text-align: center;}#sk-container-id-3 label.sk-toggleable__label-arrow:before {content: \"▸\";float: left;margin-right: 0.25em;color: #696969;}#sk-container-id-3 label.sk-toggleable__label-arrow:hover:before {color: black;}#sk-container-id-3 div.sk-estimator:hover label.sk-toggleable__label-arrow:before {color: black;}#sk-container-id-3 div.sk-toggleable__content {max-height: 0;max-width: 0;overflow: hidden;text-align: left;background-color: #f0f8ff;}#sk-container-id-3 div.sk-toggleable__content pre {margin: 0.2em;color: black;border-radius: 0.25em;background-color: #f0f8ff;}#sk-container-id-3 input.sk-toggleable__control:checked~div.sk-toggleable__content {max-height: 200px;max-width: 100%;overflow: auto;}#sk-container-id-3 input.sk-toggleable__control:checked~label.sk-toggleable__label-arrow:before {content: \"▾\";}#sk-container-id-3 div.sk-estimator input.sk-toggleable__control:checked~label.sk-toggleable__label {background-color: #d4ebff;}#sk-container-id-3 div.sk-label input.sk-toggleable__control:checked~label.sk-toggleable__label {background-color: #d4ebff;}#sk-container-id-3 input.sk-hidden--visually {border: 0;clip: rect(1px 1px 1px 1px);clip: rect(1px, 1px, 1px, 1px);height: 1px;margin: -1px;overflow: hidden;padding: 0;position: absolute;width: 1px;}#sk-container-id-3 div.sk-estimator {font-family: monospace;background-color: #f0f8ff;border: 1px dotted black;border-radius: 0.25em;box-sizing: border-box;margin-bottom: 0.5em;}#sk-container-id-3 div.sk-estimator:hover {background-color: #d4ebff;}#sk-container-id-3 div.sk-parallel-item::after {content: \"\";width: 100%;border-bottom: 1px solid gray;flex-grow: 1;}#sk-container-id-3 div.sk-label:hover label.sk-toggleable__label {background-color: #d4ebff;}#sk-container-id-3 div.sk-serial::before {content: \"\";position: absolute;border-left: 1px solid gray;box-sizing: border-box;top: 0;bottom: 0;left: 50%;z-index: 0;}#sk-container-id-3 div.sk-serial {display: flex;flex-direction: column;align-items: center;background-color: white;padding-right: 0.2em;padding-left: 0.2em;position: relative;}#sk-container-id-3 div.sk-item {position: relative;z-index: 1;}#sk-container-id-3 div.sk-parallel {display: flex;align-items: stretch;justify-content: center;background-color: white;position: relative;}#sk-container-id-3 div.sk-item::before, #sk-container-id-3 div.sk-parallel-item::before {content: \"\";position: absolute;border-left: 1px solid gray;box-sizing: border-box;top: 0;bottom: 0;left: 50%;z-index: -1;}#sk-container-id-3 div.sk-parallel-item {display: flex;flex-direction: column;z-index: 1;position: relative;background-color: white;}#sk-container-id-3 div.sk-parallel-item:first-child::after {align-self: flex-end;width: 50%;}#sk-container-id-3 div.sk-parallel-item:last-child::after {align-self: flex-start;width: 50%;}#sk-container-id-3 div.sk-parallel-item:only-child::after {width: 0;}#sk-container-id-3 div.sk-dashed-wrapped {border: 1px dashed gray;margin: 0 0.4em 0.5em 0.4em;box-sizing: border-box;padding-bottom: 0.4em;background-color: white;}#sk-container-id-3 div.sk-label label {font-family: monospace;font-weight: bold;display: inline-block;line-height: 1.2em;}#sk-container-id-3 div.sk-label-container {text-align: center;}#sk-container-id-3 div.sk-container {/* jupyter's `normalize.less` sets `[hidden] { display: none; }` but bootstrap.min.css set `[hidden] { display: none !important; }` so we also need the `!important` here to be able to override the default hidden behavior on the sphinx rendered scikit-learn.org. See: https://github.com/scikit-learn/scikit-learn/issues/21755 */display: inline-block !important;position: relative;}#sk-container-id-3 div.sk-text-repr-fallback {display: none;}</style><div id=\"sk-container-id-3\" class=\"sk-top-container\"><div class=\"sk-text-repr-fallback\"><pre>HistGradientBoostingClassifier()</pre><b>In a Jupyter environment, please rerun this cell to show the HTML representation or trust the notebook. <br />On GitHub, the HTML representation is unable to render, please try loading this page with nbviewer.org.</b></div><div class=\"sk-container\" hidden><div class=\"sk-item\"><div class=\"sk-estimator sk-toggleable\"><input class=\"sk-toggleable__control sk-hidden--visually\" id=\"sk-estimator-id-3\" type=\"checkbox\" checked><label for=\"sk-estimator-id-3\" class=\"sk-toggleable__label sk-toggleable__label-arrow\">HistGradientBoostingClassifier</label><div class=\"sk-toggleable__content\"><pre>HistGradientBoostingClassifier()</pre></div></div></div></div></div>"
      ],
      "text/plain": [
       "HistGradientBoostingClassifier()"
      ]
     },
     "execution_count": 194,
     "metadata": {},
     "output_type": "execute_result"
    }
   ],
   "source": [
    "gb_clf.fit(train_X, trainy)"
   ]
  },
  {
   "cell_type": "code",
   "execution_count": 195,
   "id": "fc2e0546",
   "metadata": {},
   "outputs": [
    {
     "name": "stdout",
     "output_type": "stream",
     "text": [
      "Train Score:  0.9241596638655463\n"
     ]
    }
   ],
   "source": [
    "gb_score = gb_clf.score(train_X, trainy)\n",
    "print(\"Train Score: \", gb_score)"
   ]
  },
  {
   "cell_type": "code",
   "execution_count": 196,
   "id": "9c2106ac",
   "metadata": {},
   "outputs": [
    {
     "name": "stdout",
     "output_type": "stream",
     "text": [
      "CV average score: 0.75\n"
     ]
    }
   ],
   "source": [
    "gb_cv_scores = cross_val_score(gb_clf, train_X, trainy, cv=10)\n",
    "print(\"CV average score: %.2f\" % gb_cv_scores.mean())"
   ]
  },
  {
   "cell_type": "code",
   "execution_count": 197,
   "id": "9f3c22a3",
   "metadata": {},
   "outputs": [
    {
     "name": "stdout",
     "output_type": "stream",
     "text": [
      "GB test accuracy_score: 63.2258064516129\n"
     ]
    }
   ],
   "source": [
    "gb_accuracy_score = accuracy_score(testY,gb_clf.predict(test_X))*100\n",
    "print(\"GB test accuracy_score:\", gb_accuracy_score)"
   ]
  },
  {
   "cell_type": "raw",
   "id": "73ff8023",
   "metadata": {},
   "source": [
    "# Visualize the entire decision tree\n",
    "dot_data = export_graphviz(gb_clf, out_file=None, \n",
    "                           feature_names=train_X.columns, \n",
    "                           class_names=['0', '1'],\n",
    "                           filled=True, rounded=True, special_characters=True)\n",
    "\n",
    "graph = graphviz.Source(dot_data)\n",
    "graph.render(\"Tes23_11_decision_tree_gb\")  "
   ]
  },
  {
   "cell_type": "code",
   "execution_count": 198,
   "id": "f0f8c832",
   "metadata": {},
   "outputs": [
    {
     "data": {
      "text/plain": [
       "<sklearn.metrics._plot.roc_curve.RocCurveDisplay at 0x2b23f0d90>"
      ]
     },
     "execution_count": 198,
     "metadata": {},
     "output_type": "execute_result"
    },
    {
     "data": {
      "image/png": "[encoded data removed]",
      "text/plain": [
       "<Figure size 640x480 with 1 Axes>"
      ]
     },
     "metadata": {},
     "output_type": "display_data"
    }
   ],
   "source": [
    "RocCurveDisplay.from_estimator(gb_clf,test_X,testY)"
   ]
  },
  {
   "cell_type": "code",
   "execution_count": 199,
   "id": "66c6b036",
   "metadata": {},
   "outputs": [
    {
     "data": {
      "text/plain": [
       "<sklearn.metrics._plot.roc_curve.RocCurveDisplay at 0x2b260fbd0>"
      ]
     },
     "execution_count": 199,
     "metadata": {},
     "output_type": "execute_result"
    },
    {
     "data": {
      "image/png": "[encoded data removed]",
      "text/plain": [
       "<Figure size 640x480 with 1 Axes>"
      ]
     },
     "metadata": {},
     "output_type": "display_data"
    }
   ],
   "source": [
    "RocCurveDisplay.from_estimator(gb_clf,train_X, trainy)"
   ]
  },
  {
   "cell_type": "code",
   "execution_count": 200,
   "id": "773649d5",
   "metadata": {},
   "outputs": [
    {
     "data": {
      "image/png": "[encoded data removed]",
      "text/plain": [
       "<Figure size 640x480 with 2 Axes>"
      ]
     },
     "metadata": {},
     "output_type": "display_data"
    }
   ],
   "source": [
    "ConfusionMatrixDisplay.from_estimator(gb_clf, test_X, testY)  \n",
    "plt.show() "
   ]
  },
  {
   "cell_type": "code",
   "execution_count": null,
   "id": "e8742bed",
   "metadata": {},
   "outputs": [],
   "source": []
  },
  {
   "cell_type": "code",
   "execution_count": 201,
   "id": "71fb9beb",
   "metadata": {},
   "outputs": [
    {
     "data": {
      "image/png": "[encoded data removed]",
      "text/plain": [
       "<Figure size 640x480 with 2 Axes>"
      ]
     },
     "metadata": {},
     "output_type": "display_data"
    }
   ],
   "source": [
    "ConfusionMatrixDisplay.from_estimator(gb_clf, train_X, trainy)  \n",
    "plt.show() "
   ]
  },
  {
   "cell_type": "code",
   "execution_count": 202,
   "id": "74d5f5a8",
   "metadata": {},
   "outputs": [
    {
     "name": "stdout",
     "output_type": "stream",
     "text": [
      "[[654 360]\n",
      " [324 522]]\n"
     ]
    }
   ],
   "source": [
    "gb_ypred = gb_clf.predict(test_X)\n",
    "\n",
    "dtcm = confusion_matrix(testY, gb_ypred)\n",
    "print(dtcm)"
   ]
  },
  {
   "cell_type": "code",
   "execution_count": 203,
   "id": "06f14b1a",
   "metadata": {},
   "outputs": [
    {
     "name": "stdout",
     "output_type": "stream",
     "text": [
      "confusion matrix\n",
      " [[654 360]\n",
      " [324 522]]\n",
      "\n",
      "classification report\n",
      "               precision    recall  f1-score   support\n",
      "\n",
      "         0.0       0.67      0.64      0.66      1014\n",
      "         1.0       0.59      0.62      0.60       846\n",
      "\n",
      "    accuracy                           0.63      1860\n",
      "   macro avg       0.63      0.63      0.63      1860\n",
      "weighted avg       0.63      0.63      0.63      1860\n",
      "\n",
      "Accuracy:  63.2258064516129\n"
     ]
    }
   ],
   "source": [
    "print(\"confusion matrix\\n\",confusion_matrix(testY,gb_ypred))\n",
    "print(\"\\nclassification report\\n\",classification_report(testY,gb_ypred))\n",
    "print(\"Accuracy: \",accuracy_score(testY,gb_ypred)*100)"
   ]
  },
  {
   "cell_type": "code",
   "execution_count": null,
   "id": "04a59ff3",
   "metadata": {},
   "outputs": [],
   "source": []
  },
  {
   "cell_type": "code",
   "execution_count": 204,
   "id": "545d2b8c",
   "metadata": {},
   "outputs": [
    {
     "name": "stdout",
     "output_type": "stream",
     "text": [
      "Coefficient of determination of test data:\n",
      "-0.483066851315638\n"
     ]
    }
   ],
   "source": [
    "y_pred_test=gb_clf.predict(test_X)\n",
    "msqe_test=mean_squared_error(testY, y_pred_test)  \n",
    "var_test=np.var(testY) \n",
    "score_test=1-msqe_test/var_test\n",
    "\n",
    "\n",
    "print('Coefficient of determination of test data:')\n",
    "print(score_test)"
   ]
  },
  {
   "cell_type": "code",
   "execution_count": 205,
   "id": "b83cbd75",
   "metadata": {},
   "outputs": [
    {
     "name": "stdout",
     "output_type": "stream",
     "text": [
      "Coefficient of determination of train data:\n",
      "0.6916407466473002\n"
     ]
    }
   ],
   "source": [
    "#CALCULATE THE COEFFICIENT OF DETERMINATION ON TRAIN DATA\n",
    "y_pred_train=gb_clf.predict(train_X)\n",
    "msqe_train=mean_squared_error(trainy, y_pred_train) \n",
    "var_train=np.var(trainy)\n",
    "score_train=1-msqe_train/var_train\n",
    "\n",
    "print('Coefficient of determination of train data:')\n",
    "print(score_train)"
   ]
  },
  {
   "cell_type": "code",
   "execution_count": null,
   "id": "ad8d1bc9",
   "metadata": {},
   "outputs": [],
   "source": []
  },
  {
   "cell_type": "code",
   "execution_count": 206,
   "id": "f9cb7e1d",
   "metadata": {},
   "outputs": [],
   "source": [
    "from sklearn.ensemble import BaggingClassifier as BC\n",
    "Bag_clf = BC()"
   ]
  },
  {
   "cell_type": "code",
   "execution_count": 207,
   "id": "48155804",
   "metadata": {},
   "outputs": [
    {
     "data": {
      "text/html": [
       "<style>#sk-container-id-4 {color: black;}#sk-container-id-4 pre{padding: 0;}#sk-container-id-4 div.sk-toggleable {background-color: white;}#sk-container-id-4 label.sk-toggleable__label {cursor: pointer;display: block;width: 100%;margin-bottom: 0;padding: 0.3em;box-sizing: border-box;text-align: center;}#sk-container-id-4 label.sk-toggleable__label-arrow:before {content: \"▸\";float: left;margin-right: 0.25em;color: #696969;}#sk-container-id-4 label.sk-toggleable__label-arrow:hover:before {color: black;}#sk-container-id-4 div.sk-estimator:hover label.sk-toggleable__label-arrow:before {color: black;}#sk-container-id-4 div.sk-toggleable__content {max-height: 0;max-width: 0;overflow: hidden;text-align: left;background-color: #f0f8ff;}#sk-container-id-4 div.sk-toggleable__content pre {margin: 0.2em;color: black;border-radius: 0.25em;background-color: #f0f8ff;}#sk-container-id-4 input.sk-toggleable__control:checked~div.sk-toggleable__content {max-height: 200px;max-width: 100%;overflow: auto;}#sk-container-id-4 input.sk-toggleable__control:checked~label.sk-toggleable__label-arrow:before {content: \"▾\";}#sk-container-id-4 div.sk-estimator input.sk-toggleable__control:checked~label.sk-toggleable__label {background-color: #d4ebff;}#sk-container-id-4 div.sk-label input.sk-toggleable__control:checked~label.sk-toggleable__label {background-color: #d4ebff;}#sk-container-id-4 input.sk-hidden--visually {border: 0;clip: rect(1px 1px 1px 1px);clip: rect(1px, 1px, 1px, 1px);height: 1px;margin: -1px;overflow: hidden;padding: 0;position: absolute;width: 1px;}#sk-container-id-4 div.sk-estimator {font-family: monospace;background-color: #f0f8ff;border: 1px dotted black;border-radius: 0.25em;box-sizing: border-box;margin-bottom: 0.5em;}#sk-container-id-4 div.sk-estimator:hover {background-color: #d4ebff;}#sk-container-id-4 div.sk-parallel-item::after {content: \"\";width: 100%;border-bottom: 1px solid gray;flex-grow: 1;}#sk-container-id-4 div.sk-label:hover label.sk-toggleable__label {background-color: #d4ebff;}#sk-container-id-4 div.sk-serial::before {content: \"\";position: absolute;border-left: 1px solid gray;box-sizing: border-box;top: 0;bottom: 0;left: 50%;z-index: 0;}#sk-container-id-4 div.sk-serial {display: flex;flex-direction: column;align-items: center;background-color: white;padding-right: 0.2em;padding-left: 0.2em;position: relative;}#sk-container-id-4 div.sk-item {position: relative;z-index: 1;}#sk-container-id-4 div.sk-parallel {display: flex;align-items: stretch;justify-content: center;background-color: white;position: relative;}#sk-container-id-4 div.sk-item::before, #sk-container-id-4 div.sk-parallel-item::before {content: \"\";position: absolute;border-left: 1px solid gray;box-sizing: border-box;top: 0;bottom: 0;left: 50%;z-index: -1;}#sk-container-id-4 div.sk-parallel-item {display: flex;flex-direction: column;z-index: 1;position: relative;background-color: white;}#sk-container-id-4 div.sk-parallel-item:first-child::after {align-self: flex-end;width: 50%;}#sk-container-id-4 div.sk-parallel-item:last-child::after {align-self: flex-start;width: 50%;}#sk-container-id-4 div.sk-parallel-item:only-child::after {width: 0;}#sk-container-id-4 div.sk-dashed-wrapped {border: 1px dashed gray;margin: 0 0.4em 0.5em 0.4em;box-sizing: border-box;padding-bottom: 0.4em;background-color: white;}#sk-container-id-4 div.sk-label label {font-family: monospace;font-weight: bold;display: inline-block;line-height: 1.2em;}#sk-container-id-4 div.sk-label-container {text-align: center;}#sk-container-id-4 div.sk-container {/* jupyter's `normalize.less` sets `[hidden] { display: none; }` but bootstrap.min.css set `[hidden] { display: none !important; }` so we also need the `!important` here to be able to override the default hidden behavior on the sphinx rendered scikit-learn.org. See: https://github.com/scikit-learn/scikit-learn/issues/21755 */display: inline-block !important;position: relative;}#sk-container-id-4 div.sk-text-repr-fallback {display: none;}</style><div id=\"sk-container-id-4\" class=\"sk-top-container\"><div class=\"sk-text-repr-fallback\"><pre>BaggingClassifier()</pre><b>In a Jupyter environment, please rerun this cell to show the HTML representation or trust the notebook. <br />On GitHub, the HTML representation is unable to render, please try loading this page with nbviewer.org.</b></div><div class=\"sk-container\" hidden><div class=\"sk-item\"><div class=\"sk-estimator sk-toggleable\"><input class=\"sk-toggleable__control sk-hidden--visually\" id=\"sk-estimator-id-4\" type=\"checkbox\" checked><label for=\"sk-estimator-id-4\" class=\"sk-toggleable__label sk-toggleable__label-arrow\">BaggingClassifier</label><div class=\"sk-toggleable__content\"><pre>BaggingClassifier()</pre></div></div></div></div></div>"
      ],
      "text/plain": [
       "BaggingClassifier()"
      ]
     },
     "execution_count": 207,
     "metadata": {},
     "output_type": "execute_result"
    }
   ],
   "source": [
    "Bag_clf.fit(train_X, trainy)"
   ]
  },
  {
   "cell_type": "code",
   "execution_count": 208,
   "id": "3bb69328",
   "metadata": {},
   "outputs": [
    {
     "name": "stdout",
     "output_type": "stream",
     "text": [
      "Train Score:  0.9182773109243697\n"
     ]
    }
   ],
   "source": [
    "bgb_score = Bag_clf.score(train_X, trainy)\n",
    "print(\"Train Score: \", bgb_score)"
   ]
  },
  {
   "cell_type": "code",
   "execution_count": 209,
   "id": "f8eafc8a",
   "metadata": {},
   "outputs": [
    {
     "name": "stdout",
     "output_type": "stream",
     "text": [
      "CV average score: 0.59\n"
     ]
    }
   ],
   "source": [
    "bgb_cv_scores = cross_val_score(Bag_clf, train_X, trainy, cv=10)\n",
    "print(\"CV average score: %.2f\" % bgb_cv_scores.mean())"
   ]
  },
  {
   "cell_type": "code",
   "execution_count": 210,
   "id": "1f011f78",
   "metadata": {},
   "outputs": [
    {
     "name": "stdout",
     "output_type": "stream",
     "text": [
      "GB test accuracy_score: 57.15053763440861\n"
     ]
    }
   ],
   "source": [
    "bgb_accuracy_score = accuracy_score(testY,Bag_clf.predict(test_X))*100\n",
    "print(\"GB test accuracy_score:\", bgb_accuracy_score)"
   ]
  },
  {
   "cell_type": "code",
   "execution_count": 211,
   "id": "b12c4a33",
   "metadata": {},
   "outputs": [
    {
     "data": {
      "text/plain": [
       "<sklearn.metrics._plot.roc_curve.RocCurveDisplay at 0x2a3b73190>"
      ]
     },
     "execution_count": 211,
     "metadata": {},
     "output_type": "execute_result"
    },
    {
     "data": {
      "image/png": "[encoded data removed]",
      "text/plain": [
       "<Figure size 640x480 with 1 Axes>"
      ]
     },
     "metadata": {},
     "output_type": "display_data"
    }
   ],
   "source": [
    "RocCurveDisplay.from_estimator(Bag_clf,test_X,testY)"
   ]
  },
  {
   "cell_type": "code",
   "execution_count": 212,
   "id": "a4f0fa63",
   "metadata": {},
   "outputs": [
    {
     "data": {
      "text/plain": [
       "<sklearn.metrics._plot.roc_curve.RocCurveDisplay at 0x2b2522b10>"
      ]
     },
     "execution_count": 212,
     "metadata": {},
     "output_type": "execute_result"
    },
    {
     "data": {
      "image/png": "[encoded data removed]",
      "text/plain": [
       "<Figure size 640x480 with 1 Axes>"
      ]
     },
     "metadata": {},
     "output_type": "display_data"
    }
   ],
   "source": [
    "RocCurveDisplay.from_estimator(Bag_clf,train_X, trainy)"
   ]
  },
  {
   "cell_type": "code",
   "execution_count": 213,
   "id": "14c7fc45",
   "metadata": {},
   "outputs": [
    {
     "data": {
      "image/png": "[encoded data removed]",
      "text/plain": [
       "<Figure size 640x480 with 2 Axes>"
      ]
     },
     "metadata": {},
     "output_type": "display_data"
    }
   ],
   "source": [
    "ConfusionMatrixDisplay.from_estimator(Bag_clf, test_X, testY)  \n",
    "plt.show() "
   ]
  },
  {
   "cell_type": "code",
   "execution_count": 214,
   "id": "5b781183",
   "metadata": {},
   "outputs": [
    {
     "data": {
      "image/png": "[encoded data removed]",
      "text/plain": [
       "<Figure size 640x480 with 2 Axes>"
      ]
     },
     "metadata": {},
     "output_type": "display_data"
    }
   ],
   "source": [
    "ConfusionMatrixDisplay.from_estimator(Bag_clf, train_X, trainy)  \n",
    "plt.show() "
   ]
  },
  {
   "cell_type": "code",
   "execution_count": 215,
   "id": "f64ce467",
   "metadata": {},
   "outputs": [
    {
     "name": "stdout",
     "output_type": "stream",
     "text": [
      "[[624 390]\n",
      " [407 439]]\n"
     ]
    }
   ],
   "source": [
    "bgb_ypred = Bag_clf.predict(test_X)\n",
    "\n",
    "dtcm = confusion_matrix(testY, bgb_ypred)\n",
    "print(dtcm)"
   ]
  },
  {
   "cell_type": "code",
   "execution_count": 216,
   "id": "dc53173c",
   "metadata": {},
   "outputs": [
    {
     "name": "stdout",
     "output_type": "stream",
     "text": [
      "confusion matrix\n",
      " [[624 390]\n",
      " [407 439]]\n",
      "\n",
      "classification report\n",
      "               precision    recall  f1-score   support\n",
      "\n",
      "         0.0       0.61      0.62      0.61      1014\n",
      "         1.0       0.53      0.52      0.52       846\n",
      "\n",
      "    accuracy                           0.57      1860\n",
      "   macro avg       0.57      0.57      0.57      1860\n",
      "weighted avg       0.57      0.57      0.57      1860\n",
      "\n",
      "Accuracy:  57.15053763440861\n"
     ]
    }
   ],
   "source": [
    "print(\"confusion matrix\\n\",confusion_matrix(testY,bgb_ypred))\n",
    "print(\"\\nclassification report\\n\",classification_report(testY,bgb_ypred))\n",
    "print(\"Accuracy: \",accuracy_score(testY,bgb_ypred)*100)"
   ]
  },
  {
   "cell_type": "code",
   "execution_count": null,
   "id": "f95bd603",
   "metadata": {},
   "outputs": [],
   "source": []
  },
  {
   "cell_type": "code",
   "execution_count": null,
   "id": "3497789e",
   "metadata": {},
   "outputs": [],
   "source": []
  },
  {
   "cell_type": "code",
   "execution_count": null,
   "id": "8a6746d4",
   "metadata": {},
   "outputs": [],
   "source": []
  }
 ],
 "metadata": {
  "kernelspec": {
   "display_name": "Python 3 (ipykernel)",
   "language": "python",
   "name": "python3"
  },
  "language_info": {
   "codemirror_mode": {
    "name": "ipython",
    "version": 3
   },
   "file_extension": ".py",
   "mimetype": "text/x-python",
   "name": "python",
   "nbconvert_exporter": "python",
   "pygments_lexer": "ipython3",
   "version": "3.11.5"
  }
 },
 "nbformat": 4,
 "nbformat_minor": 5
}
